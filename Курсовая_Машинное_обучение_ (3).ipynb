{
  "cells": [
    {
      "cell_type": "markdown",
      "source": [
        "### Необходимые библиотеки"
      ],
      "metadata": {
        "id": "NdojgGFIQI3_"
      },
      "id": "NdojgGFIQI3_"
    },
    {
      "cell_type": "code",
      "execution_count": 4,
      "id": "75b32c80",
      "metadata": {
        "id": "75b32c80"
      },
      "outputs": [],
      "source": [
        "import pandas as pd\n",
        "import numpy as np\n",
        "import matplotlib.pyplot as plt\n",
        "import matplotlib\n",
        "\n",
        "from sklearn.ensemble import RandomForestClassifier\n",
        "from sklearn.metrics import precision_score\n",
        "from sklearn.metrics import recall_score\n",
        "from sklearn.metrics import f1_score\n",
        "from sklearn.model_selection import learning_curve\n",
        "import yfinance as yf\n",
        "\n",
        "matplotlib.style.use('seaborn')\n",
        "\n",
        "from sklearn.linear_model import LogisticRegression\n",
        "from sklearn.neighbors import KNeighborsClassifier\n",
        "from sklearn.ensemble import RandomForestClassifier\n",
        "from sklearn.tree import DecisionTreeClassifier\n",
        "from sklearn.neural_network import MLPClassifier\n",
        "from sklearn.naive_bayes import MultinomialNB\n",
        "from sklearn.svm import SVC"
      ]
    },
    {
      "cell_type": "markdown",
      "id": "728dd3ed",
      "metadata": {
        "id": "728dd3ed"
      },
      "source": [
        "### Анализ входных данных"
      ]
    },
    {
      "cell_type": "markdown",
      "source": [
        "Цель моей курсовой работы – основываясь на исторических данных котировок акций уметь предсказывать рост или падение цены акции в разрезе 1 дня. То есть я решаю задачу классификации, где 1 – рост акции, 0 – падение акции.\n",
        "Первая задача, которую я решил в своей курсовой работе – выбор набора данных и его анализ. С помощью библиотеки yfinance я могу получить котировки любой компании, акции которой торгуются на американской бирже NASDAQ. Я решил выбрать Microsoft – компанию с многолетней историей, которая является одним из мировых лидеров в области информационных технологий. С помощью библиотеки yfinance я загрузил данные за весь период торгов акций компании. Шаг датасата по таймлайну – 1 день.\n"
      ],
      "metadata": {
        "id": "kGFK8dUF5Qk9"
      },
      "id": "kGFK8dUF5Qk9"
    },
    {
      "cell_type": "code",
      "execution_count": 5,
      "id": "cc014840",
      "metadata": {
        "id": "cc014840"
      },
      "outputs": [],
      "source": [
        "msft = yf.Ticker(\"MSFT\")\n",
        "msft_hist = msft.history(period=\"max\")"
      ]
    },
    {
      "cell_type": "code",
      "execution_count": 6,
      "id": "199afd63",
      "metadata": {
        "colab": {
          "base_uri": "https://localhost:8080/",
          "height": 238
        },
        "id": "199afd63",
        "outputId": "5be2f624-5371-47fb-9f3e-aa16d05e720b"
      },
      "outputs": [
        {
          "output_type": "execute_result",
          "data": {
            "text/plain": [
              "                               Open      High       Low     Close      Volume  \\\n",
              "Date                                                                            \n",
              "1986-03-13 00:00:00-05:00  0.055380  0.063524  0.055380  0.060809  1031788800   \n",
              "1986-03-14 00:00:00-05:00  0.060809  0.064067  0.060809  0.062980   308160000   \n",
              "1986-03-17 00:00:00-05:00  0.062980  0.064609  0.062980  0.064067   133171200   \n",
              "1986-03-18 00:00:00-05:00  0.064067  0.064609  0.061894  0.062437    67766400   \n",
              "1986-03-19 00:00:00-05:00  0.062437  0.062980  0.060809  0.061351    47894400   \n",
              "\n",
              "                           Dividends  Stock Splits  \n",
              "Date                                                \n",
              "1986-03-13 00:00:00-05:00        0.0           0.0  \n",
              "1986-03-14 00:00:00-05:00        0.0           0.0  \n",
              "1986-03-17 00:00:00-05:00        0.0           0.0  \n",
              "1986-03-18 00:00:00-05:00        0.0           0.0  \n",
              "1986-03-19 00:00:00-05:00        0.0           0.0  "
            ],
            "text/html": [
              "\n",
              "  <div id=\"df-2aeca78a-dc67-481c-9916-05e74e2db484\">\n",
              "    <div class=\"colab-df-container\">\n",
              "      <div>\n",
              "<style scoped>\n",
              "    .dataframe tbody tr th:only-of-type {\n",
              "        vertical-align: middle;\n",
              "    }\n",
              "\n",
              "    .dataframe tbody tr th {\n",
              "        vertical-align: top;\n",
              "    }\n",
              "\n",
              "    .dataframe thead th {\n",
              "        text-align: right;\n",
              "    }\n",
              "</style>\n",
              "<table border=\"1\" class=\"dataframe\">\n",
              "  <thead>\n",
              "    <tr style=\"text-align: right;\">\n",
              "      <th></th>\n",
              "      <th>Open</th>\n",
              "      <th>High</th>\n",
              "      <th>Low</th>\n",
              "      <th>Close</th>\n",
              "      <th>Volume</th>\n",
              "      <th>Dividends</th>\n",
              "      <th>Stock Splits</th>\n",
              "    </tr>\n",
              "    <tr>\n",
              "      <th>Date</th>\n",
              "      <th></th>\n",
              "      <th></th>\n",
              "      <th></th>\n",
              "      <th></th>\n",
              "      <th></th>\n",
              "      <th></th>\n",
              "      <th></th>\n",
              "    </tr>\n",
              "  </thead>\n",
              "  <tbody>\n",
              "    <tr>\n",
              "      <th>1986-03-13 00:00:00-05:00</th>\n",
              "      <td>0.055380</td>\n",
              "      <td>0.063524</td>\n",
              "      <td>0.055380</td>\n",
              "      <td>0.060809</td>\n",
              "      <td>1031788800</td>\n",
              "      <td>0.0</td>\n",
              "      <td>0.0</td>\n",
              "    </tr>\n",
              "    <tr>\n",
              "      <th>1986-03-14 00:00:00-05:00</th>\n",
              "      <td>0.060809</td>\n",
              "      <td>0.064067</td>\n",
              "      <td>0.060809</td>\n",
              "      <td>0.062980</td>\n",
              "      <td>308160000</td>\n",
              "      <td>0.0</td>\n",
              "      <td>0.0</td>\n",
              "    </tr>\n",
              "    <tr>\n",
              "      <th>1986-03-17 00:00:00-05:00</th>\n",
              "      <td>0.062980</td>\n",
              "      <td>0.064609</td>\n",
              "      <td>0.062980</td>\n",
              "      <td>0.064067</td>\n",
              "      <td>133171200</td>\n",
              "      <td>0.0</td>\n",
              "      <td>0.0</td>\n",
              "    </tr>\n",
              "    <tr>\n",
              "      <th>1986-03-18 00:00:00-05:00</th>\n",
              "      <td>0.064067</td>\n",
              "      <td>0.064609</td>\n",
              "      <td>0.061894</td>\n",
              "      <td>0.062437</td>\n",
              "      <td>67766400</td>\n",
              "      <td>0.0</td>\n",
              "      <td>0.0</td>\n",
              "    </tr>\n",
              "    <tr>\n",
              "      <th>1986-03-19 00:00:00-05:00</th>\n",
              "      <td>0.062437</td>\n",
              "      <td>0.062980</td>\n",
              "      <td>0.060809</td>\n",
              "      <td>0.061351</td>\n",
              "      <td>47894400</td>\n",
              "      <td>0.0</td>\n",
              "      <td>0.0</td>\n",
              "    </tr>\n",
              "  </tbody>\n",
              "</table>\n",
              "</div>\n",
              "      <button class=\"colab-df-convert\" onclick=\"convertToInteractive('df-2aeca78a-dc67-481c-9916-05e74e2db484')\"\n",
              "              title=\"Convert this dataframe to an interactive table.\"\n",
              "              style=\"display:none;\">\n",
              "        \n",
              "  <svg xmlns=\"http://www.w3.org/2000/svg\" height=\"24px\"viewBox=\"0 0 24 24\"\n",
              "       width=\"24px\">\n",
              "    <path d=\"M0 0h24v24H0V0z\" fill=\"none\"/>\n",
              "    <path d=\"M18.56 5.44l.94 2.06.94-2.06 2.06-.94-2.06-.94-.94-2.06-.94 2.06-2.06.94zm-11 1L8.5 8.5l.94-2.06 2.06-.94-2.06-.94L8.5 2.5l-.94 2.06-2.06.94zm10 10l.94 2.06.94-2.06 2.06-.94-2.06-.94-.94-2.06-.94 2.06-2.06.94z\"/><path d=\"M17.41 7.96l-1.37-1.37c-.4-.4-.92-.59-1.43-.59-.52 0-1.04.2-1.43.59L10.3 9.45l-7.72 7.72c-.78.78-.78 2.05 0 2.83L4 21.41c.39.39.9.59 1.41.59.51 0 1.02-.2 1.41-.59l7.78-7.78 2.81-2.81c.8-.78.8-2.07 0-2.86zM5.41 20L4 18.59l7.72-7.72 1.47 1.35L5.41 20z\"/>\n",
              "  </svg>\n",
              "      </button>\n",
              "      \n",
              "  <style>\n",
              "    .colab-df-container {\n",
              "      display:flex;\n",
              "      flex-wrap:wrap;\n",
              "      gap: 12px;\n",
              "    }\n",
              "\n",
              "    .colab-df-convert {\n",
              "      background-color: #E8F0FE;\n",
              "      border: none;\n",
              "      border-radius: 50%;\n",
              "      cursor: pointer;\n",
              "      display: none;\n",
              "      fill: #1967D2;\n",
              "      height: 32px;\n",
              "      padding: 0 0 0 0;\n",
              "      width: 32px;\n",
              "    }\n",
              "\n",
              "    .colab-df-convert:hover {\n",
              "      background-color: #E2EBFA;\n",
              "      box-shadow: 0px 1px 2px rgba(60, 64, 67, 0.3), 0px 1px 3px 1px rgba(60, 64, 67, 0.15);\n",
              "      fill: #174EA6;\n",
              "    }\n",
              "\n",
              "    [theme=dark] .colab-df-convert {\n",
              "      background-color: #3B4455;\n",
              "      fill: #D2E3FC;\n",
              "    }\n",
              "\n",
              "    [theme=dark] .colab-df-convert:hover {\n",
              "      background-color: #434B5C;\n",
              "      box-shadow: 0px 1px 3px 1px rgba(0, 0, 0, 0.15);\n",
              "      filter: drop-shadow(0px 1px 2px rgba(0, 0, 0, 0.3));\n",
              "      fill: #FFFFFF;\n",
              "    }\n",
              "  </style>\n",
              "\n",
              "      <script>\n",
              "        const buttonEl =\n",
              "          document.querySelector('#df-2aeca78a-dc67-481c-9916-05e74e2db484 button.colab-df-convert');\n",
              "        buttonEl.style.display =\n",
              "          google.colab.kernel.accessAllowed ? 'block' : 'none';\n",
              "\n",
              "        async function convertToInteractive(key) {\n",
              "          const element = document.querySelector('#df-2aeca78a-dc67-481c-9916-05e74e2db484');\n",
              "          const dataTable =\n",
              "            await google.colab.kernel.invokeFunction('convertToInteractive',\n",
              "                                                     [key], {});\n",
              "          if (!dataTable) return;\n",
              "\n",
              "          const docLinkHtml = 'Like what you see? Visit the ' +\n",
              "            '<a target=\"_blank\" href=https://colab.research.google.com/notebooks/data_table.ipynb>data table notebook</a>'\n",
              "            + ' to learn more about interactive tables.';\n",
              "          element.innerHTML = '';\n",
              "          dataTable['output_type'] = 'display_data';\n",
              "          await google.colab.output.renderOutput(dataTable, element);\n",
              "          const docLink = document.createElement('div');\n",
              "          docLink.innerHTML = docLinkHtml;\n",
              "          element.appendChild(docLink);\n",
              "        }\n",
              "      </script>\n",
              "    </div>\n",
              "  </div>\n",
              "  "
            ]
          },
          "metadata": {},
          "execution_count": 6
        }
      ],
      "source": [
        "msft_hist.head()"
      ]
    },
    {
      "cell_type": "markdown",
      "source": [
        "При анализе данных я построил график цены акции. Можно отметить, что начиная с 1986 цена акции росла достаточно медленно, однако примерно в 2015 начался крайне бурный рост. Однако в конце 2021 года началось стремительное падение, которое было связано с ухудшением ситуации на мировом рынке."
      ],
      "metadata": {
        "id": "nc1gUkIFW7Cb"
      },
      "id": "nc1gUkIFW7Cb"
    },
    {
      "cell_type": "code",
      "execution_count": 7,
      "id": "9a123040",
      "metadata": {
        "colab": {
          "base_uri": "https://localhost:8080/",
          "height": 341
        },
        "id": "9a123040",
        "outputId": "9efaf06c-e63d-49d4-8185-1f51ec1f1f4b"
      },
      "outputs": [
        {
          "output_type": "display_data",
          "data": {
            "text/plain": [
              "<Figure size 576x396 with 1 Axes>"
            ],
            "image/png": "[encoded data removed]"
          },
          "metadata": {}
        }
      ],
      "source": [
        "msft_hist.plot.line(y='Close', use_index=True)\n",
        "plt.show()"
      ]
    },
    {
      "cell_type": "markdown",
      "source": [
        "Информация о датасете"
      ],
      "metadata": {
        "id": "XvQUVrQdWywT"
      },
      "id": "XvQUVrQdWywT"
    },
    {
      "cell_type": "code",
      "execution_count": 8,
      "id": "f1e9e06c",
      "metadata": {
        "colab": {
          "base_uri": "https://localhost:8080/"
        },
        "id": "f1e9e06c",
        "outputId": "4eb7bab9-ca81-4255-a402-ba6a5d840299"
      },
      "outputs": [
        {
          "output_type": "stream",
          "name": "stdout",
          "text": [
            "<class 'pandas.core.frame.DataFrame'>\n",
            "DatetimeIndex: 9270 entries, 1986-03-13 00:00:00-05:00 to 2022-12-20 00:00:00-05:00\n",
            "Data columns (total 7 columns):\n",
            " #   Column        Non-Null Count  Dtype  \n",
            "---  ------        --------------  -----  \n",
            " 0   Open          9270 non-null   float64\n",
            " 1   High          9270 non-null   float64\n",
            " 2   Low           9270 non-null   float64\n",
            " 3   Close         9270 non-null   float64\n",
            " 4   Volume        9270 non-null   int64  \n",
            " 5   Dividends     9270 non-null   float64\n",
            " 6   Stock Splits  9270 non-null   float64\n",
            "dtypes: float64(6), int64(1)\n",
            "memory usage: 837.4 KB\n"
          ]
        }
      ],
      "source": [
        "msft_hist.info()"
      ]
    },
    {
      "cell_type": "markdown",
      "id": "accdba6d",
      "metadata": {
        "id": "accdba6d"
      },
      "source": [
        "### Подготовка данных"
      ]
    },
    {
      "cell_type": "markdown",
      "source": [
        "Сперва я копирую данные столбца Close в рабочий датасет data, и переименовываю его в Actual_Close, для того чтобы знать, какая реальная цена была в тот или иной день."
      ],
      "metadata": {
        "id": "VRCxPV4SXHU_"
      },
      "id": "VRCxPV4SXHU_"
    },
    {
      "cell_type": "code",
      "execution_count": 9,
      "id": "e0a63471",
      "metadata": {
        "colab": {
          "base_uri": "https://localhost:8080/",
          "height": 238
        },
        "id": "e0a63471",
        "outputId": "d3278192-6f28-4af3-877d-0ac4185134d8"
      },
      "outputs": [
        {
          "output_type": "execute_result",
          "data": {
            "text/plain": [
              "                           Actual_Close\n",
              "Date                                   \n",
              "1986-03-13 00:00:00-05:00      0.060809\n",
              "1986-03-14 00:00:00-05:00      0.062980\n",
              "1986-03-17 00:00:00-05:00      0.064067\n",
              "1986-03-18 00:00:00-05:00      0.062437\n",
              "1986-03-19 00:00:00-05:00      0.061351"
            ],
            "text/html": [
              "\n",
              "  <div id=\"df-5a14ebba-62a8-4725-8afb-f167d6cda1b3\">\n",
              "    <div class=\"colab-df-container\">\n",
              "      <div>\n",
              "<style scoped>\n",
              "    .dataframe tbody tr th:only-of-type {\n",
              "        vertical-align: middle;\n",
              "    }\n",
              "\n",
              "    .dataframe tbody tr th {\n",
              "        vertical-align: top;\n",
              "    }\n",
              "\n",
              "    .dataframe thead th {\n",
              "        text-align: right;\n",
              "    }\n",
              "</style>\n",
              "<table border=\"1\" class=\"dataframe\">\n",
              "  <thead>\n",
              "    <tr style=\"text-align: right;\">\n",
              "      <th></th>\n",
              "      <th>Actual_Close</th>\n",
              "    </tr>\n",
              "    <tr>\n",
              "      <th>Date</th>\n",
              "      <th></th>\n",
              "    </tr>\n",
              "  </thead>\n",
              "  <tbody>\n",
              "    <tr>\n",
              "      <th>1986-03-13 00:00:00-05:00</th>\n",
              "      <td>0.060809</td>\n",
              "    </tr>\n",
              "    <tr>\n",
              "      <th>1986-03-14 00:00:00-05:00</th>\n",
              "      <td>0.062980</td>\n",
              "    </tr>\n",
              "    <tr>\n",
              "      <th>1986-03-17 00:00:00-05:00</th>\n",
              "      <td>0.064067</td>\n",
              "    </tr>\n",
              "    <tr>\n",
              "      <th>1986-03-18 00:00:00-05:00</th>\n",
              "      <td>0.062437</td>\n",
              "    </tr>\n",
              "    <tr>\n",
              "      <th>1986-03-19 00:00:00-05:00</th>\n",
              "      <td>0.061351</td>\n",
              "    </tr>\n",
              "  </tbody>\n",
              "</table>\n",
              "</div>\n",
              "      <button class=\"colab-df-convert\" onclick=\"convertToInteractive('df-5a14ebba-62a8-4725-8afb-f167d6cda1b3')\"\n",
              "              title=\"Convert this dataframe to an interactive table.\"\n",
              "              style=\"display:none;\">\n",
              "        \n",
              "  <svg xmlns=\"http://www.w3.org/2000/svg\" height=\"24px\"viewBox=\"0 0 24 24\"\n",
              "       width=\"24px\">\n",
              "    <path d=\"M0 0h24v24H0V0z\" fill=\"none\"/>\n",
              "    <path d=\"M18.56 5.44l.94 2.06.94-2.06 2.06-.94-2.06-.94-.94-2.06-.94 2.06-2.06.94zm-11 1L8.5 8.5l.94-2.06 2.06-.94-2.06-.94L8.5 2.5l-.94 2.06-2.06.94zm10 10l.94 2.06.94-2.06 2.06-.94-2.06-.94-.94-2.06-.94 2.06-2.06.94z\"/><path d=\"M17.41 7.96l-1.37-1.37c-.4-.4-.92-.59-1.43-.59-.52 0-1.04.2-1.43.59L10.3 9.45l-7.72 7.72c-.78.78-.78 2.05 0 2.83L4 21.41c.39.39.9.59 1.41.59.51 0 1.02-.2 1.41-.59l7.78-7.78 2.81-2.81c.8-.78.8-2.07 0-2.86zM5.41 20L4 18.59l7.72-7.72 1.47 1.35L5.41 20z\"/>\n",
              "  </svg>\n",
              "      </button>\n",
              "      \n",
              "  <style>\n",
              "    .colab-df-container {\n",
              "      display:flex;\n",
              "      flex-wrap:wrap;\n",
              "      gap: 12px;\n",
              "    }\n",
              "\n",
              "    .colab-df-convert {\n",
              "      background-color: #E8F0FE;\n",
              "      border: none;\n",
              "      border-radius: 50%;\n",
              "      cursor: pointer;\n",
              "      display: none;\n",
              "      fill: #1967D2;\n",
              "      height: 32px;\n",
              "      padding: 0 0 0 0;\n",
              "      width: 32px;\n",
              "    }\n",
              "\n",
              "    .colab-df-convert:hover {\n",
              "      background-color: #E2EBFA;\n",
              "      box-shadow: 0px 1px 2px rgba(60, 64, 67, 0.3), 0px 1px 3px 1px rgba(60, 64, 67, 0.15);\n",
              "      fill: #174EA6;\n",
              "    }\n",
              "\n",
              "    [theme=dark] .colab-df-convert {\n",
              "      background-color: #3B4455;\n",
              "      fill: #D2E3FC;\n",
              "    }\n",
              "\n",
              "    [theme=dark] .colab-df-convert:hover {\n",
              "      background-color: #434B5C;\n",
              "      box-shadow: 0px 1px 3px 1px rgba(0, 0, 0, 0.15);\n",
              "      filter: drop-shadow(0px 1px 2px rgba(0, 0, 0, 0.3));\n",
              "      fill: #FFFFFF;\n",
              "    }\n",
              "  </style>\n",
              "\n",
              "      <script>\n",
              "        const buttonEl =\n",
              "          document.querySelector('#df-5a14ebba-62a8-4725-8afb-f167d6cda1b3 button.colab-df-convert');\n",
              "        buttonEl.style.display =\n",
              "          google.colab.kernel.accessAllowed ? 'block' : 'none';\n",
              "\n",
              "        async function convertToInteractive(key) {\n",
              "          const element = document.querySelector('#df-5a14ebba-62a8-4725-8afb-f167d6cda1b3');\n",
              "          const dataTable =\n",
              "            await google.colab.kernel.invokeFunction('convertToInteractive',\n",
              "                                                     [key], {});\n",
              "          if (!dataTable) return;\n",
              "\n",
              "          const docLinkHtml = 'Like what you see? Visit the ' +\n",
              "            '<a target=\"_blank\" href=https://colab.research.google.com/notebooks/data_table.ipynb>data table notebook</a>'\n",
              "            + ' to learn more about interactive tables.';\n",
              "          element.innerHTML = '';\n",
              "          dataTable['output_type'] = 'display_data';\n",
              "          await google.colab.output.renderOutput(dataTable, element);\n",
              "          const docLink = document.createElement('div');\n",
              "          docLink.innerHTML = docLinkHtml;\n",
              "          element.appendChild(docLink);\n",
              "        }\n",
              "      </script>\n",
              "    </div>\n",
              "  </div>\n",
              "  "
            ]
          },
          "metadata": {},
          "execution_count": 9
        }
      ],
      "source": [
        "data = msft_hist[['Close']]\n",
        "data = data.rename(columns={'Close': 'Actual_Close'})\n",
        "data.head()"
      ]
    },
    {
      "cell_type": "markdown",
      "source": [
        "Далее я создаю колонку Target – которую и собираюсь предсказывать. Для этого я использую метод rolling, который агрегирует данные по текущей строке и по n-1 предыдущим строкам (n указывается как параметр метода, в моем случае n=2). Затем я применяю метод apply и lambda-функцию, с помощью которых создаю таргет (если значение предыдущего дня строго меньше значения текущего дня, то таргет равен 1)."
      ],
      "metadata": {
        "id": "7NtxV9KhXY2p"
      },
      "id": "7NtxV9KhXY2p"
    },
    {
      "cell_type": "code",
      "execution_count": 10,
      "id": "0b4e6e9c",
      "metadata": {
        "colab": {
          "base_uri": "https://localhost:8080/",
          "height": 238
        },
        "id": "0b4e6e9c",
        "outputId": "246973a2-41ff-45f1-d77b-23a69de1ae3f"
      },
      "outputs": [
        {
          "output_type": "execute_result",
          "data": {
            "text/plain": [
              "                           Actual_Close  Target\n",
              "Date                                           \n",
              "1986-03-13 00:00:00-05:00      0.060809     NaN\n",
              "1986-03-14 00:00:00-05:00      0.062980     1.0\n",
              "1986-03-17 00:00:00-05:00      0.064067     1.0\n",
              "1986-03-18 00:00:00-05:00      0.062437     0.0\n",
              "1986-03-19 00:00:00-05:00      0.061351     0.0"
            ],
            "text/html": [
              "\n",
              "  <div id=\"df-da88f6d6-83b4-4bd5-90df-a8420c54b4b6\">\n",
              "    <div class=\"colab-df-container\">\n",
              "      <div>\n",
              "<style scoped>\n",
              "    .dataframe tbody tr th:only-of-type {\n",
              "        vertical-align: middle;\n",
              "    }\n",
              "\n",
              "    .dataframe tbody tr th {\n",
              "        vertical-align: top;\n",
              "    }\n",
              "\n",
              "    .dataframe thead th {\n",
              "        text-align: right;\n",
              "    }\n",
              "</style>\n",
              "<table border=\"1\" class=\"dataframe\">\n",
              "  <thead>\n",
              "    <tr style=\"text-align: right;\">\n",
              "      <th></th>\n",
              "      <th>Actual_Close</th>\n",
              "      <th>Target</th>\n",
              "    </tr>\n",
              "    <tr>\n",
              "      <th>Date</th>\n",
              "      <th></th>\n",
              "      <th></th>\n",
              "    </tr>\n",
              "  </thead>\n",
              "  <tbody>\n",
              "    <tr>\n",
              "      <th>1986-03-13 00:00:00-05:00</th>\n",
              "      <td>0.060809</td>\n",
              "      <td>NaN</td>\n",
              "    </tr>\n",
              "    <tr>\n",
              "      <th>1986-03-14 00:00:00-05:00</th>\n",
              "      <td>0.062980</td>\n",
              "      <td>1.0</td>\n",
              "    </tr>\n",
              "    <tr>\n",
              "      <th>1986-03-17 00:00:00-05:00</th>\n",
              "      <td>0.064067</td>\n",
              "      <td>1.0</td>\n",
              "    </tr>\n",
              "    <tr>\n",
              "      <th>1986-03-18 00:00:00-05:00</th>\n",
              "      <td>0.062437</td>\n",
              "      <td>0.0</td>\n",
              "    </tr>\n",
              "    <tr>\n",
              "      <th>1986-03-19 00:00:00-05:00</th>\n",
              "      <td>0.061351</td>\n",
              "      <td>0.0</td>\n",
              "    </tr>\n",
              "  </tbody>\n",
              "</table>\n",
              "</div>\n",
              "      <button class=\"colab-df-convert\" onclick=\"convertToInteractive('df-da88f6d6-83b4-4bd5-90df-a8420c54b4b6')\"\n",
              "              title=\"Convert this dataframe to an interactive table.\"\n",
              "              style=\"display:none;\">\n",
              "        \n",
              "  <svg xmlns=\"http://www.w3.org/2000/svg\" height=\"24px\"viewBox=\"0 0 24 24\"\n",
              "       width=\"24px\">\n",
              "    <path d=\"M0 0h24v24H0V0z\" fill=\"none\"/>\n",
              "    <path d=\"M18.56 5.44l.94 2.06.94-2.06 2.06-.94-2.06-.94-.94-2.06-.94 2.06-2.06.94zm-11 1L8.5 8.5l.94-2.06 2.06-.94-2.06-.94L8.5 2.5l-.94 2.06-2.06.94zm10 10l.94 2.06.94-2.06 2.06-.94-2.06-.94-.94-2.06-.94 2.06-2.06.94z\"/><path d=\"M17.41 7.96l-1.37-1.37c-.4-.4-.92-.59-1.43-.59-.52 0-1.04.2-1.43.59L10.3 9.45l-7.72 7.72c-.78.78-.78 2.05 0 2.83L4 21.41c.39.39.9.59 1.41.59.51 0 1.02-.2 1.41-.59l7.78-7.78 2.81-2.81c.8-.78.8-2.07 0-2.86zM5.41 20L4 18.59l7.72-7.72 1.47 1.35L5.41 20z\"/>\n",
              "  </svg>\n",
              "      </button>\n",
              "      \n",
              "  <style>\n",
              "    .colab-df-container {\n",
              "      display:flex;\n",
              "      flex-wrap:wrap;\n",
              "      gap: 12px;\n",
              "    }\n",
              "\n",
              "    .colab-df-convert {\n",
              "      background-color: #E8F0FE;\n",
              "      border: none;\n",
              "      border-radius: 50%;\n",
              "      cursor: pointer;\n",
              "      display: none;\n",
              "      fill: #1967D2;\n",
              "      height: 32px;\n",
              "      padding: 0 0 0 0;\n",
              "      width: 32px;\n",
              "    }\n",
              "\n",
              "    .colab-df-convert:hover {\n",
              "      background-color: #E2EBFA;\n",
              "      box-shadow: 0px 1px 2px rgba(60, 64, 67, 0.3), 0px 1px 3px 1px rgba(60, 64, 67, 0.15);\n",
              "      fill: #174EA6;\n",
              "    }\n",
              "\n",
              "    [theme=dark] .colab-df-convert {\n",
              "      background-color: #3B4455;\n",
              "      fill: #D2E3FC;\n",
              "    }\n",
              "\n",
              "    [theme=dark] .colab-df-convert:hover {\n",
              "      background-color: #434B5C;\n",
              "      box-shadow: 0px 1px 3px 1px rgba(0, 0, 0, 0.15);\n",
              "      filter: drop-shadow(0px 1px 2px rgba(0, 0, 0, 0.3));\n",
              "      fill: #FFFFFF;\n",
              "    }\n",
              "  </style>\n",
              "\n",
              "      <script>\n",
              "        const buttonEl =\n",
              "          document.querySelector('#df-da88f6d6-83b4-4bd5-90df-a8420c54b4b6 button.colab-df-convert');\n",
              "        buttonEl.style.display =\n",
              "          google.colab.kernel.accessAllowed ? 'block' : 'none';\n",
              "\n",
              "        async function convertToInteractive(key) {\n",
              "          const element = document.querySelector('#df-da88f6d6-83b4-4bd5-90df-a8420c54b4b6');\n",
              "          const dataTable =\n",
              "            await google.colab.kernel.invokeFunction('convertToInteractive',\n",
              "                                                     [key], {});\n",
              "          if (!dataTable) return;\n",
              "\n",
              "          const docLinkHtml = 'Like what you see? Visit the ' +\n",
              "            '<a target=\"_blank\" href=https://colab.research.google.com/notebooks/data_table.ipynb>data table notebook</a>'\n",
              "            + ' to learn more about interactive tables.';\n",
              "          element.innerHTML = '';\n",
              "          dataTable['output_type'] = 'display_data';\n",
              "          await google.colab.output.renderOutput(dataTable, element);\n",
              "          const docLink = document.createElement('div');\n",
              "          docLink.innerHTML = docLinkHtml;\n",
              "          element.appendChild(docLink);\n",
              "        }\n",
              "      </script>\n",
              "    </div>\n",
              "  </div>\n",
              "  "
            ]
          },
          "metadata": {},
          "execution_count": 10
        }
      ],
      "source": [
        "data['Target'] = msft_hist['Close'].rolling(2).apply(lambda x: x.iloc[1]>x.iloc[0])\n",
        "data.head()"
      ]
    },
    {
      "cell_type": "markdown",
      "source": [
        "После этого с помощью метода shift я сдвигаю все первоначальные данные на 1 день вперед."
      ],
      "metadata": {
        "id": "_6U3qrDXXeq2"
      },
      "id": "_6U3qrDXXeq2"
    },
    {
      "cell_type": "code",
      "execution_count": 11,
      "id": "91dbea77",
      "metadata": {
        "colab": {
          "base_uri": "https://localhost:8080/",
          "height": 238
        },
        "id": "91dbea77",
        "outputId": "78853aff-9b09-42da-d387-087b1c4b02d0"
      },
      "outputs": [
        {
          "output_type": "execute_result",
          "data": {
            "text/plain": [
              "                               Open      High       Low     Close  \\\n",
              "Date                                                                \n",
              "1986-03-13 00:00:00-05:00       NaN       NaN       NaN       NaN   \n",
              "1986-03-14 00:00:00-05:00  0.055380  0.063524  0.055380  0.060809   \n",
              "1986-03-17 00:00:00-05:00  0.060809  0.064067  0.060809  0.062980   \n",
              "1986-03-18 00:00:00-05:00  0.062980  0.064609  0.062980  0.064067   \n",
              "1986-03-19 00:00:00-05:00  0.064067  0.064609  0.061894  0.062437   \n",
              "\n",
              "                                 Volume  Dividends  Stock Splits  \n",
              "Date                                                              \n",
              "1986-03-13 00:00:00-05:00           NaN        NaN           NaN  \n",
              "1986-03-14 00:00:00-05:00  1.031789e+09        0.0           0.0  \n",
              "1986-03-17 00:00:00-05:00  3.081600e+08        0.0           0.0  \n",
              "1986-03-18 00:00:00-05:00  1.331712e+08        0.0           0.0  \n",
              "1986-03-19 00:00:00-05:00  6.776640e+07        0.0           0.0  "
            ],
            "text/html": [
              "\n",
              "  <div id=\"df-e3482f6c-fc92-4cbb-884e-dd50b5193d1e\">\n",
              "    <div class=\"colab-df-container\">\n",
              "      <div>\n",
              "<style scoped>\n",
              "    .dataframe tbody tr th:only-of-type {\n",
              "        vertical-align: middle;\n",
              "    }\n",
              "\n",
              "    .dataframe tbody tr th {\n",
              "        vertical-align: top;\n",
              "    }\n",
              "\n",
              "    .dataframe thead th {\n",
              "        text-align: right;\n",
              "    }\n",
              "</style>\n",
              "<table border=\"1\" class=\"dataframe\">\n",
              "  <thead>\n",
              "    <tr style=\"text-align: right;\">\n",
              "      <th></th>\n",
              "      <th>Open</th>\n",
              "      <th>High</th>\n",
              "      <th>Low</th>\n",
              "      <th>Close</th>\n",
              "      <th>Volume</th>\n",
              "      <th>Dividends</th>\n",
              "      <th>Stock Splits</th>\n",
              "    </tr>\n",
              "    <tr>\n",
              "      <th>Date</th>\n",
              "      <th></th>\n",
              "      <th></th>\n",
              "      <th></th>\n",
              "      <th></th>\n",
              "      <th></th>\n",
              "      <th></th>\n",
              "      <th></th>\n",
              "    </tr>\n",
              "  </thead>\n",
              "  <tbody>\n",
              "    <tr>\n",
              "      <th>1986-03-13 00:00:00-05:00</th>\n",
              "      <td>NaN</td>\n",
              "      <td>NaN</td>\n",
              "      <td>NaN</td>\n",
              "      <td>NaN</td>\n",
              "      <td>NaN</td>\n",
              "      <td>NaN</td>\n",
              "      <td>NaN</td>\n",
              "    </tr>\n",
              "    <tr>\n",
              "      <th>1986-03-14 00:00:00-05:00</th>\n",
              "      <td>0.055380</td>\n",
              "      <td>0.063524</td>\n",
              "      <td>0.055380</td>\n",
              "      <td>0.060809</td>\n",
              "      <td>1.031789e+09</td>\n",
              "      <td>0.0</td>\n",
              "      <td>0.0</td>\n",
              "    </tr>\n",
              "    <tr>\n",
              "      <th>1986-03-17 00:00:00-05:00</th>\n",
              "      <td>0.060809</td>\n",
              "      <td>0.064067</td>\n",
              "      <td>0.060809</td>\n",
              "      <td>0.062980</td>\n",
              "      <td>3.081600e+08</td>\n",
              "      <td>0.0</td>\n",
              "      <td>0.0</td>\n",
              "    </tr>\n",
              "    <tr>\n",
              "      <th>1986-03-18 00:00:00-05:00</th>\n",
              "      <td>0.062980</td>\n",
              "      <td>0.064609</td>\n",
              "      <td>0.062980</td>\n",
              "      <td>0.064067</td>\n",
              "      <td>1.331712e+08</td>\n",
              "      <td>0.0</td>\n",
              "      <td>0.0</td>\n",
              "    </tr>\n",
              "    <tr>\n",
              "      <th>1986-03-19 00:00:00-05:00</th>\n",
              "      <td>0.064067</td>\n",
              "      <td>0.064609</td>\n",
              "      <td>0.061894</td>\n",
              "      <td>0.062437</td>\n",
              "      <td>6.776640e+07</td>\n",
              "      <td>0.0</td>\n",
              "      <td>0.0</td>\n",
              "    </tr>\n",
              "  </tbody>\n",
              "</table>\n",
              "</div>\n",
              "      <button class=\"colab-df-convert\" onclick=\"convertToInteractive('df-e3482f6c-fc92-4cbb-884e-dd50b5193d1e')\"\n",
              "              title=\"Convert this dataframe to an interactive table.\"\n",
              "              style=\"display:none;\">\n",
              "        \n",
              "  <svg xmlns=\"http://www.w3.org/2000/svg\" height=\"24px\"viewBox=\"0 0 24 24\"\n",
              "       width=\"24px\">\n",
              "    <path d=\"M0 0h24v24H0V0z\" fill=\"none\"/>\n",
              "    <path d=\"M18.56 5.44l.94 2.06.94-2.06 2.06-.94-2.06-.94-.94-2.06-.94 2.06-2.06.94zm-11 1L8.5 8.5l.94-2.06 2.06-.94-2.06-.94L8.5 2.5l-.94 2.06-2.06.94zm10 10l.94 2.06.94-2.06 2.06-.94-2.06-.94-.94-2.06-.94 2.06-2.06.94z\"/><path d=\"M17.41 7.96l-1.37-1.37c-.4-.4-.92-.59-1.43-.59-.52 0-1.04.2-1.43.59L10.3 9.45l-7.72 7.72c-.78.78-.78 2.05 0 2.83L4 21.41c.39.39.9.59 1.41.59.51 0 1.02-.2 1.41-.59l7.78-7.78 2.81-2.81c.8-.78.8-2.07 0-2.86zM5.41 20L4 18.59l7.72-7.72 1.47 1.35L5.41 20z\"/>\n",
              "  </svg>\n",
              "      </button>\n",
              "      \n",
              "  <style>\n",
              "    .colab-df-container {\n",
              "      display:flex;\n",
              "      flex-wrap:wrap;\n",
              "      gap: 12px;\n",
              "    }\n",
              "\n",
              "    .colab-df-convert {\n",
              "      background-color: #E8F0FE;\n",
              "      border: none;\n",
              "      border-radius: 50%;\n",
              "      cursor: pointer;\n",
              "      display: none;\n",
              "      fill: #1967D2;\n",
              "      height: 32px;\n",
              "      padding: 0 0 0 0;\n",
              "      width: 32px;\n",
              "    }\n",
              "\n",
              "    .colab-df-convert:hover {\n",
              "      background-color: #E2EBFA;\n",
              "      box-shadow: 0px 1px 2px rgba(60, 64, 67, 0.3), 0px 1px 3px 1px rgba(60, 64, 67, 0.15);\n",
              "      fill: #174EA6;\n",
              "    }\n",
              "\n",
              "    [theme=dark] .colab-df-convert {\n",
              "      background-color: #3B4455;\n",
              "      fill: #D2E3FC;\n",
              "    }\n",
              "\n",
              "    [theme=dark] .colab-df-convert:hover {\n",
              "      background-color: #434B5C;\n",
              "      box-shadow: 0px 1px 3px 1px rgba(0, 0, 0, 0.15);\n",
              "      filter: drop-shadow(0px 1px 2px rgba(0, 0, 0, 0.3));\n",
              "      fill: #FFFFFF;\n",
              "    }\n",
              "  </style>\n",
              "\n",
              "      <script>\n",
              "        const buttonEl =\n",
              "          document.querySelector('#df-e3482f6c-fc92-4cbb-884e-dd50b5193d1e button.colab-df-convert');\n",
              "        buttonEl.style.display =\n",
              "          google.colab.kernel.accessAllowed ? 'block' : 'none';\n",
              "\n",
              "        async function convertToInteractive(key) {\n",
              "          const element = document.querySelector('#df-e3482f6c-fc92-4cbb-884e-dd50b5193d1e');\n",
              "          const dataTable =\n",
              "            await google.colab.kernel.invokeFunction('convertToInteractive',\n",
              "                                                     [key], {});\n",
              "          if (!dataTable) return;\n",
              "\n",
              "          const docLinkHtml = 'Like what you see? Visit the ' +\n",
              "            '<a target=\"_blank\" href=https://colab.research.google.com/notebooks/data_table.ipynb>data table notebook</a>'\n",
              "            + ' to learn more about interactive tables.';\n",
              "          element.innerHTML = '';\n",
              "          dataTable['output_type'] = 'display_data';\n",
              "          await google.colab.output.renderOutput(dataTable, element);\n",
              "          const docLink = document.createElement('div');\n",
              "          docLink.innerHTML = docLinkHtml;\n",
              "          element.appendChild(docLink);\n",
              "        }\n",
              "      </script>\n",
              "    </div>\n",
              "  </div>\n",
              "  "
            ]
          },
          "metadata": {},
          "execution_count": 11
        }
      ],
      "source": [
        "msft_prev = msft_hist.copy()\n",
        "msft_prev = msft_prev.shift(1)\n",
        "msft_prev.head()"
      ]
    },
    {
      "cell_type": "markdown",
      "source": [
        "Затем с помощью метода join я создаю итоговый датасет data, в котором есть колонки:\n",
        "\n",
        "•\tActual_Close – реальная цена акции на момент закрытия биржи\n",
        "\n",
        "•\tTarget – бинарное значение, отвечающее за рост или падение акции\n",
        "\n",
        "•\tClose, Volume, Open, High, Low – атрибуты, значения которых сдвинуты на 1 день вперед\n"
      ],
      "metadata": {
        "id": "S3IFo4rPXkH7"
      },
      "id": "S3IFo4rPXkH7"
    },
    {
      "cell_type": "code",
      "execution_count": 12,
      "id": "02264d3d",
      "metadata": {
        "colab": {
          "base_uri": "https://localhost:8080/",
          "height": 238
        },
        "id": "02264d3d",
        "outputId": "b4a15f9c-f21a-4ca6-9ad5-e9f74604226a"
      },
      "outputs": [
        {
          "output_type": "execute_result",
          "data": {
            "text/plain": [
              "                           Actual_Close  Target     Close        Volume  \\\n",
              "Date                                                                      \n",
              "1986-03-14 00:00:00-05:00      0.062980     1.0  0.060809  1.031789e+09   \n",
              "1986-03-17 00:00:00-05:00      0.064067     1.0  0.062980  3.081600e+08   \n",
              "1986-03-18 00:00:00-05:00      0.062437     0.0  0.064067  1.331712e+08   \n",
              "1986-03-19 00:00:00-05:00      0.061351     0.0  0.062437  6.776640e+07   \n",
              "1986-03-20 00:00:00-05:00      0.059723     0.0  0.061351  4.789440e+07   \n",
              "\n",
              "                               Open      High       Low  \n",
              "Date                                                     \n",
              "1986-03-14 00:00:00-05:00  0.055380  0.063524  0.055380  \n",
              "1986-03-17 00:00:00-05:00  0.060809  0.064067  0.060809  \n",
              "1986-03-18 00:00:00-05:00  0.062980  0.064609  0.062980  \n",
              "1986-03-19 00:00:00-05:00  0.064067  0.064609  0.061894  \n",
              "1986-03-20 00:00:00-05:00  0.062437  0.062980  0.060809  "
            ],
            "text/html": [
              "\n",
              "  <div id=\"df-63662945-e2b8-4e36-a278-2e8ee30346f4\">\n",
              "    <div class=\"colab-df-container\">\n",
              "      <div>\n",
              "<style scoped>\n",
              "    .dataframe tbody tr th:only-of-type {\n",
              "        vertical-align: middle;\n",
              "    }\n",
              "\n",
              "    .dataframe tbody tr th {\n",
              "        vertical-align: top;\n",
              "    }\n",
              "\n",
              "    .dataframe thead th {\n",
              "        text-align: right;\n",
              "    }\n",
              "</style>\n",
              "<table border=\"1\" class=\"dataframe\">\n",
              "  <thead>\n",
              "    <tr style=\"text-align: right;\">\n",
              "      <th></th>\n",
              "      <th>Actual_Close</th>\n",
              "      <th>Target</th>\n",
              "      <th>Close</th>\n",
              "      <th>Volume</th>\n",
              "      <th>Open</th>\n",
              "      <th>High</th>\n",
              "      <th>Low</th>\n",
              "    </tr>\n",
              "    <tr>\n",
              "      <th>Date</th>\n",
              "      <th></th>\n",
              "      <th></th>\n",
              "      <th></th>\n",
              "      <th></th>\n",
              "      <th></th>\n",
              "      <th></th>\n",
              "      <th></th>\n",
              "    </tr>\n",
              "  </thead>\n",
              "  <tbody>\n",
              "    <tr>\n",
              "      <th>1986-03-14 00:00:00-05:00</th>\n",
              "      <td>0.062980</td>\n",
              "      <td>1.0</td>\n",
              "      <td>0.060809</td>\n",
              "      <td>1.031789e+09</td>\n",
              "      <td>0.055380</td>\n",
              "      <td>0.063524</td>\n",
              "      <td>0.055380</td>\n",
              "    </tr>\n",
              "    <tr>\n",
              "      <th>1986-03-17 00:00:00-05:00</th>\n",
              "      <td>0.064067</td>\n",
              "      <td>1.0</td>\n",
              "      <td>0.062980</td>\n",
              "      <td>3.081600e+08</td>\n",
              "      <td>0.060809</td>\n",
              "      <td>0.064067</td>\n",
              "      <td>0.060809</td>\n",
              "    </tr>\n",
              "    <tr>\n",
              "      <th>1986-03-18 00:00:00-05:00</th>\n",
              "      <td>0.062437</td>\n",
              "      <td>0.0</td>\n",
              "      <td>0.064067</td>\n",
              "      <td>1.331712e+08</td>\n",
              "      <td>0.062980</td>\n",
              "      <td>0.064609</td>\n",
              "      <td>0.062980</td>\n",
              "    </tr>\n",
              "    <tr>\n",
              "      <th>1986-03-19 00:00:00-05:00</th>\n",
              "      <td>0.061351</td>\n",
              "      <td>0.0</td>\n",
              "      <td>0.062437</td>\n",
              "      <td>6.776640e+07</td>\n",
              "      <td>0.064067</td>\n",
              "      <td>0.064609</td>\n",
              "      <td>0.061894</td>\n",
              "    </tr>\n",
              "    <tr>\n",
              "      <th>1986-03-20 00:00:00-05:00</th>\n",
              "      <td>0.059723</td>\n",
              "      <td>0.0</td>\n",
              "      <td>0.061351</td>\n",
              "      <td>4.789440e+07</td>\n",
              "      <td>0.062437</td>\n",
              "      <td>0.062980</td>\n",
              "      <td>0.060809</td>\n",
              "    </tr>\n",
              "  </tbody>\n",
              "</table>\n",
              "</div>\n",
              "      <button class=\"colab-df-convert\" onclick=\"convertToInteractive('df-63662945-e2b8-4e36-a278-2e8ee30346f4')\"\n",
              "              title=\"Convert this dataframe to an interactive table.\"\n",
              "              style=\"display:none;\">\n",
              "        \n",
              "  <svg xmlns=\"http://www.w3.org/2000/svg\" height=\"24px\"viewBox=\"0 0 24 24\"\n",
              "       width=\"24px\">\n",
              "    <path d=\"M0 0h24v24H0V0z\" fill=\"none\"/>\n",
              "    <path d=\"M18.56 5.44l.94 2.06.94-2.06 2.06-.94-2.06-.94-.94-2.06-.94 2.06-2.06.94zm-11 1L8.5 8.5l.94-2.06 2.06-.94-2.06-.94L8.5 2.5l-.94 2.06-2.06.94zm10 10l.94 2.06.94-2.06 2.06-.94-2.06-.94-.94-2.06-.94 2.06-2.06.94z\"/><path d=\"M17.41 7.96l-1.37-1.37c-.4-.4-.92-.59-1.43-.59-.52 0-1.04.2-1.43.59L10.3 9.45l-7.72 7.72c-.78.78-.78 2.05 0 2.83L4 21.41c.39.39.9.59 1.41.59.51 0 1.02-.2 1.41-.59l7.78-7.78 2.81-2.81c.8-.78.8-2.07 0-2.86zM5.41 20L4 18.59l7.72-7.72 1.47 1.35L5.41 20z\"/>\n",
              "  </svg>\n",
              "      </button>\n",
              "      \n",
              "  <style>\n",
              "    .colab-df-container {\n",
              "      display:flex;\n",
              "      flex-wrap:wrap;\n",
              "      gap: 12px;\n",
              "    }\n",
              "\n",
              "    .colab-df-convert {\n",
              "      background-color: #E8F0FE;\n",
              "      border: none;\n",
              "      border-radius: 50%;\n",
              "      cursor: pointer;\n",
              "      display: none;\n",
              "      fill: #1967D2;\n",
              "      height: 32px;\n",
              "      padding: 0 0 0 0;\n",
              "      width: 32px;\n",
              "    }\n",
              "\n",
              "    .colab-df-convert:hover {\n",
              "      background-color: #E2EBFA;\n",
              "      box-shadow: 0px 1px 2px rgba(60, 64, 67, 0.3), 0px 1px 3px 1px rgba(60, 64, 67, 0.15);\n",
              "      fill: #174EA6;\n",
              "    }\n",
              "\n",
              "    [theme=dark] .colab-df-convert {\n",
              "      background-color: #3B4455;\n",
              "      fill: #D2E3FC;\n",
              "    }\n",
              "\n",
              "    [theme=dark] .colab-df-convert:hover {\n",
              "      background-color: #434B5C;\n",
              "      box-shadow: 0px 1px 3px 1px rgba(0, 0, 0, 0.15);\n",
              "      filter: drop-shadow(0px 1px 2px rgba(0, 0, 0, 0.3));\n",
              "      fill: #FFFFFF;\n",
              "    }\n",
              "  </style>\n",
              "\n",
              "      <script>\n",
              "        const buttonEl =\n",
              "          document.querySelector('#df-63662945-e2b8-4e36-a278-2e8ee30346f4 button.colab-df-convert');\n",
              "        buttonEl.style.display =\n",
              "          google.colab.kernel.accessAllowed ? 'block' : 'none';\n",
              "\n",
              "        async function convertToInteractive(key) {\n",
              "          const element = document.querySelector('#df-63662945-e2b8-4e36-a278-2e8ee30346f4');\n",
              "          const dataTable =\n",
              "            await google.colab.kernel.invokeFunction('convertToInteractive',\n",
              "                                                     [key], {});\n",
              "          if (!dataTable) return;\n",
              "\n",
              "          const docLinkHtml = 'Like what you see? Visit the ' +\n",
              "            '<a target=\"_blank\" href=https://colab.research.google.com/notebooks/data_table.ipynb>data table notebook</a>'\n",
              "            + ' to learn more about interactive tables.';\n",
              "          element.innerHTML = '';\n",
              "          dataTable['output_type'] = 'display_data';\n",
              "          await google.colab.output.renderOutput(dataTable, element);\n",
              "          const docLink = document.createElement('div');\n",
              "          docLink.innerHTML = docLinkHtml;\n",
              "          element.appendChild(docLink);\n",
              "        }\n",
              "      </script>\n",
              "    </div>\n",
              "  </div>\n",
              "  "
            ]
          },
          "metadata": {},
          "execution_count": 12
        }
      ],
      "source": [
        "predictors = [\"Close\", \"Volume\", \"Open\", \"High\", \"Low\"]\n",
        "\n",
        "data = data.join(msft_prev[predictors]).iloc[1:]\n",
        "data.head()"
      ]
    },
    {
      "cell_type": "code",
      "source": [
        "sum(data['Target']==1)/len(data['Target'])"
      ],
      "metadata": {
        "colab": {
          "base_uri": "https://localhost:8080/"
        },
        "id": "tCLDWB_x5T6D",
        "outputId": "5fc3d148-9312-4c15-b888-44b05dbbc508"
      },
      "id": "tCLDWB_x5T6D",
      "execution_count": 99,
      "outputs": [
        {
          "output_type": "execute_result",
          "data": {
            "text/plain": [
              "0.4943988050784167"
            ]
          },
          "metadata": {},
          "execution_count": 99
        }
      ]
    },
    {
      "cell_type": "markdown",
      "source": [
        "Произвели предобработку данных для дальнейшей работы с ними "
      ],
      "metadata": {
        "id": "DmAQJZoy526P"
      },
      "id": "DmAQJZoy526P"
    },
    {
      "cell_type": "markdown",
      "id": "1310bfd3",
      "metadata": {
        "id": "1310bfd3"
      },
      "source": [
        "### Базовая модель"
      ]
    },
    {
      "cell_type": "markdown",
      "source": [
        "Далее я решил создать базовую модель, чтобы протестировать ее, оценить результаты и продумать логику своей основной модели. Важно отметить, что из-за того, что данные представляют собой временной ряд, я не могу использовать кросс-валидацию данных. Иначе я бы использовал данные из будущего для предсказания прошлого, что было бы просто некорректным. Вместо этого я в дальнейшем буду несколько раз делить данные на тест и трейн, однако в базовой модели я выделю все данные, кроме последних 100 строк для трейна, а оставшиеся 100 строк будут тестовыми данными.\n",
        "Для базовой модели я выбрала алгоритм RandomForestClassifier. Данный алгоритм является представителем дерева решений – модели, принципом которой является разделение входных данных при помощи ветвления по их признакам. \n"
      ],
      "metadata": {
        "id": "pRg3aLGNYdTX"
      },
      "id": "pRg3aLGNYdTX"
    },
    {
      "cell_type": "code",
      "execution_count": 13,
      "id": "32e11d84",
      "metadata": {
        "id": "32e11d84"
      },
      "outputs": [],
      "source": [
        "model = RandomForestClassifier(n_estimators=100, \n",
        "                               min_samples_split=200, \n",
        "                               max_depth=5, \n",
        "                               max_features='auto',\n",
        "                               min_samples_leaf=4,\n",
        "                               criterion ='gini',\n",
        "                               random_state=1)"
      ]
    },
    {
      "cell_type": "markdown",
      "source": [
        "Инициализация модели"
      ],
      "metadata": {
        "id": "hC4e4Q-OYllJ"
      },
      "id": "hC4e4Q-OYllJ"
    },
    {
      "cell_type": "code",
      "execution_count": 14,
      "id": "83dbdc72",
      "metadata": {
        "id": "83dbdc72"
      },
      "outputs": [],
      "source": [
        "predictors = [\"Close\", \"Volume\", \"Open\", \"High\", \"Low\"]\n"
      ]
    },
    {
      "cell_type": "code",
      "source": [
        "X = data[predictors].values\n",
        "y = data['Target'].values"
      ],
      "metadata": {
        "id": "3BCVF5x91bBs"
      },
      "execution_count": 15,
      "outputs": [],
      "id": "3BCVF5x91bBs"
    },
    {
      "cell_type": "code",
      "source": [
        "train_sizes, train_scores, validation_scores = learning_curve(model, X, y, cv=2, scoring = None)"
      ],
      "metadata": {
        "id": "8qA2-VeN1lF6"
      },
      "execution_count": 16,
      "outputs": [],
      "id": "8qA2-VeN1lF6"
    },
    {
      "cell_type": "code",
      "source": [
        "plt.plot(train_sizes,np.mean(train_scores,axis=1))"
      ],
      "metadata": {
        "id": "Fbzdq04L5-fE",
        "outputId": "4593b9aa-b950-49e0-d255-fb1ce995f744",
        "colab": {
          "base_uri": "https://localhost:8080/",
          "height": 364
        }
      },
      "execution_count": 17,
      "outputs": [
        {
          "output_type": "execute_result",
          "data": {
            "text/plain": [
              "[<matplotlib.lines.Line2D at 0x7fc6cafc6550>]"
            ]
          },
          "metadata": {},
          "execution_count": 17
        },
        {
          "output_type": "display_data",
          "data": {
            "text/plain": [
              "<Figure size 576x396 with 1 Axes>"
            ],
            "image/png": "[encoded data removed]"
          },
          "metadata": {}
        }
      ],
      "id": "Fbzdq04L5-fE"
    },
    {
      "cell_type": "markdown",
      "source": [
        "Разделение на тест и трейн"
      ],
      "metadata": {
        "id": "mTlx6lvbYmxJ"
      },
      "id": "mTlx6lvbYmxJ"
    },
    {
      "cell_type": "code",
      "execution_count": 18,
      "id": "997791bd",
      "metadata": {
        "id": "997791bd"
      },
      "outputs": [],
      "source": [
        "train = data.iloc[:-100]\n",
        "test = data.iloc[-100:]"
      ]
    },
    {
      "cell_type": "markdown",
      "source": [
        "Далее я провел обучение модели. В качестве предикатов были выбраны столбцы Close, Volume, Open, High, Low. В качестве таргета столбец Target."
      ],
      "metadata": {
        "id": "kfJ4TxCgYwhY"
      },
      "id": "kfJ4TxCgYwhY"
    },
    {
      "cell_type": "code",
      "execution_count": 19,
      "id": "188403e3",
      "metadata": {
        "colab": {
          "base_uri": "https://localhost:8080/"
        },
        "id": "188403e3",
        "outputId": "bb58470c-ef95-49c9-b119-629f32baa00a"
      },
      "outputs": [
        {
          "output_type": "execute_result",
          "data": {
            "text/plain": [
              "RandomForestClassifier(max_depth=5, min_samples_leaf=4, min_samples_split=200,\n",
              "                       random_state=1)"
            ]
          },
          "metadata": {},
          "execution_count": 19
        }
      ],
      "source": [
        "model.fit(train[predictors], train[\"Target\"])"
      ]
    },
    {
      "cell_type": "markdown",
      "source": [
        "Теперь мне необходимо оценить, насколько хорошо моя модель предсказывает данные. Для этого я выбрал метрику precision, которая оценивает какую долю из всех предсказанных значений я предсказал верно. Я считаю, что для выбранной мной цели использования модели машинного обучения эта метрика является самой подходящей. В предсказании цены акции лучше всего минимизировать FP, чем минимизировать FN.\n",
        " ![image.png](data:image/png;base64,iVBORw0KGgoAAAANSUhEUgAAAZQAAABjCAYAAAC8Jfa1AAAAAXNSR0IArs4c6QAAAARnQU1BAACxjwv8YQUAAAAJcEhZcwAADsMAAA7DAcdvqGQAACN3SURBVHhe7Z0JvBVVGcAPpaiF4oJLBi6hEpaJ4oICJoIoboAiLYpKkYCCZElKLkCAC1ERKoLgkhsVguKCgaKs0kKBQoVZgKRGJEUQFZZN5/+9Oe/Nu2/Wd+fed4Hv//vN786dmTsz98y95zvfehp5FqMoiqIoRfIh/1VRFEVRikIFiqIoipILKlAURVGUXFCBoiiKouSCChRFURQlFzTKS1GU3Hn//ffN9ddfb375y1+a//3vf7LsscceZvfddzcf/vCH/aOqjnN88MEHplGjRnIcr8Dn2P6vf/3L7Lbbbobuqm3btubOO+80e++9txwTxvjx482oUaPk+H//+9/yeQfn/+hHP2o+9KGa8bS7R6511FFHmV69epkOHTqYdu3amcaNG/tHKUmoQFEUJXeWLVtmOnfubLZs2SIC4JRTTjFHH320OeCAA0Qw0JnT9cybN888+OCDsn7QQQeZwYMHmyOOOKJa6Pz3v/81mzdvNqtXrzYzZ840GzZsMF27djXTp083++yzjxwTxvr16+UzCInly5eb0aNHm3/+85/m4IMPNrfccotp1aqV3IeD6yDcOP+LL75onnzySbPXXnuZSy+91IwdO9Y0a9bMP1KJBYGiKIqSJ0OHDmWg6o0YMcKznbu/tS4TJ070rPCQY/v27etvDeeFF17wmjZt6vXp08fbvn27vzUZK7Q8q2XINdq3b+9vjcZqM96UKVM8q8nIZy655BLPCkZ/rxKH+lAURckVtJIFCxaYG2+80QwfPty0aNHC31Mb2/+Yl19+WcxMcOKJJ8prFGg8p556qmgyWcxQr732WrVp7fjjj5fXOPbcc09z1VVXmR49esj7p556yjz++OOyrsSjAkVRlFxZsmSJmJcGDBjgbwnnT3/6k1m3bp2s77vvvuaYY46R9TjwmzRv3tx/lwyC5Be/+IWsY+K64IILZD0Jjj3hhBNkHbMZZjB8MUo8KlAURcmVl156STpufCFx/P73vzdvv/22rOPTcB14FAiHbdu2mSZNmvhbktm0aZN5/fXXZR3/yac//WlZT0PQkf/WW2+Jf0WJRwWKoii5sXHjRnGId+/e3d8SDc5yjocjjzzS7L///rIeBVoP5iic+2nhXn7729/KesuWLc3HP/5xWU8CM5zTnoDIMBYlHhUoiqLkxs9+9jMxERHZFcd//vMf8+tf/1qOJUS4TZs2tcKJw8A3Q3QYgiEt8+fPl2tAx44da4UKx4Fms3btWv9dle8F340SjwoURVFyg073uuuuk3yTON577z2zaNEiWceERc5HEhz3+c9/PlPHjtPfQehyWjCTIRwB/w55KUkCT1GBoihKjhCF9dnPftZ/Fw3mpDVr1sg6SYatW7eW9TjwgZAXkjbCC3MauSiAPyeLZvPss8+a7du3y3q/fv1Eu1GSUYGiKErZWbFiRXUo73nnnSdaQN4gsP7+97/L+qc+9Slz2GGHyXoSzz//vJkwYYKY4tBMCH1O0riUKlSgKIpSdvBtOPC3pPVtZGH27NnmH//4h6wjUNCE4sCvM2nSJNO3b19x/g8bNsxMnTo1U1TZro4KFEVRygqaSVCgnHbaaf5avpDQ6JImyV3BOU/YsVu2bt0qZjHqjU2ePNmcddZZZsiQIRK+PG3aNDNy5EjTtGlT+bySDq3lpShKWfnpT39qOnXqJImC+DV4n3etLPJGevbsKaHJmKso+EhSpBMwDoQM2w455BDx/3Tp0kWc92goSnZUoCiKUlbuv/9+M3DgQOnMcXjfd999tQo15sHChQslIoxsfEJ+Z8yYIdFhFIEMQvdHfgmOfvWTFI+avBRFKRsIkblz51bnhuDbyFuYAJrJn//8Z1lHCzr88MNFQ9lvv/1qLSRT4ltRYZIPKlAURSkbf/3rX6XkClAeHoGSN4T7IlCc0CJpshRCS6mLChRFUcrGb37zGzFDwbHHHpuqIGRW/va3v8l8LID2QZVipTyoQFEUpWysXLlSypoAwiRL5eC0/OEPf6gum0LtrlJoQUo4KlAURSkLRFNR0oRXfBann356ScqZUAySQpLQvn372KmClXxRgaIoSlkg58OVkidZMEsp+SwwPbCDnJJSJE0q4WhLK4pSFv74xz9KzgmQMJg0/0l9ILfFFXUENBSlfKhAURSlLPzud7/z16rKwZciC33VqlXVuSal8tEo0ahAURSl5FBTa9asWf67qrlJSgHl6t1Mi1Q91jlMyotmyiuKkitEcj333HNSbBF4pV7WCy+8IO+BcvWXXHKJ5IdQ1RfnfNeuXc3JJ5/sH5EO5lRhzniEyObNm82UKVOqKwx/8pOflHL3lFEhsZFpibU2V2lRgdIA8Aej2dPO65AnbhpVdVQqpWLOnDnmwQcfFEEBvCI4glPoYpYiAdF1P0R+UeWXUvZpIXHxBz/4gWTecx6uQ7Kk+227a3Actbyuv/763GuGKbVRgVJmmPaUGe2Ik3/iiSdMu3bt/D2lhT/VU089JSW5mRfisccek4J4ipI3CAcWJ1DSQDeE0Mk60GFwxm877nNO2Gh5ldKjAqWM8Cfr1q2befHFF+U9cy/0799f1kvNG2+8Ybp37y6vhGwyidAZZ5zh71UURSketXuUGTfJD5MKnXPOObJeDjA3uHpGVGEtVQ6Aoii7LqqhlBnqGDHxDw5D5rkuFzxmzG3vvvuuTGik2cOKouSNChRFURQlF9TkpSiKouSCChRFURQlF3IVKEnWMzfhTRqSzlWspS4PSx/nSPud8rieI+u5GvLaSXC+vM+pKErDkIsPhQltfvSjH0nxN6bV/OIXv2gOPfRQf6+RGdoIU926dasshKueffbZoYl9zJVAjgTOa+YyICLpwAMP9Pcas2DBArN48WLpyPfdd1/ToUOH1EXmmNyH4nTcJ3HrJD6ddNJJ5vzzz08d/05zrVixQrJ+SZoitp0sXzJ8zzzzzNCZ4Wgb6hiRzUviFvecFe6bonckJhJ7zzWPO+44OV/YNYG2JPfk7bfflvvs3bu3Ofroo/296aHdCHVmtj2uxfX5rhTeCyarOWgjnjcZzMT/UwKjU6dO/t4q2Md34rfD+Yh+4znwnRRF2TEpWkOhk/z2t79t3nrrLZmB7cc//rG5+OKLzbp162T/PffcY4YPHy4dIOUWEAIk9g0dOtRs2bJFjnHQWQ4cOFDOybm+853vmGuvvbZ6buivf/3r5r777jMf+9jHJOx1zZo1pk+fPuZXv/qV7I8C4cR5P/e5z0knhqDiXjjPt771LfO1r33NPzIe5lm4/PLLzVe+8hU5J+dgOfjgg+V78z2pdup4//335f4pO0FUF5/5whe+IJ1tWmiTIUOGmJtvvlkEIBm/7pozZsyQfa7URBCeB+1MG3NtBAJlKNxzSQPHfvWrX5WSFQjEI488Uq5NNjLP78orrxThXAjZy9OmTTOtWrWSyY4YYCDYgDbhnidPnixCnHtjoU24P3ecoig7IGgoxfDkk0963bt392xHIe9Hjx6NxuPZzt+znbVnNQzPaiiyzzF+/Hg55pvf/Kb3wQcf+Fs974EHHvCuueYa/53n2Y5bjhs3bpx34403esOGDfM2bNgg+6yG4FnBIPtvuOEG2RbGQw895FltyTvooIO8n/zkJ54VVv6eKlauXOnZjlLOF4XVhjwryLwDDjjAa9OmjWc1hVr3DbZD9Ozo2nv00Uf9LVVtMXjwYM8KGXm/cOFCud8ePXp4VlOTbXHYkbt34YUXeocffrhnhZm/tYbNmzd7Vnh7I0aM8LdUwb317dvXmzp1qr/F88aOHSvXvuuuu/wt8VgB6Vmh5VnB7VlhJPcShO9rBwee1Xg8K9D8rZ5nhZBnBYhnhai8X7RokdekSRP5DlZTkvu6/fbbPTtIkP2OefPmeXvvvbc8Uyuk/K3FwXPLeyl87oqi1FCUQOEP1qtXL2/WrFn+lhqBwtKzZ8/QjnP16tXeHnvsIR3W66+/LtsQSCeccIK3bNkyeQ9f+tKX5DxWuxHh4rAjdemU3XXuuOMOf09tEFDsp+N75ZVX/K114VwIvyi+973vebvttpt0nnbE7W+twWposp9r8f3Bak0iaK1WIu/h4YcflmPOOuss77333vO3RoMwbNy4sQjCQmgDq8F5zZo186yWJu8dVkMQQeOgE7SaklzbamP+1misduF95CMfEUG7YsUKf2ttOKfVKOq0P/dsNUH/nefNmTNHBMruu+/udezY0bv33nv9PbV55513RFg3atTIe+aZZ/yt9QNhdtNNN8ngJO9lwIABMhAK+x0oyq5OUSYvTCKYVlwJDytgqs1T+FAmTJggZT4KYRu2fI6lWihgFgrO/2w7rGpzSsuWLc03vvENWQfs8vhgTjnlFDGnYPYqxHbCUgwO34HtAMSOHwZ+EHwD1LcKAxPMyJEjJRFw4sSJ5hOf+IS/pwbMO5ijAJMUYALDRBSslzVz5kx55ftToDEOfE1cGxPRZz7zGX9rDZiSMNdZwSSVVJ0PCBMZhfm+/OUvy3vAT+FMSUnlvDGN0W6Y7qwglXkrwuB6znfF9+c+7O9JTIpWYMp2wMxH6XLaBzNm8L6C4EfhmXNe1ouBe8HPxe8z74XfOz4l2lRRlAKq5Er9wNzFqM1hO2avQ4cOMmq97bbb/K11Wbt2rZhAOM52MLKNUf6YMWNkHTB7oMFwTJgGwgj53Xff9WwH6m+pge2Mhvms7Yy9TZs2+XvqMmnSJDGJ/eUvf/G31IAm1bx5czlPv379RCML47vf/a7Xrl0775ZbbhGNzHY23mWXXVZLK7KdkFyHc2HySYI24t45fu7cuf7WGjAzWSEr5j5MSQ7boYvmEPw+VpDJeRj9Y3aLAq3Jfd8LLrgg8vs6aDsrAMSciGmL59+5c2fPdrqyn8+jKXC+/fffv5a2VghmtaZNm4pmhFZTDPw2tmzZIs8i74Xzhv3mFEXxvKKivGyHKSNtSnkAjlscsUQCWWEjxQjDYF5pN/Lt1auXzAGNRsHsaq7G1EsvvSRRP0SCca4sda/uvfdeM2jQIBntol3Yjt7fUwWOakaaVPtldI3zn7kZgjCiZjT9yCOPiEYRdw804bZt26q1MTQeSngTnOCioNDWGPkTsYYWkBTNhHZG+y1fvlwi53DKU5kYbQQtI6r0/bJly2ReiC5duvhbjAQjoDGh1fE99tlnH39PbazgFm0O0Gh69Ogh61HceuutZvTo0cYKAWlHNJOnn35aAg8IwqBNcNwTPNCzZ89qDS0MK5Ql6ILy4kTx8Tva2eE5UYZHURqSKOtNvUCg5AUOaU55xBFHhDqRHTjAOY7FdrL+1toMHDhQ9p988smZnLSMHi+66CL5LL4XNIXhw4fLYjtACRbAwW87PfHRMKIPY9WqVfI9OE+nTp1itZwk0Ca6desm57KCq5a/Iwoc+djr+Uxwadu2rXfVVVeJf8g5++N48803xc+CjwdNKgq+nwtyQEtZt26dvycafCUcj48qLKiBc3BtjsF/FAUO//79+8txtPmuAr4ivrMuujTkkie51vIaPHiwhAkz8xq5F4QIh0F4LfZ/mDp1ah27OrZ0RtNoQISsMrJNO5cB84ww+md0THgrfgDCkAFtitE5RRnxmcTNN83nrOARe77twM1DDz3k78kOI260DTQXRutoLmlASyFsN2xkjwZw9dVXm7vvvlvWo/j+978vYdEtWrSQ0FznoyoEzQVfFL4TwqLxF6FpRkGOC99j4cKF0p5oNG3atPH3VoEmxm8BLY3j8HmFsXHjRsmnwY9GSPH48eP9PTs3PF8mh8InqCgNhR1Y+2s5IGIlBwhhtR2GSLybb7450v7O6Nx2HnKc7eDF9l4IETTHHnusHGM7GH9rOl577TX5HMtJJ53kb80G9z5o0CA5B1FWkydP9vdkh3MRQca5CDvOqumghcyfP198Va1atRI/DH4LzocGNn36dP/IuhAi7dqaiLM4n4i7R84dp8k4uKf99ttPPoMGVxiODfjR2M99h/moHPiI8O/wfTivoig7JrlpKPhFiPYiKumBBx4QO3oYZM0zUiVKhtErI+PCUuqzZ882l112mURgMTo/99xz/T3JEGXkfDrY9/E9ZIWopCuuuEJG3URp4c+JGtknwffks0Q72Q5WfDrFsH79eqkkgM8BLeHCCy+U+wzTUmhH/Ce0I36qKJ8W/iJGKY8++qixQk+OLcxsLwQtAp8Q1+VeSKIMgqaDDwZfEkmlaEpRWib+Lvxep59+uozY3ZwxwM8z6wieNlqyZIlouqUAnxHVDpIi5hRllwOBkgfkRDC6bdmypSQLRsFon5wERqRROQlutMxonPyELCxfvlw+y/LEE0/4W7OBtnX++efLOYhGy3oPQawwqr6fYD4JEVHktxCRFGTjxo0S1UYiYtyoHp8Q50QrdEmlQdBGiDrjGDSJYPLh4sWLJVfFwed79+4txx522GHez3/+c39POFbgel26dJHjmzRpUivKzEGbOQ3mnnvu8bfWhcgy56uywrZWe4waNSqVL6cQvhvnK9VCxNqCBQv8qymK4silOKQ9j7GdkOShEIVE3kgYjITROPBLdOzYUUbPheDvYCIoIKop67znjG6d7T/tyJb7x36/detWec853OiT0WhSzoiDmlmch3Zw/PCHP5RXIimo9+XAn+FqXTnQ7oiyQqvCf/PMM8/4e+qCvwIfEaP6MF8HmhGjfSDSKhjZRXQbEXkONAeXX8N3DWoIYRBJ9vLLL8u9jxkzRvKHCqEcDiVhaMdC30oQ/GTkd1BKBq2IyDxAo4uLSIsDzWj16tUlW3huUf4gRdmlEbFSJIykXf4JEVZRtnoy6m0HIVFBtkPyt9aGHAbKfXAul3WeBWz5ZOjz+bS+jwkTJohGgmbiwI+ATR8NxZV7iQONgzIpd999t7+lStPh82huwfIo+JHOPvts77nnnvO3VGE7ea9169Zy71aQxo6CGc2j5YX5oGDp0qVyHioSBPNheFb4PNasWeNvqWLGjBlyPBoKWf5RoOmce+65cuzVV18dGWlGfgzH4Mdav369v7UuROFxHO1BGzrQXgtLyiiKUtnkoqEQrcLoHMjgfuedd2Q9CNtGjRoltvVx48ZF2ugpwMiIFYIZ12lhhE3+CpBDEgca09ixYyUijQKXTZs29fdU5ccQvWQ7YBmVxsF3JlKNTPBgxASVAMhcZ8SPJuF49tln5VpoaUHILUFbIOIJP1RUVWIi2ciGZyQePG8QV7EA7YH7chC9xuiaLP4gRNWhQfF98XOFwbNDgyJnCO0Sf1BYtWG0zJUrV8o6bRilZdrfn2S1wzHHHCP5NsA2/EKdO3eW94qi7CBUyZXisB23jOaxmVMXa+jQobVyLcj6JtIH2zO1nuJgZMpttWjRIjazOo5t27ZJUUrOM3PmTH9rDeSqEE1EbgiFDKPs9FbQiBbAcdj6g5A74fwgaGcTJ06s48vA14CGgkaGxgBcCy2uUDsB2ow6UWTl89lC2I+PqH379nJPcT4W/Fh8fzQEsrsBf84ZZ5whfpow0Hb22msv77TTTpNqA0HQMsjbQeO57rrrpBpAFBQDtQJCrp9UFYBzcRyvsH37domwI18ozDekKErlUnSUF/4C6myRbc6IGrs3Gc/koJCtjT8EPwIjZaKumH8kDvIuiAgaMGCA5FjE5ULEgT+EXBfmLSELnsx8fBRoQGhU5Kkw1wpRUnHXIG+E85CzwnkYRTOC5jy205US+Ndcc03kPCNkjpOfw2dPPPFEGd2jQRHFFgb3SDutWrVK2gp/FFoLkWdE0pHPgWbCOQuj44LwXLhvysRTKYDHjL8C/wz3EQXnR/PAl4EWgg+DuljMQ4P2h4aSpDmQd0NkHhrXvHnzYuerYQoCNDIqCBA19uqrr4rvBU3KVR7YlUC7S+v7SwPPnd9P0v8ITbo+1+Z4fhf483YV0NTpP+LaKqxbDTvePR/+y3Hnw5pChY+scE4iMevji6wPRQsUOm7msSA8FCHAfCX8MAlBxexBx0SHkbZ0CpNI0Yn37dtX5t4oFhyoVhuQpEJAMJAsyRwcYaG2YdDBzZo1S84FfA7hiaM9OPlXFDiwccIjLPhecR26AzMbTnmEH3BNTFUI6bThqlyPIAg6acKBSYREACbBH4bvi2AAAhMQYm3bto0s+RKEkiIkrFJGhaTQJHDAP/zwwyKgCfmm4OeuBqHdDMoYSPCXpAMh7Jn14F8UwRA0M/KsguHRdCCuE6GjYp3fC+bmOAFNaSDK5/A5FoQEn2VgwjWCgSZBOJb/AAVMmXTNFYrdmcEcze+bZ+HaCnhOtBV9Hs/IPRf3TNyzYp3/EZ/nPabvYcOGxf63KBVFaD6DWT7PNd0ggSAnfj9hcCwmd8zeDOz4H8cNRIulaIGC0OjWrZv4SOgAGfEripINou6oY0fnQBUHfGO8x9eGQKdjoPOaP39+raoNWAPQjumM+CujaTDIc7OKss7gicFQnEAhOhGtm/MQoUduEffCtbFAcA7eB+Ge8Lnxv0f7JVKPagtUwtiZtUssBfR7tBWaOzlUgBChKgUDL55FUAjTVgzwXJvhR0V7BypOYMVhABAF2gnH83wRHlhxuA/AYtC/f/9QocLAhAElliOX+8fzifK9Fg0CpRhswyCQxH8SV79LUZRoyD3if0RNM/x1+OjCcHP8sBCZGHUc259++mnxW1ItwY6E/T3J4GvD78c1zjnnHPFrxUFkJZGStkOUz1AnL8wHuDOCL9Q9j+OPPz5VfT2gzZjsjs9deeWV/tZ04EvFV81nrfaRmBPFs7cDBqmLyGesRuktWbLE35svRUd5YcoB7P1h+QiKosSDKYQRK9UlJk2aJObJKJ8HPjhHnP+P7VgOMKcQ0efye9LgKlYzmsbsHGeKAcwvVEO46KKL5D2mM0zetn+R96WAkXeUGa6cuJw5QFMMi3oMgzbDD2oFfmxNwTCIgmVOHsCcifYYB88eMzuaJr4uNCT8lZjy86YogYIKvHTpUlnnR7srOeYUJS/owLGlkyQaB52860gIeiHUOg6ECh2cmxIiDfynXSeJ7T0qdL0QroX/xAkuCoPiSy0FCKqbbrpJfBkNCW3lph/ge+OfyAImLkL1Dz30UH9LOt58801JHQAEBQOQNPA7IPEc8M3ir8ubogQKNjxyMACnXNRoSVGUaAhCoeMuzA0qhP8aTllgvpgkgYLNnk49TeCIg8rPb7zxhqwTGZQlMIYO1oFQcpUn8oaIR9qMYJuGhLaiQgggHLIIbgfCIGsEFgMQ19ZYhvCtpYHPMHABfkdJ+XX1oV4ChYTBoUOHSvIf4XNIZ8JTUaMI99ywYYN/pKIoceAoJYKHCciSwCHvBArChCi6OOjQcY6njQoERr+uk0QLCibFJsGI15mhiCRK29FlhU4RM1ypzp8WTE8uCZgE3qwCBU2L/tMl9KaFRGxHlsmxCJxySedOe82begkURgiMfKjIS4Y52eaE4hJlgF1ONRVFSQdVkRmlxtU7AzpqIovcCBO7e1KHwP+Uc2ex0QdHrdTSSwvCy2k2gMUiWHmiFODjaUhclBYQMh3np8JPVggaA6anLL5njneVRJjjiMi6tDBYIEoM+Fx9NKpE8MwritIwEKFDNFYSVI2gIgN/WSIqia5Mwo5GpUabq5SQhBVaUg2Ba7CkuS8H9eKIHuJztqP3pk2b5u/JH6o0UInh4osv9reUH9qK2n2uraiqEcWrr77qDR482H9XA9FzVNjIEhH3/PPPS7UKrkk0HVU/0kBUGe3l7rdr166J0Xv1oSgfiqIoxYEjO2qemiDUynOOWEaXSRoN4OwlxyFtIhvJv9jnAZ9AFv8JeQ5ED8Hll1+eyoS3I0MSLvk6wPOIqpQB+HvCzHOY7YiOS6ruHYRkY5dvQvWPtIFQ+LtdhCC/C/JYkqL36oMKFEXZAcA/4ezfmLCyTuuQBs6PWQ3oIDGppAHfjpummlBmSgeVwj5fSdBOLuyWtooyKxKZt2jRIim9VCyYPV31CnBTTiTBfVKGCXMX98k07UmhxvVFBYqiVDjkXJDJ7iDLuRR+Sjo+z88dIaM6afTLsVSFZr4dyufwSigvmf47O0SY4aMCMuPDAiTwM99www0SSJFHGSk0VBeUgRBLM4sstfKogE6+4FFHHSUljkqpPapAUZQKh44L5z0gSJhqIG8QDtTRc1CUlM4ruGDSQnAQEkytN4qcMm0DSXpMS02kZ5YQ5R0VAiOIzHMsX75cCrAS+Ury4LXXXislaDBnImBJLiWBsVgIG3fTUiC0ieArfEaEMhN5xlToCDNqKDJQGDJkiExlXuopIYqu5aUoSmmhwyKKiHpOmKEI683b5LVp0yaZfwhbO+Yqst4JhXVRZUBXgfmE5Ep8AnRqdFikD2TxAxQLZqRTTz1VopTwT5Sb9evXyygfHwqh1Tyb4PfHNEU4OPvp4Kn1RUXyYrnjjjukWjjPgSg6CsUWgn8FYYePh98KYd8UaE3KWcoLFSiKUuEwZbOb7oApBR5//PHcczDQThAidIB01DhtyV8J6x4oGMmIO2v+RF6gsZHQx30SDFBuGOkz9QVCmArgVBMvFKiEBE+fPl20FY7HLFYM+D8wXZGDgpZ62223iV8Gc2hh+DQBFQRiNEQpLBUoilLh0HE4p/ddd90lZpW8YZ6bO++8UwQIQgsTVjnzydB88BGE5WsEQZAiUPDX4BMYP358dW5FFHS4dLB5lYdC2DJvExCEwJxHYTkoaHK0K1N6pJk2Ig7MXZg6aSNyi4jYSppbqkFAoCiKUplQvbZ58+YM+iS/Y/Hixf6e/LCjae+KK66Qa7CMHDnS31M+mKnVdpSSy5K0cBz32bhxY++QQw4JPSa4NGvWzLOj9cSqvGkgn8PNBmuFm1QMjoIcIGavTVuBOI65c+fK9+W6VjOTWWkrEdVQFKWCITwV3wYOV+zhs2fPri7wlxeUSurdu7c4bzFlMTdHKRz/ceDsd76ZONA20FCYzA8fD34FzD5x0MWhmRx33HFF+3poK/xG+JrQegjjxZ8RxpQpU8T8lGaSuSTGjRsnTn8YNGiQaElxmfkNBgJFUZTKxHbu3p577ikj0z59+uQy2i2ETG5G+lyDDPS1a9f6eyoTtITWrVt7l156qb+lfDBXjNMU2rRp423evNnfUxcy+tNmssfB/CfMfcM1We6//35/T+WhYcOKUsEw66LzK+AzKEXCIJqBK+hK1nfeGlDe0B5EnwUj0MoFtc6o4gyUjo+rV0YEWB4+G+qkMR2Ao5KnWVaBoigVCuGxrtwKHVOWyr9pwVxEzoKD+TkKo4aUGlxwBJBfUg4oh+PMepj5KnkiQxUoilKhMM88mc5AHgG5F3nDaN9NEoW9n9pfSjhEojFXvyPKd5I3wWkByH8pZ85PVlSgKEqFgkAhLwRKVb8rOJ0s1yBDXgkHc5czP7qplUuN53nmlVdekXU0R7TUStYgVaAoSgWCiWPu3LnV9nq0EzSIvGFODyZ5AvIaSiG0dhbmzJlTXemX4orlSOykyjQRZUBCKSbJSkbDhhWlgSFpbenSpeJ8ZQTMK+HCFCB0I2JKlXfr1k2KEOJPwTnfvn37zFVjOS8Lobd0VtTfcloQ9nnKqXMNwocJHa5E80q5Sq/QkWPiQuBSbmXSpElybaDYI6HLBx54oJijaKfzzjuv6JLwlGzht0CQBJn4CDE3kRdhwv369ZOse65Hln5c2fyGQAWKojQw5BSQTU3EEJ0T2gkLnZPLNeA9f1Wy18nVoK7XmDFjMvs8RowYIYUdEUhO+3G5H1zDrTP6Jls+y4yA5aIcAoXSKcOHD5csePJN0Ex4Fq59iDDjWfC8WJhjhBI5WeeHL4RcILLruR7n5T6ckOL5s433FIm89dZbpRxLJaECRVEaGPcXzGIb5zP1saWnuVZ97qeclEtDydJWkEd7pT1fpT4j9aEoSgNDp5C1Y6hvR5LmWvW5n3Li7g+NqpSkaQd3TNJxaUl7vjyvmScqUBRF2aFgHhCinSqyOOIujpq8FEVRlFxQDUVRFEXJBRUoiqIoSi6oQFEURVFyQQWKoiiKkgsqUBRFUZRcUIGiKIqi5IIKFEVRFCUXVKAoiqIouaACRVEURckFFSiKoihKLqhAURRFUXJBBYqiKIqSA8b8HwI4RcLXkdEgAAAAAElFTkSuQmCC)\n",
        "\n",
        "\n",
        "Для моей базовой модели метрика precision получилась 0.418, что меньше, чем если бы я принимал решение подбрасывая монетку. Думаю, что такое значение метрики вызвано рядом причин: \n",
        "\n",
        "•\tдля тестирования я беру всего 100 последних дней, что мало и в плане количества, и в то же время не совсем корректно с точки зрения анализа временных рядов\n",
        "\n",
        "•\tв последние 100 дней по сравнению с жизнью всей акции происходит достаточно аномальная активность, а именно падение\n"
      ],
      "metadata": {
        "id": "dzuSEICWZR_Z"
      },
      "id": "dzuSEICWZR_Z"
    },
    {
      "cell_type": "code",
      "execution_count": 20,
      "id": "7e70bf1d",
      "metadata": {
        "colab": {
          "base_uri": "https://localhost:8080/"
        },
        "id": "7e70bf1d",
        "outputId": "263d05dd-a970-48f8-f3d6-62a4adc66a0e"
      },
      "outputs": [
        {
          "output_type": "execute_result",
          "data": {
            "text/plain": [
              "0.418"
            ]
          },
          "metadata": {},
          "execution_count": 20
        }
      ],
      "source": [
        "preds = model.predict(test[predictors])\n",
        "preds = pd.Series(preds, index=test.index)\n",
        "\n",
        "round(precision_score(test[\"Target\"], preds), 3)"
      ]
    },
    {
      "cell_type": "code",
      "execution_count": 21,
      "id": "8a4a968c",
      "metadata": {
        "colab": {
          "base_uri": "https://localhost:8080/",
          "height": 238
        },
        "id": "8a4a968c",
        "outputId": "3f25cb33-9ab1-4773-c4a5-ecf5ed643371"
      },
      "outputs": [
        {
          "output_type": "execute_result",
          "data": {
            "text/plain": [
              "                           Target  Predictions\n",
              "Date                                          \n",
              "2022-08-01 00:00:00-04:00     0.0          1.0\n",
              "2022-08-02 00:00:00-04:00     0.0          1.0\n",
              "2022-08-03 00:00:00-04:00     1.0          1.0\n",
              "2022-08-04 00:00:00-04:00     1.0          1.0\n",
              "2022-08-05 00:00:00-04:00     0.0          1.0"
            ],
            "text/html": [
              "\n",
              "  <div id=\"df-b27f5844-302b-436e-b788-76fdb0c7e616\">\n",
              "    <div class=\"colab-df-container\">\n",
              "      <div>\n",
              "<style scoped>\n",
              "    .dataframe tbody tr th:only-of-type {\n",
              "        vertical-align: middle;\n",
              "    }\n",
              "\n",
              "    .dataframe tbody tr th {\n",
              "        vertical-align: top;\n",
              "    }\n",
              "\n",
              "    .dataframe thead th {\n",
              "        text-align: right;\n",
              "    }\n",
              "</style>\n",
              "<table border=\"1\" class=\"dataframe\">\n",
              "  <thead>\n",
              "    <tr style=\"text-align: right;\">\n",
              "      <th></th>\n",
              "      <th>Target</th>\n",
              "      <th>Predictions</th>\n",
              "    </tr>\n",
              "    <tr>\n",
              "      <th>Date</th>\n",
              "      <th></th>\n",
              "      <th></th>\n",
              "    </tr>\n",
              "  </thead>\n",
              "  <tbody>\n",
              "    <tr>\n",
              "      <th>2022-08-01 00:00:00-04:00</th>\n",
              "      <td>0.0</td>\n",
              "      <td>1.0</td>\n",
              "    </tr>\n",
              "    <tr>\n",
              "      <th>2022-08-02 00:00:00-04:00</th>\n",
              "      <td>0.0</td>\n",
              "      <td>1.0</td>\n",
              "    </tr>\n",
              "    <tr>\n",
              "      <th>2022-08-03 00:00:00-04:00</th>\n",
              "      <td>1.0</td>\n",
              "      <td>1.0</td>\n",
              "    </tr>\n",
              "    <tr>\n",
              "      <th>2022-08-04 00:00:00-04:00</th>\n",
              "      <td>1.0</td>\n",
              "      <td>1.0</td>\n",
              "    </tr>\n",
              "    <tr>\n",
              "      <th>2022-08-05 00:00:00-04:00</th>\n",
              "      <td>0.0</td>\n",
              "      <td>1.0</td>\n",
              "    </tr>\n",
              "  </tbody>\n",
              "</table>\n",
              "</div>\n",
              "      <button class=\"colab-df-convert\" onclick=\"convertToInteractive('df-b27f5844-302b-436e-b788-76fdb0c7e616')\"\n",
              "              title=\"Convert this dataframe to an interactive table.\"\n",
              "              style=\"display:none;\">\n",
              "        \n",
              "  <svg xmlns=\"http://www.w3.org/2000/svg\" height=\"24px\"viewBox=\"0 0 24 24\"\n",
              "       width=\"24px\">\n",
              "    <path d=\"M0 0h24v24H0V0z\" fill=\"none\"/>\n",
              "    <path d=\"M18.56 5.44l.94 2.06.94-2.06 2.06-.94-2.06-.94-.94-2.06-.94 2.06-2.06.94zm-11 1L8.5 8.5l.94-2.06 2.06-.94-2.06-.94L8.5 2.5l-.94 2.06-2.06.94zm10 10l.94 2.06.94-2.06 2.06-.94-2.06-.94-.94-2.06-.94 2.06-2.06.94z\"/><path d=\"M17.41 7.96l-1.37-1.37c-.4-.4-.92-.59-1.43-.59-.52 0-1.04.2-1.43.59L10.3 9.45l-7.72 7.72c-.78.78-.78 2.05 0 2.83L4 21.41c.39.39.9.59 1.41.59.51 0 1.02-.2 1.41-.59l7.78-7.78 2.81-2.81c.8-.78.8-2.07 0-2.86zM5.41 20L4 18.59l7.72-7.72 1.47 1.35L5.41 20z\"/>\n",
              "  </svg>\n",
              "      </button>\n",
              "      \n",
              "  <style>\n",
              "    .colab-df-container {\n",
              "      display:flex;\n",
              "      flex-wrap:wrap;\n",
              "      gap: 12px;\n",
              "    }\n",
              "\n",
              "    .colab-df-convert {\n",
              "      background-color: #E8F0FE;\n",
              "      border: none;\n",
              "      border-radius: 50%;\n",
              "      cursor: pointer;\n",
              "      display: none;\n",
              "      fill: #1967D2;\n",
              "      height: 32px;\n",
              "      padding: 0 0 0 0;\n",
              "      width: 32px;\n",
              "    }\n",
              "\n",
              "    .colab-df-convert:hover {\n",
              "      background-color: #E2EBFA;\n",
              "      box-shadow: 0px 1px 2px rgba(60, 64, 67, 0.3), 0px 1px 3px 1px rgba(60, 64, 67, 0.15);\n",
              "      fill: #174EA6;\n",
              "    }\n",
              "\n",
              "    [theme=dark] .colab-df-convert {\n",
              "      background-color: #3B4455;\n",
              "      fill: #D2E3FC;\n",
              "    }\n",
              "\n",
              "    [theme=dark] .colab-df-convert:hover {\n",
              "      background-color: #434B5C;\n",
              "      box-shadow: 0px 1px 3px 1px rgba(0, 0, 0, 0.15);\n",
              "      filter: drop-shadow(0px 1px 2px rgba(0, 0, 0, 0.3));\n",
              "      fill: #FFFFFF;\n",
              "    }\n",
              "  </style>\n",
              "\n",
              "      <script>\n",
              "        const buttonEl =\n",
              "          document.querySelector('#df-b27f5844-302b-436e-b788-76fdb0c7e616 button.colab-df-convert');\n",
              "        buttonEl.style.display =\n",
              "          google.colab.kernel.accessAllowed ? 'block' : 'none';\n",
              "\n",
              "        async function convertToInteractive(key) {\n",
              "          const element = document.querySelector('#df-b27f5844-302b-436e-b788-76fdb0c7e616');\n",
              "          const dataTable =\n",
              "            await google.colab.kernel.invokeFunction('convertToInteractive',\n",
              "                                                     [key], {});\n",
              "          if (!dataTable) return;\n",
              "\n",
              "          const docLinkHtml = 'Like what you see? Visit the ' +\n",
              "            '<a target=\"_blank\" href=https://colab.research.google.com/notebooks/data_table.ipynb>data table notebook</a>'\n",
              "            + ' to learn more about interactive tables.';\n",
              "          element.innerHTML = '';\n",
              "          dataTable['output_type'] = 'display_data';\n",
              "          await google.colab.output.renderOutput(dataTable, element);\n",
              "          const docLink = document.createElement('div');\n",
              "          docLink.innerHTML = docLinkHtml;\n",
              "          element.appendChild(docLink);\n",
              "        }\n",
              "      </script>\n",
              "    </div>\n",
              "  </div>\n",
              "  "
            ]
          },
          "metadata": {},
          "execution_count": 21
        }
      ],
      "source": [
        "# смотрим на графике что предсказывает модель\n",
        "combined = pd.DataFrame({'Target' :test[\"Target\"], 'Predictions': preds})\n",
        "combined.head()"
      ]
    },
    {
      "cell_type": "markdown",
      "source": [
        "Для более глубоко понимания поведения модели я хочу посмотреть на график значений таргета и предсказанного моделью значения. "
      ],
      "metadata": {
        "id": "Jqi4K4vkZn35"
      },
      "id": "Jqi4K4vkZn35"
    },
    {
      "cell_type": "markdown",
      "source": [
        "Как можно увидеть на графике в большинстве случаев модель предпочитает предсказывать рост акции, и лишь иногда она предсказывает падение цены акции.Проблему низкой метрики я собираюсь решить за счет улучшения модели по нескольким показателям\n",
        "\n",
        "•\tувеличение количества предикатов\n",
        "\n",
        "•\tнормализация данных\n",
        "\n",
        "•\tизменение подхода в разделении данных на тест и трейн\n"
      ],
      "metadata": {
        "id": "mSFTMpmE9Iyz"
      },
      "id": "mSFTMpmE9Iyz"
    },
    {
      "cell_type": "code",
      "execution_count": 22,
      "id": "405500ee",
      "metadata": {
        "colab": {
          "base_uri": "https://localhost:8080/",
          "height": 348
        },
        "id": "405500ee",
        "outputId": "c531cc26-396b-4f78-c033-d99e638db3f2"
      },
      "outputs": [
        {
          "output_type": "display_data",
          "data": {
            "text/plain": [
              "<Figure size 576x396 with 1 Axes>"
            ],
            "image/png": "[encoded data removed]"
          },
          "metadata": {}
        }
      ],
      "source": [
        "combined.plot()\n",
        "plt.show()"
      ]
    },
    {
      "cell_type": "code",
      "execution_count": 23,
      "id": "eacffc28",
      "metadata": {
        "id": "eacffc28"
      },
      "outputs": [],
      "source": [
        "# import graphviz\n",
        "# from sklearn.tree import export_graphviz\n",
        "\n",
        "# dot_data = export_graphviz(model.estimators_[0], \n",
        "#                            feature_names=predictors,\n",
        "#                            filled=True, impurity=True, \n",
        "#                            rounded=True)\n",
        "\n",
        "# graph = graphviz.Source(dot_data, format='png')\n",
        "# graph"
      ]
    },
    {
      "cell_type": "markdown",
      "source": [],
      "metadata": {
        "id": "QDvCtIF36zeY"
      },
      "id": "QDvCtIF36zeY"
    },
    {
      "cell_type": "markdown",
      "id": "9686d5db",
      "metadata": {
        "id": "9686d5db"
      },
      "source": [
        "### Упаковка в функции"
      ]
    },
    {
      "cell_type": "code",
      "execution_count": 24,
      "id": "42b34533",
      "metadata": {
        "id": "42b34533"
      },
      "outputs": [],
      "source": [
        "predictors_before = [\"Close\", \"Volume\", \"Open\", \"High\", \"Low\"]"
      ]
    },
    {
      "cell_type": "markdown",
      "source": [
        "Также я написал функцию, которая собирает все манипуляции с данными, которые применялись на прошлых шагах."
      ],
      "metadata": {
        "id": "QVWkxt_YaPd6"
      },
      "id": "QVWkxt_YaPd6"
    },
    {
      "cell_type": "code",
      "execution_count": 25,
      "id": "54ee9567",
      "metadata": {
        "id": "54ee9567"
      },
      "outputs": [],
      "source": [
        "def preproc_data(msft_hist):\n",
        "    data = msft_hist[['Close']]\n",
        "    data = data.rename(columns={'Close': 'Actual_Close'})\n",
        "    data['Target'] = msft_hist['Close'].rolling(2).apply(lambda x: x.iloc[1]>x.iloc[0])\n",
        "    msft_prev = msft_hist.copy()\n",
        "    msft_prev = msft_prev.shift(1)\n",
        "    data = data.join(msft_prev[predictors_before]).iloc[1:]\n",
        "    return data"
      ]
    },
    {
      "cell_type": "markdown",
      "source": [
        "В первую очередь я хочу нормализовать свои данные. Для этого я написал функцию, основой которой является метод минимакс. \n",
        "![image.png](data:image/png;base64,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)"
      ],
      "metadata": {
        "id": "a-hPGMPEZ4SY"
      },
      "id": "a-hPGMPEZ4SY"
    },
    {
      "cell_type": "code",
      "execution_count": 26,
      "id": "3b378196",
      "metadata": {
        "id": "3b378196"
      },
      "outputs": [],
      "source": [
        "def normalize_data(data, predictors):\n",
        "    for el in predictors:\n",
        "        mins = data[el].min()\n",
        "        maxs = data[el].max()\n",
        "        zn = maxs-mins\n",
        "        data[el] = (data[el]-mins)/zn\n",
        "    return data"
      ]
    },
    {
      "cell_type": "markdown",
      "source": [
        "После этого я задумался над добавлением новых предикатов, которые бы основывались на имеющихся данных. Я буду добавлять следующие значения:\n",
        "\n",
        "•\tСреднее значение цены закрытия за неделю\n",
        "\n",
        "•\tСреднее значение цены закрытия за месяц\n",
        "\n",
        "•\tСреднее значение цены закрытия за квартал\n",
        "\n",
        "•\tСреднее значение цены закрытия за год\n",
        "\n",
        "•\tТренд роста или падения цены за неделю\n",
        "\n",
        "•\tТренд роста или падения цены за месяц\n",
        "\n",
        "•\tОтношение цены открытия к цене закрытия\n",
        "\n",
        "•\tОтношение максимальной цены за день к цене закрытия\n",
        "\n",
        "•\tОтношение минимальной цены за день к цене закрытия\n",
        "Все эти новые предикаты я получаю на основе имеющихся данных, поэтому я завернул этот процесс в функцию rolling_means.\n"
      ],
      "metadata": {
        "id": "cYgAyaiJaVzH"
      },
      "id": "cYgAyaiJaVzH"
    },
    {
      "cell_type": "code",
      "execution_count": 27,
      "id": "b27b27ed",
      "metadata": {
        "id": "b27b27ed"
      },
      "outputs": [],
      "source": [
        "def rolling_means(data):\n",
        "    weekly_mean = data.rolling(7).mean()['Close']\n",
        "    monthly_mean = data.rolling(30).mean()['Close']\n",
        "    quarterly_mean = data.rolling(90).mean()['Close']\n",
        "    year_mean = data.rolling(365).mean()['Close']\n",
        "    \n",
        "    weekly_trend = data.shift(1).rolling(7).sum()[\"Target\"]\n",
        "    monthly_trend = data.shift(1).rolling(30).sum()[\"Target\"]\n",
        "    \n",
        "    # means\n",
        "    data['weekly_mean'] = weekly_mean\n",
        "    data['monthly_mean'] = monthly_mean\n",
        "    data['quarterly_mean'] = quarterly_mean\n",
        "    data['year_mean'] = year_mean\n",
        "    \n",
        "    #trend\n",
        "    data['weekly_trend'] = weekly_trend/7\n",
        "    data['monthly_trend'] = monthly_trend/31\n",
        "    \n",
        "     # open high low ratio\n",
        "    data['open_close_ratio'] = data['Open'] / 100*data['Close']\n",
        "    data['high_close_ratio'] = data['High'] /100* data['Close']\n",
        "    data['low_close_ratio'] = data['Low'] / 100*data['Close']\n",
        "\n",
        "    \n",
        "    return data"
      ]
    },
    {
      "cell_type": "markdown",
      "source": [
        "После этого мне понадобилась функция, которая вмещала бы в себя все предыдущие шаги обработки данных, которые должны производиться в следующем порядке:\n",
        "1.\tФормирование первоначального датасета со сдвигом предикатов\n",
        "2.\tНормализация данных\n",
        "3.\tСоздание новых предикатов на основе имеющихся \n",
        "4.\tОчистка данных от NaN\n",
        "Все эти шаги были реализованы в отдельных функциях, поэтому в функции final_data мне требовалось просто собрать все это вместе.\n"
      ],
      "metadata": {
        "id": "Cyq_3Wana6TW"
      },
      "id": "Cyq_3Wana6TW"
    },
    {
      "cell_type": "code",
      "execution_count": 28,
      "id": "b4c84945",
      "metadata": {
        "id": "b4c84945"
      },
      "outputs": [],
      "source": [
        "def final_data(msft_hist):    \n",
        "    data = preproc_data(msft_hist)\n",
        "    data = normalize_data(data, predictors_before)\n",
        "    data = rolling_means(data)\n",
        "    data = data.dropna(axis=0)\n",
        "\n",
        "    return data "
      ]
    },
    {
      "cell_type": "markdown",
      "source": [
        "После этого я хочу улучшить модель, обучая ее не только на последних 100 строках. Это даст мне более надежную оценку ошибки. Я буду использовать метод обратного тестирования, который гарантирует, что я использую данные только до того дня, когда я прогнозирую. Мой алгоритм обучается на start строках, а затем тестируется на последующих step строках.\n",
        "Также с помощью параметра use_predict_proba я могу увеличивать порог уверенности предсказания роста цены до 0,65.\n"
      ],
      "metadata": {
        "id": "vp0O-v1kbS2D"
      },
      "id": "vp0O-v1kbS2D"
    },
    {
      "cell_type": "code",
      "source": [
        "def backtest(data, model, predictors, start = 700, step = 350, use_predict_proba=True):\n",
        "  predictions = []\n",
        "\n",
        "  for i in range(start, data.shape[0], step):\n",
        "      # Split into test and train\n",
        "      train = data.iloc[0:i].copy()\n",
        "      test = data.iloc[i:(i+step)].copy()\n",
        "\n",
        "      # Fit model\n",
        "      model.fit(train[predictors], train['Target'])\n",
        "\n",
        "      # Make predictors\n",
        "      if use_predict_proba:\n",
        "          preds = model.predict_proba(test[predictors])[:, 1]\n",
        "          preds = pd.Series(preds, index = test.index)\n",
        "          preds[preds>0.65] = 1\n",
        "          preds[preds<=0.65] = 0\n",
        "      else:\n",
        "          preds = model.predict(test[predictors])\n",
        "          preds = pd.Series(preds, index = test.index)\n",
        "\n",
        "       # Combine predictions and test value\n",
        "      combined = pd.DataFrame({'Target' :test[\"Target\"], 'Predictions': preds})\n",
        "\n",
        "      predictions.append(combined)\n",
        "\n",
        "  return pd.concat(predictions)"
      ],
      "metadata": {
        "id": "1rFXoRv9dvnS"
      },
      "id": "1rFXoRv9dvnS",
      "execution_count": 29,
      "outputs": []
    },
    {
      "cell_type": "code",
      "execution_count": 30,
      "id": "f3ee4f93",
      "metadata": {
        "id": "f3ee4f93"
      },
      "outputs": [],
      "source": [
        "def metricks(predictions):\n",
        "    print(f\"precision_score: {round(precision_score(predictions['Target'], predictions['Predictions']),3)}\")"
      ]
    },
    {
      "cell_type": "markdown",
      "source": [
        "Реализовали алгоритм, в этом разделе написали все необходимые функци, подняли порог уверенности предсказания роста цены до 0,65."
      ],
      "metadata": {
        "id": "vCH505pA9ft9"
      },
      "id": "vCH505pA9ft9"
    },
    {
      "cell_type": "markdown",
      "id": "4950a9d2",
      "metadata": {
        "id": "4950a9d2"
      },
      "source": [
        "### Models"
      ]
    },
    {
      "cell_type": "markdown",
      "source": [
        "Запуск моделей\n",
        "Для тестирования я выбрал еще несколько алгоритмов:\n",
        "\n",
        "•\tЛогистическая регрессия\n",
        "\n",
        "•\tМетод k ближайших соседей\n",
        "\n",
        "•\tКлассификатор случайный лес\n",
        "\n",
        "•\tКлассификатор дерева решений\n",
        "\n",
        "•\tМногослойный перцептрон\n",
        "\n",
        "•\tМетод опорных векторов с гауссовым ядром\n",
        "\n",
        "•\tМетод опорных векторов с линейным ядром\n"
      ],
      "metadata": {
        "id": "bwNXur0KbsHo"
      },
      "id": "bwNXur0KbsHo"
    },
    {
      "cell_type": "code",
      "execution_count": 31,
      "id": "1c8f30a7",
      "metadata": {
        "id": "1c8f30a7"
      },
      "outputs": [],
      "source": [
        "model_lr = LogisticRegression(max_iter=2000, \n",
        "                              random_state=0, \n",
        "                              penalty='l2')"
      ]
    },
    {
      "cell_type": "code",
      "execution_count": 32,
      "id": "d9169431",
      "metadata": {
        "id": "d9169431"
      },
      "outputs": [],
      "source": [
        "model_knc = KNeighborsClassifier(n_neighbors=3)"
      ]
    },
    {
      "cell_type": "code",
      "execution_count": 33,
      "id": "edd67278",
      "metadata": {
        "id": "edd67278"
      },
      "outputs": [],
      "source": [
        "model_rf = RandomForestClassifier(n_estimators=100, \n",
        "                                  min_samples_split=200, \n",
        "                                  max_depth=5, \n",
        "                                  max_features='auto',\n",
        "                                  min_samples_leaf=4,\n",
        "                                  criterion ='gini',\n",
        "                                  random_state=1)"
      ]
    },
    {
      "cell_type": "code",
      "execution_count": 34,
      "id": "1a005d00",
      "metadata": {
        "id": "1a005d00"
      },
      "outputs": [],
      "source": [
        "model_drt = DecisionTreeClassifier(random_state=42,\n",
        "                                   criterion ='gini',\n",
        "                                   max_depth=5,\n",
        "                                   min_samples_split=5,\n",
        "                                   min_samples_leaf=5,\n",
        "                                   class_weight=None,)"
      ]
    },
    {
      "cell_type": "code",
      "execution_count": 35,
      "id": "bced3afa",
      "metadata": {
        "id": "bced3afa"
      },
      "outputs": [],
      "source": [
        "model_mlp = MLPClassifier(random_state=1, max_iter=2000)"
      ]
    },
    {
      "cell_type": "code",
      "execution_count": 36,
      "id": "28a35075",
      "metadata": {
        "id": "28a35075"
      },
      "outputs": [],
      "source": [
        "model_mnb = MultinomialNB()"
      ]
    },
    {
      "cell_type": "code",
      "execution_count": 37,
      "id": "05ea0a58",
      "metadata": {
        "id": "05ea0a58"
      },
      "outputs": [],
      "source": [
        "model_svc_l = SVC(kernel='linear')"
      ]
    },
    {
      "cell_type": "code",
      "execution_count": 38,
      "id": "0349a186",
      "metadata": {
        "id": "0349a186"
      },
      "outputs": [],
      "source": [
        "model_svc_r = SVC(kernel='rbf')"
      ]
    },
    {
      "cell_type": "markdown",
      "source": [
        "Выбрал модели, которые буду тестировать"
      ],
      "metadata": {
        "id": "1IomF_6u-AxR"
      },
      "id": "1IomF_6u-AxR"
    },
    {
      "cell_type": "markdown",
      "id": "e9331ec3",
      "metadata": {
        "id": "e9331ec3"
      },
      "source": [
        "### Testing model"
      ]
    },
    {
      "cell_type": "code",
      "execution_count": 39,
      "id": "dd142ca4",
      "metadata": {
        "id": "dd142ca4"
      },
      "outputs": [],
      "source": [
        "predictors = ['Close', 'Volume', 'Open', 'High', 'Low', \n",
        "              'weekly_mean', 'monthly_mean', 'quarterly_mean', 'year_mean', 'weekly_trend', 'monthly_trend', \n",
        "              'open_close_ratio', 'high_close_ratio', 'low_close_ratio'\n",
        "             ]\n",
        "              "
      ]
    },
    {
      "cell_type": "code",
      "execution_count": 40,
      "id": "8add5ad0",
      "metadata": {
        "colab": {
          "base_uri": "https://localhost:8080/"
        },
        "id": "8add5ad0",
        "outputId": "33debc9a-97d7-49c9-a56f-3525a76dd718"
      },
      "outputs": [
        {
          "output_type": "stream",
          "name": "stdout",
          "text": [
            "precision_score: 0.578\n",
            "CPU times: user 2.37 s, sys: 1.52 s, total: 3.89 s\n",
            "Wall time: 3.77 s\n"
          ]
        }
      ],
      "source": [
        "%%time\n",
        "# model_lr\n",
        "data = final_data(msft_hist)\n",
        "predictions = backtest(data, model_lr, predictors, use_predict_proba=True)\n",
        "metricks(predictions)"
      ]
    },
    {
      "cell_type": "code",
      "execution_count": 41,
      "id": "9b26c30a",
      "metadata": {
        "colab": {
          "base_uri": "https://localhost:8080/"
        },
        "id": "9b26c30a",
        "outputId": "6d9177a7-ad51-4549-852a-b3d631e0af26"
      },
      "outputs": [
        {
          "output_type": "stream",
          "name": "stdout",
          "text": [
            "precision_score: 0.508\n",
            "CPU times: user 2.41 s, sys: 37 ms, total: 2.45 s\n",
            "Wall time: 3.38 s\n"
          ]
        }
      ],
      "source": [
        "%%time\n",
        "# model_knc\n",
        "data = final_data(msft_hist)\n",
        "predictions = backtest(data, model_knc, predictors, use_predict_proba=True)\n",
        "metricks(predictions)"
      ]
    },
    {
      "cell_type": "code",
      "execution_count": 42,
      "id": "09c66f41",
      "metadata": {
        "colab": {
          "base_uri": "https://localhost:8080/"
        },
        "id": "09c66f41",
        "outputId": "f6127724-d58e-42e6-a5e6-b258f08f70e6"
      },
      "outputs": [
        {
          "output_type": "stream",
          "name": "stdout",
          "text": [
            "precision_score: 0.846\n",
            "CPU times: user 21.7 s, sys: 102 ms, total: 21.8 s\n",
            "Wall time: 26.6 s\n"
          ]
        }
      ],
      "source": [
        "%%time\n",
        "# model_rf\n",
        "data = final_data(msft_hist)\n",
        "predictions = backtest(data, model_rf, predictors, use_predict_proba=True)\n",
        "metricks(predictions)"
      ]
    },
    {
      "cell_type": "code",
      "execution_count": 43,
      "id": "53edd6ef",
      "metadata": {
        "colab": {
          "base_uri": "https://localhost:8080/"
        },
        "id": "53edd6ef",
        "outputId": "0eb10a5d-05d0-40ff-c734-9aca16e1093c"
      },
      "outputs": [
        {
          "output_type": "stream",
          "name": "stdout",
          "text": [
            "precision_score: 0.846\n",
            "CPU times: user 18.7 s, sys: 70.1 ms, total: 18.8 s\n",
            "Wall time: 20.3 s\n"
          ]
        }
      ],
      "source": [
        "%%time\n",
        "data = final_data(msft_hist)\n",
        "predictions = backtest(data, model_rf, predictors, use_predict_proba=True)\n",
        "metricks(predictions)"
      ]
    },
    {
      "cell_type": "code",
      "execution_count": 44,
      "id": "a3dcb36d",
      "metadata": {
        "colab": {
          "base_uri": "https://localhost:8080/"
        },
        "id": "a3dcb36d",
        "outputId": "22d4097e-c437-49df-fd8c-948aea953d9a"
      },
      "outputs": [
        {
          "output_type": "execute_result",
          "data": {
            "text/plain": [
              "0.0    8192\n",
              "1.0      13\n",
              "Name: Predictions, dtype: int64"
            ]
          },
          "metadata": {},
          "execution_count": 44
        }
      ],
      "source": [
        "predictions['Predictions'].value_counts()"
      ]
    },
    {
      "cell_type": "code",
      "execution_count": 45,
      "id": "403d3af0",
      "metadata": {
        "colab": {
          "base_uri": "https://localhost:8080/"
        },
        "id": "403d3af0",
        "outputId": "fa6498ff-6899-44d3-fe77-7a6dbeb10168"
      },
      "outputs": [
        {
          "output_type": "stream",
          "name": "stdout",
          "text": [
            "precision_score: 0.529\n",
            "CPU times: user 2 s, sys: 6.87 ms, total: 2 s\n",
            "Wall time: 2.01 s\n"
          ]
        }
      ],
      "source": [
        "%%time\n",
        "# model_drt\n",
        "data = final_data(msft_hist)\n",
        "predictions = backtest(data, model_drt, predictors, use_predict_proba=True)\n",
        "metricks(predictions)"
      ]
    },
    {
      "cell_type": "code",
      "execution_count": 46,
      "id": "3c9afaea",
      "metadata": {
        "colab": {
          "base_uri": "https://localhost:8080/"
        },
        "id": "3c9afaea",
        "outputId": "2c4eec4d-4102-43c7-e525-962ae91fd068"
      },
      "outputs": [
        {
          "output_type": "stream",
          "name": "stdout",
          "text": [
            "precision_score: 0.571\n",
            "CPU times: user 16.1 s, sys: 13.9 s, total: 30 s\n",
            "Wall time: 19.5 s\n"
          ]
        }
      ],
      "source": [
        "%%time\n",
        "# model_mlp\n",
        "data = final_data(msft_hist)\n",
        "predictions = backtest(data, model_mlp, predictors, use_predict_proba=True)\n",
        "metricks(predictions)"
      ]
    },
    {
      "cell_type": "code",
      "execution_count": 47,
      "id": "024466f3",
      "metadata": {
        "id": "024466f3"
      },
      "outputs": [],
      "source": [
        "import time"
      ]
    },
    {
      "cell_type": "code",
      "execution_count": 48,
      "id": "b59a5f9f",
      "metadata": {
        "colab": {
          "base_uri": "https://localhost:8080/"
        },
        "id": "b59a5f9f",
        "outputId": "135614d6-62e2-4e8b-f229-83e351ce8b34"
      },
      "outputs": [
        {
          "output_type": "stream",
          "name": "stdout",
          "text": [
            "precision_score: 0.508\n",
            "CPU times: user 1.06 s, sys: 59.7 ms, total: 1.12 s\n",
            "Wall time: 1.07 s\n"
          ]
        }
      ],
      "source": [
        "%%time\n",
        "# model_mnb\n",
        "data = final_data(msft_hist)\n",
        "predictions = backtest(data, model_mnb, predictors, use_predict_proba=False)\n",
        "metricks(predictions)"
      ]
    },
    {
      "cell_type": "code",
      "execution_count": 49,
      "id": "1ee4a171",
      "metadata": {
        "colab": {
          "base_uri": "https://localhost:8080/"
        },
        "id": "1ee4a171",
        "outputId": "2fc02a76-1775-4e9b-d124-1ac837e9e81f"
      },
      "outputs": [
        {
          "output_type": "stream",
          "name": "stdout",
          "text": [
            "precision_score: 0.51\n",
            "CPU times: user 27.6 s, sys: 576 ms, total: 28.2 s\n",
            "Wall time: 28.1 s\n"
          ]
        }
      ],
      "source": [
        "%%time\n",
        "# model_svc_l\n",
        "data = final_data(msft_hist)\n",
        "predictions = backtest(data, model_svc_l, predictors, use_predict_proba=False)\n",
        "metricks(predictions)"
      ]
    },
    {
      "cell_type": "code",
      "execution_count": 50,
      "id": "d909bcd5",
      "metadata": {
        "colab": {
          "base_uri": "https://localhost:8080/"
        },
        "id": "d909bcd5",
        "outputId": "8cbda113-2451-4587-a093-a7b19996adf5"
      },
      "outputs": [
        {
          "output_type": "stream",
          "name": "stdout",
          "text": [
            "precision_score: 0.516\n",
            "CPU times: user 46.9 s, sys: 384 ms, total: 47.3 s\n",
            "Wall time: 47.9 s\n"
          ]
        }
      ],
      "source": [
        "%%time\n",
        "# model_svc_r\n",
        "data = final_data(msft_hist)\n",
        "predictions = backtest(data, model_svc_r, predictors, use_predict_proba=False)\n",
        "metricks(predictions)"
      ]
    },
    {
      "cell_type": "code",
      "source": [
        "def model_learning(msft_hist, model_type, predictors, use_predict_proba=False):\n",
        "    \n",
        "    data = final_data(msft_hist)\n",
        "    predictions = backtest(data, model_type, predictors, use_predict_proba=False)\n",
        "    return {\n",
        "        'model': model_type, \n",
        "        'score': round(precision_score(predictions['Target'], predictions['Predictions']), 3)\n",
        "    }\n",
        "\n",
        "model_types = {\n",
        "    'model_lr': model_lr, 'model_knc': model_knc, 'model_rf': model_rf,\n",
        "    'model_drt': model_drt, 'model_mlp': model_mlp, 'model_mnb': model_mnb,\n",
        "    'model_svc_l': model_svc_l, 'model_svc_r': model_svc_r\n",
        "}\n",
        "model_results = {}\n",
        "msft_hist = msft.history(period=\"max\")\n",
        "\n",
        "for model_name, model_type in model_types.items():\n",
        "    data = final_data(msft_hist.copy())\n",
        "    model_results[model_name] = model_learning(msft_hist, model_type, predictors)\n",
        "\n",
        "model_results"
      ],
      "metadata": {
        "colab": {
          "base_uri": "https://localhost:8080/"
        },
        "id": "WxlFnrm99RYl",
        "outputId": "9abd612b-b038-4498-b569-87288ddb8502"
      },
      "id": "WxlFnrm99RYl",
      "execution_count": 51,
      "outputs": [
        {
          "output_type": "execute_result",
          "data": {
            "text/plain": [
              "{'model_lr': {'model': LogisticRegression(max_iter=2000, random_state=0),\n",
              "  'score': 0.513},\n",
              " 'model_knc': {'model': KNeighborsClassifier(n_neighbors=3), 'score': 0.509},\n",
              " 'model_rf': {'model': RandomForestClassifier(max_depth=5, min_samples_leaf=4, min_samples_split=200,\n",
              "                         random_state=1), 'score': 0.51},\n",
              " 'model_drt': {'model': DecisionTreeClassifier(max_depth=5, min_samples_leaf=5, min_samples_split=5,\n",
              "                         random_state=42), 'score': 0.505},\n",
              " 'model_mlp': {'model': MLPClassifier(max_iter=2000, random_state=1),\n",
              "  'score': 0.516},\n",
              " 'model_mnb': {'model': MultinomialNB(), 'score': 0.508},\n",
              " 'model_svc_l': {'model': SVC(kernel='linear'), 'score': 0.51},\n",
              " 'model_svc_r': {'model': SVC(), 'score': 0.516}}"
            ]
          },
          "metadata": {},
          "execution_count": 51
        }
      ]
    },
    {
      "cell_type": "code",
      "source": [
        "import seaborn as sns\n",
        "X_model, Y_model = [], []\n",
        "for row in sorted([(k, v.get('score')) for k, v in model_results.items()], key=lambda x: x[1]):\n",
        "    x, y = row\n",
        "    X_model.append(x), Y_model.append(y)\n",
        "raw_data = {'X_model': X_model, 'Y_model': Y_model}\n",
        "plt.ylim(0.48, 0.525)\n",
        "sns.barplot(x='X_model', y='Y_model', data=raw_data)"
      ],
      "metadata": {
        "colab": {
          "base_uri": "https://localhost:8080/",
          "height": 364
        },
        "id": "yaZ_7Ktt9i53",
        "outputId": "bffa036d-83f5-4c75-bad5-d02fa9c27da7"
      },
      "id": "yaZ_7Ktt9i53",
      "execution_count": 52,
      "outputs": [
        {
          "output_type": "execute_result",
          "data": {
            "text/plain": [
              "<matplotlib.axes._subplots.AxesSubplot at 0x7fc6c8b26430>"
            ]
          },
          "metadata": {},
          "execution_count": 52
        },
        {
          "output_type": "display_data",
          "data": {
            "text/plain": [
              "<Figure size 576x396 with 1 Axes>"
            ],
            "image/png": "[encoded data removed]"
          },
          "metadata": {}
        }
      ]
    },
    {
      "cell_type": "markdown",
      "source": [
        "Вывод: в этом разделе тестировали готовые модели смотрели на precision_score и time чтоб оценить эффективность модели, время учитывать также немаловажно для полного анализа эффективности."
      ],
      "metadata": {
        "id": "d5szpMZB-2IO"
      },
      "id": "d5szpMZB-2IO"
    },
    {
      "cell_type": "markdown",
      "source": [
        "### Аналогично для 2 ой акции"
      ],
      "metadata": {
        "id": "KT9HCK2URi92"
      },
      "id": "KT9HCK2URi92"
    },
    {
      "cell_type": "code",
      "execution_count": 53,
      "metadata": {
        "id": "lFiNja_EMRnJ"
      },
      "outputs": [],
      "source": [
        "gazp = yf.Ticker(\"GAZP.ME\")\n",
        "gazp_hist = msft.history(period=\"max\")"
      ],
      "id": "lFiNja_EMRnJ"
    },
    {
      "cell_type": "code",
      "execution_count": 54,
      "metadata": {
        "id": "KnMdx64DMRnJ",
        "colab": {
          "base_uri": "https://localhost:8080/",
          "height": 238
        },
        "outputId": "f64a5b8a-b3cf-46fe-c6e1-6903f7355700"
      },
      "outputs": [
        {
          "output_type": "execute_result",
          "data": {
            "text/plain": [
              "                               Open      High       Low     Close      Volume  \\\n",
              "Date                                                                            \n",
              "1986-03-13 00:00:00-05:00  0.055380  0.063524  0.055380  0.060809  1031788800   \n",
              "1986-03-14 00:00:00-05:00  0.060809  0.064067  0.060809  0.062980   308160000   \n",
              "1986-03-17 00:00:00-05:00  0.062980  0.064609  0.062980  0.064067   133171200   \n",
              "1986-03-18 00:00:00-05:00  0.064067  0.064609  0.061894  0.062437    67766400   \n",
              "1986-03-19 00:00:00-05:00  0.062437  0.062980  0.060809  0.061351    47894400   \n",
              "\n",
              "                           Dividends  Stock Splits  \n",
              "Date                                                \n",
              "1986-03-13 00:00:00-05:00        0.0           0.0  \n",
              "1986-03-14 00:00:00-05:00        0.0           0.0  \n",
              "1986-03-17 00:00:00-05:00        0.0           0.0  \n",
              "1986-03-18 00:00:00-05:00        0.0           0.0  \n",
              "1986-03-19 00:00:00-05:00        0.0           0.0  "
            ],
            "text/html": [
              "\n",
              "  <div id=\"df-139a7587-ef5c-46c6-8e01-c9eb8c3a5d2e\">\n",
              "    <div class=\"colab-df-container\">\n",
              "      <div>\n",
              "<style scoped>\n",
              "    .dataframe tbody tr th:only-of-type {\n",
              "        vertical-align: middle;\n",
              "    }\n",
              "\n",
              "    .dataframe tbody tr th {\n",
              "        vertical-align: top;\n",
              "    }\n",
              "\n",
              "    .dataframe thead th {\n",
              "        text-align: right;\n",
              "    }\n",
              "</style>\n",
              "<table border=\"1\" class=\"dataframe\">\n",
              "  <thead>\n",
              "    <tr style=\"text-align: right;\">\n",
              "      <th></th>\n",
              "      <th>Open</th>\n",
              "      <th>High</th>\n",
              "      <th>Low</th>\n",
              "      <th>Close</th>\n",
              "      <th>Volume</th>\n",
              "      <th>Dividends</th>\n",
              "      <th>Stock Splits</th>\n",
              "    </tr>\n",
              "    <tr>\n",
              "      <th>Date</th>\n",
              "      <th></th>\n",
              "      <th></th>\n",
              "      <th></th>\n",
              "      <th></th>\n",
              "      <th></th>\n",
              "      <th></th>\n",
              "      <th></th>\n",
              "    </tr>\n",
              "  </thead>\n",
              "  <tbody>\n",
              "    <tr>\n",
              "      <th>1986-03-13 00:00:00-05:00</th>\n",
              "      <td>0.055380</td>\n",
              "      <td>0.063524</td>\n",
              "      <td>0.055380</td>\n",
              "      <td>0.060809</td>\n",
              "      <td>1031788800</td>\n",
              "      <td>0.0</td>\n",
              "      <td>0.0</td>\n",
              "    </tr>\n",
              "    <tr>\n",
              "      <th>1986-03-14 00:00:00-05:00</th>\n",
              "      <td>0.060809</td>\n",
              "      <td>0.064067</td>\n",
              "      <td>0.060809</td>\n",
              "      <td>0.062980</td>\n",
              "      <td>308160000</td>\n",
              "      <td>0.0</td>\n",
              "      <td>0.0</td>\n",
              "    </tr>\n",
              "    <tr>\n",
              "      <th>1986-03-17 00:00:00-05:00</th>\n",
              "      <td>0.062980</td>\n",
              "      <td>0.064609</td>\n",
              "      <td>0.062980</td>\n",
              "      <td>0.064067</td>\n",
              "      <td>133171200</td>\n",
              "      <td>0.0</td>\n",
              "      <td>0.0</td>\n",
              "    </tr>\n",
              "    <tr>\n",
              "      <th>1986-03-18 00:00:00-05:00</th>\n",
              "      <td>0.064067</td>\n",
              "      <td>0.064609</td>\n",
              "      <td>0.061894</td>\n",
              "      <td>0.062437</td>\n",
              "      <td>67766400</td>\n",
              "      <td>0.0</td>\n",
              "      <td>0.0</td>\n",
              "    </tr>\n",
              "    <tr>\n",
              "      <th>1986-03-19 00:00:00-05:00</th>\n",
              "      <td>0.062437</td>\n",
              "      <td>0.062980</td>\n",
              "      <td>0.060809</td>\n",
              "      <td>0.061351</td>\n",
              "      <td>47894400</td>\n",
              "      <td>0.0</td>\n",
              "      <td>0.0</td>\n",
              "    </tr>\n",
              "  </tbody>\n",
              "</table>\n",
              "</div>\n",
              "      <button class=\"colab-df-convert\" onclick=\"convertToInteractive('df-139a7587-ef5c-46c6-8e01-c9eb8c3a5d2e')\"\n",
              "              title=\"Convert this dataframe to an interactive table.\"\n",
              "              style=\"display:none;\">\n",
              "        \n",
              "  <svg xmlns=\"http://www.w3.org/2000/svg\" height=\"24px\"viewBox=\"0 0 24 24\"\n",
              "       width=\"24px\">\n",
              "    <path d=\"M0 0h24v24H0V0z\" fill=\"none\"/>\n",
              "    <path d=\"M18.56 5.44l.94 2.06.94-2.06 2.06-.94-2.06-.94-.94-2.06-.94 2.06-2.06.94zm-11 1L8.5 8.5l.94-2.06 2.06-.94-2.06-.94L8.5 2.5l-.94 2.06-2.06.94zm10 10l.94 2.06.94-2.06 2.06-.94-2.06-.94-.94-2.06-.94 2.06-2.06.94z\"/><path d=\"M17.41 7.96l-1.37-1.37c-.4-.4-.92-.59-1.43-.59-.52 0-1.04.2-1.43.59L10.3 9.45l-7.72 7.72c-.78.78-.78 2.05 0 2.83L4 21.41c.39.39.9.59 1.41.59.51 0 1.02-.2 1.41-.59l7.78-7.78 2.81-2.81c.8-.78.8-2.07 0-2.86zM5.41 20L4 18.59l7.72-7.72 1.47 1.35L5.41 20z\"/>\n",
              "  </svg>\n",
              "      </button>\n",
              "      \n",
              "  <style>\n",
              "    .colab-df-container {\n",
              "      display:flex;\n",
              "      flex-wrap:wrap;\n",
              "      gap: 12px;\n",
              "    }\n",
              "\n",
              "    .colab-df-convert {\n",
              "      background-color: #E8F0FE;\n",
              "      border: none;\n",
              "      border-radius: 50%;\n",
              "      cursor: pointer;\n",
              "      display: none;\n",
              "      fill: #1967D2;\n",
              "      height: 32px;\n",
              "      padding: 0 0 0 0;\n",
              "      width: 32px;\n",
              "    }\n",
              "\n",
              "    .colab-df-convert:hover {\n",
              "      background-color: #E2EBFA;\n",
              "      box-shadow: 0px 1px 2px rgba(60, 64, 67, 0.3), 0px 1px 3px 1px rgba(60, 64, 67, 0.15);\n",
              "      fill: #174EA6;\n",
              "    }\n",
              "\n",
              "    [theme=dark] .colab-df-convert {\n",
              "      background-color: #3B4455;\n",
              "      fill: #D2E3FC;\n",
              "    }\n",
              "\n",
              "    [theme=dark] .colab-df-convert:hover {\n",
              "      background-color: #434B5C;\n",
              "      box-shadow: 0px 1px 3px 1px rgba(0, 0, 0, 0.15);\n",
              "      filter: drop-shadow(0px 1px 2px rgba(0, 0, 0, 0.3));\n",
              "      fill: #FFFFFF;\n",
              "    }\n",
              "  </style>\n",
              "\n",
              "      <script>\n",
              "        const buttonEl =\n",
              "          document.querySelector('#df-139a7587-ef5c-46c6-8e01-c9eb8c3a5d2e button.colab-df-convert');\n",
              "        buttonEl.style.display =\n",
              "          google.colab.kernel.accessAllowed ? 'block' : 'none';\n",
              "\n",
              "        async function convertToInteractive(key) {\n",
              "          const element = document.querySelector('#df-139a7587-ef5c-46c6-8e01-c9eb8c3a5d2e');\n",
              "          const dataTable =\n",
              "            await google.colab.kernel.invokeFunction('convertToInteractive',\n",
              "                                                     [key], {});\n",
              "          if (!dataTable) return;\n",
              "\n",
              "          const docLinkHtml = 'Like what you see? Visit the ' +\n",
              "            '<a target=\"_blank\" href=https://colab.research.google.com/notebooks/data_table.ipynb>data table notebook</a>'\n",
              "            + ' to learn more about interactive tables.';\n",
              "          element.innerHTML = '';\n",
              "          dataTable['output_type'] = 'display_data';\n",
              "          await google.colab.output.renderOutput(dataTable, element);\n",
              "          const docLink = document.createElement('div');\n",
              "          docLink.innerHTML = docLinkHtml;\n",
              "          element.appendChild(docLink);\n",
              "        }\n",
              "      </script>\n",
              "    </div>\n",
              "  </div>\n",
              "  "
            ]
          },
          "metadata": {},
          "execution_count": 54
        }
      ],
      "source": [
        "gazp_hist.head()"
      ],
      "id": "KnMdx64DMRnJ"
    },
    {
      "cell_type": "code",
      "execution_count": 55,
      "metadata": {
        "id": "oDqAihNFMRnJ",
        "colab": {
          "base_uri": "https://localhost:8080/",
          "height": 341
        },
        "outputId": "893bf96a-df9c-466d-ee22-a056d2b5b9ca"
      },
      "outputs": [
        {
          "output_type": "display_data",
          "data": {
            "text/plain": [
              "<Figure size 576x396 with 1 Axes>"
            ],
            "image/png": "[encoded data removed]"
          },
          "metadata": {}
        }
      ],
      "source": [
        "gazp_hist.plot.line(y='Close', use_index=True)\n",
        "plt.show()"
      ],
      "id": "oDqAihNFMRnJ"
    },
    {
      "cell_type": "code",
      "execution_count": 56,
      "metadata": {
        "id": "vuM_lL0kMRnK",
        "colab": {
          "base_uri": "https://localhost:8080/"
        },
        "outputId": "17d2793f-f81b-4420-9b13-d19fa22bb2ac"
      },
      "outputs": [
        {
          "output_type": "stream",
          "name": "stdout",
          "text": [
            "<class 'pandas.core.frame.DataFrame'>\n",
            "DatetimeIndex: 9270 entries, 1986-03-13 00:00:00-05:00 to 2022-12-20 00:00:00-05:00\n",
            "Data columns (total 7 columns):\n",
            " #   Column        Non-Null Count  Dtype  \n",
            "---  ------        --------------  -----  \n",
            " 0   Open          9270 non-null   float64\n",
            " 1   High          9270 non-null   float64\n",
            " 2   Low           9270 non-null   float64\n",
            " 3   Close         9270 non-null   float64\n",
            " 4   Volume        9270 non-null   int64  \n",
            " 5   Dividends     9270 non-null   float64\n",
            " 6   Stock Splits  9270 non-null   float64\n",
            "dtypes: float64(6), int64(1)\n",
            "memory usage: 837.4 KB\n"
          ]
        }
      ],
      "source": [
        "gazp_hist.info()"
      ],
      "id": "vuM_lL0kMRnK"
    },
    {
      "cell_type": "code",
      "execution_count": 57,
      "metadata": {
        "id": "G-pT9s_7MRnK",
        "colab": {
          "base_uri": "https://localhost:8080/",
          "height": 238
        },
        "outputId": "c21f5b0d-3624-42e6-ec4d-ddae056afc74"
      },
      "outputs": [
        {
          "output_type": "execute_result",
          "data": {
            "text/plain": [
              "                           Actual_Close\n",
              "Date                                   \n",
              "1986-03-13 00:00:00-05:00      0.060809\n",
              "1986-03-14 00:00:00-05:00      0.062980\n",
              "1986-03-17 00:00:00-05:00      0.064067\n",
              "1986-03-18 00:00:00-05:00      0.062437\n",
              "1986-03-19 00:00:00-05:00      0.061351"
            ],
            "text/html": [
              "\n",
              "  <div id=\"df-f0b876da-514f-4e08-beeb-8b7886d28522\">\n",
              "    <div class=\"colab-df-container\">\n",
              "      <div>\n",
              "<style scoped>\n",
              "    .dataframe tbody tr th:only-of-type {\n",
              "        vertical-align: middle;\n",
              "    }\n",
              "\n",
              "    .dataframe tbody tr th {\n",
              "        vertical-align: top;\n",
              "    }\n",
              "\n",
              "    .dataframe thead th {\n",
              "        text-align: right;\n",
              "    }\n",
              "</style>\n",
              "<table border=\"1\" class=\"dataframe\">\n",
              "  <thead>\n",
              "    <tr style=\"text-align: right;\">\n",
              "      <th></th>\n",
              "      <th>Actual_Close</th>\n",
              "    </tr>\n",
              "    <tr>\n",
              "      <th>Date</th>\n",
              "      <th></th>\n",
              "    </tr>\n",
              "  </thead>\n",
              "  <tbody>\n",
              "    <tr>\n",
              "      <th>1986-03-13 00:00:00-05:00</th>\n",
              "      <td>0.060809</td>\n",
              "    </tr>\n",
              "    <tr>\n",
              "      <th>1986-03-14 00:00:00-05:00</th>\n",
              "      <td>0.062980</td>\n",
              "    </tr>\n",
              "    <tr>\n",
              "      <th>1986-03-17 00:00:00-05:00</th>\n",
              "      <td>0.064067</td>\n",
              "    </tr>\n",
              "    <tr>\n",
              "      <th>1986-03-18 00:00:00-05:00</th>\n",
              "      <td>0.062437</td>\n",
              "    </tr>\n",
              "    <tr>\n",
              "      <th>1986-03-19 00:00:00-05:00</th>\n",
              "      <td>0.061351</td>\n",
              "    </tr>\n",
              "  </tbody>\n",
              "</table>\n",
              "</div>\n",
              "      <button class=\"colab-df-convert\" onclick=\"convertToInteractive('df-f0b876da-514f-4e08-beeb-8b7886d28522')\"\n",
              "              title=\"Convert this dataframe to an interactive table.\"\n",
              "              style=\"display:none;\">\n",
              "        \n",
              "  <svg xmlns=\"http://www.w3.org/2000/svg\" height=\"24px\"viewBox=\"0 0 24 24\"\n",
              "       width=\"24px\">\n",
              "    <path d=\"M0 0h24v24H0V0z\" fill=\"none\"/>\n",
              "    <path d=\"M18.56 5.44l.94 2.06.94-2.06 2.06-.94-2.06-.94-.94-2.06-.94 2.06-2.06.94zm-11 1L8.5 8.5l.94-2.06 2.06-.94-2.06-.94L8.5 2.5l-.94 2.06-2.06.94zm10 10l.94 2.06.94-2.06 2.06-.94-2.06-.94-.94-2.06-.94 2.06-2.06.94z\"/><path d=\"M17.41 7.96l-1.37-1.37c-.4-.4-.92-.59-1.43-.59-.52 0-1.04.2-1.43.59L10.3 9.45l-7.72 7.72c-.78.78-.78 2.05 0 2.83L4 21.41c.39.39.9.59 1.41.59.51 0 1.02-.2 1.41-.59l7.78-7.78 2.81-2.81c.8-.78.8-2.07 0-2.86zM5.41 20L4 18.59l7.72-7.72 1.47 1.35L5.41 20z\"/>\n",
              "  </svg>\n",
              "      </button>\n",
              "      \n",
              "  <style>\n",
              "    .colab-df-container {\n",
              "      display:flex;\n",
              "      flex-wrap:wrap;\n",
              "      gap: 12px;\n",
              "    }\n",
              "\n",
              "    .colab-df-convert {\n",
              "      background-color: #E8F0FE;\n",
              "      border: none;\n",
              "      border-radius: 50%;\n",
              "      cursor: pointer;\n",
              "      display: none;\n",
              "      fill: #1967D2;\n",
              "      height: 32px;\n",
              "      padding: 0 0 0 0;\n",
              "      width: 32px;\n",
              "    }\n",
              "\n",
              "    .colab-df-convert:hover {\n",
              "      background-color: #E2EBFA;\n",
              "      box-shadow: 0px 1px 2px rgba(60, 64, 67, 0.3), 0px 1px 3px 1px rgba(60, 64, 67, 0.15);\n",
              "      fill: #174EA6;\n",
              "    }\n",
              "\n",
              "    [theme=dark] .colab-df-convert {\n",
              "      background-color: #3B4455;\n",
              "      fill: #D2E3FC;\n",
              "    }\n",
              "\n",
              "    [theme=dark] .colab-df-convert:hover {\n",
              "      background-color: #434B5C;\n",
              "      box-shadow: 0px 1px 3px 1px rgba(0, 0, 0, 0.15);\n",
              "      filter: drop-shadow(0px 1px 2px rgba(0, 0, 0, 0.3));\n",
              "      fill: #FFFFFF;\n",
              "    }\n",
              "  </style>\n",
              "\n",
              "      <script>\n",
              "        const buttonEl =\n",
              "          document.querySelector('#df-f0b876da-514f-4e08-beeb-8b7886d28522 button.colab-df-convert');\n",
              "        buttonEl.style.display =\n",
              "          google.colab.kernel.accessAllowed ? 'block' : 'none';\n",
              "\n",
              "        async function convertToInteractive(key) {\n",
              "          const element = document.querySelector('#df-f0b876da-514f-4e08-beeb-8b7886d28522');\n",
              "          const dataTable =\n",
              "            await google.colab.kernel.invokeFunction('convertToInteractive',\n",
              "                                                     [key], {});\n",
              "          if (!dataTable) return;\n",
              "\n",
              "          const docLinkHtml = 'Like what you see? Visit the ' +\n",
              "            '<a target=\"_blank\" href=https://colab.research.google.com/notebooks/data_table.ipynb>data table notebook</a>'\n",
              "            + ' to learn more about interactive tables.';\n",
              "          element.innerHTML = '';\n",
              "          dataTable['output_type'] = 'display_data';\n",
              "          await google.colab.output.renderOutput(dataTable, element);\n",
              "          const docLink = document.createElement('div');\n",
              "          docLink.innerHTML = docLinkHtml;\n",
              "          element.appendChild(docLink);\n",
              "        }\n",
              "      </script>\n",
              "    </div>\n",
              "  </div>\n",
              "  "
            ]
          },
          "metadata": {},
          "execution_count": 57
        }
      ],
      "source": [
        "data = gazp_hist[['Close']]\n",
        "data = data.rename(columns={'Close': 'Actual_Close'})\n",
        "data.head()"
      ],
      "id": "G-pT9s_7MRnK"
    },
    {
      "cell_type": "code",
      "execution_count": 58,
      "metadata": {
        "id": "ODgnVd9eMRnK",
        "colab": {
          "base_uri": "https://localhost:8080/",
          "height": 238
        },
        "outputId": "71079259-7ddf-41c0-d88a-dd58af08d110"
      },
      "outputs": [
        {
          "output_type": "execute_result",
          "data": {
            "text/plain": [
              "                           Actual_Close  Target\n",
              "Date                                           \n",
              "1986-03-13 00:00:00-05:00      0.060809     NaN\n",
              "1986-03-14 00:00:00-05:00      0.062980     1.0\n",
              "1986-03-17 00:00:00-05:00      0.064067     1.0\n",
              "1986-03-18 00:00:00-05:00      0.062437     0.0\n",
              "1986-03-19 00:00:00-05:00      0.061351     0.0"
            ],
            "text/html": [
              "\n",
              "  <div id=\"df-91e880d6-b0cc-4e47-a9b1-b051802be7ec\">\n",
              "    <div class=\"colab-df-container\">\n",
              "      <div>\n",
              "<style scoped>\n",
              "    .dataframe tbody tr th:only-of-type {\n",
              "        vertical-align: middle;\n",
              "    }\n",
              "\n",
              "    .dataframe tbody tr th {\n",
              "        vertical-align: top;\n",
              "    }\n",
              "\n",
              "    .dataframe thead th {\n",
              "        text-align: right;\n",
              "    }\n",
              "</style>\n",
              "<table border=\"1\" class=\"dataframe\">\n",
              "  <thead>\n",
              "    <tr style=\"text-align: right;\">\n",
              "      <th></th>\n",
              "      <th>Actual_Close</th>\n",
              "      <th>Target</th>\n",
              "    </tr>\n",
              "    <tr>\n",
              "      <th>Date</th>\n",
              "      <th></th>\n",
              "      <th></th>\n",
              "    </tr>\n",
              "  </thead>\n",
              "  <tbody>\n",
              "    <tr>\n",
              "      <th>1986-03-13 00:00:00-05:00</th>\n",
              "      <td>0.060809</td>\n",
              "      <td>NaN</td>\n",
              "    </tr>\n",
              "    <tr>\n",
              "      <th>1986-03-14 00:00:00-05:00</th>\n",
              "      <td>0.062980</td>\n",
              "      <td>1.0</td>\n",
              "    </tr>\n",
              "    <tr>\n",
              "      <th>1986-03-17 00:00:00-05:00</th>\n",
              "      <td>0.064067</td>\n",
              "      <td>1.0</td>\n",
              "    </tr>\n",
              "    <tr>\n",
              "      <th>1986-03-18 00:00:00-05:00</th>\n",
              "      <td>0.062437</td>\n",
              "      <td>0.0</td>\n",
              "    </tr>\n",
              "    <tr>\n",
              "      <th>1986-03-19 00:00:00-05:00</th>\n",
              "      <td>0.061351</td>\n",
              "      <td>0.0</td>\n",
              "    </tr>\n",
              "  </tbody>\n",
              "</table>\n",
              "</div>\n",
              "      <button class=\"colab-df-convert\" onclick=\"convertToInteractive('df-91e880d6-b0cc-4e47-a9b1-b051802be7ec')\"\n",
              "              title=\"Convert this dataframe to an interactive table.\"\n",
              "              style=\"display:none;\">\n",
              "        \n",
              "  <svg xmlns=\"http://www.w3.org/2000/svg\" height=\"24px\"viewBox=\"0 0 24 24\"\n",
              "       width=\"24px\">\n",
              "    <path d=\"M0 0h24v24H0V0z\" fill=\"none\"/>\n",
              "    <path d=\"M18.56 5.44l.94 2.06.94-2.06 2.06-.94-2.06-.94-.94-2.06-.94 2.06-2.06.94zm-11 1L8.5 8.5l.94-2.06 2.06-.94-2.06-.94L8.5 2.5l-.94 2.06-2.06.94zm10 10l.94 2.06.94-2.06 2.06-.94-2.06-.94-.94-2.06-.94 2.06-2.06.94z\"/><path d=\"M17.41 7.96l-1.37-1.37c-.4-.4-.92-.59-1.43-.59-.52 0-1.04.2-1.43.59L10.3 9.45l-7.72 7.72c-.78.78-.78 2.05 0 2.83L4 21.41c.39.39.9.59 1.41.59.51 0 1.02-.2 1.41-.59l7.78-7.78 2.81-2.81c.8-.78.8-2.07 0-2.86zM5.41 20L4 18.59l7.72-7.72 1.47 1.35L5.41 20z\"/>\n",
              "  </svg>\n",
              "      </button>\n",
              "      \n",
              "  <style>\n",
              "    .colab-df-container {\n",
              "      display:flex;\n",
              "      flex-wrap:wrap;\n",
              "      gap: 12px;\n",
              "    }\n",
              "\n",
              "    .colab-df-convert {\n",
              "      background-color: #E8F0FE;\n",
              "      border: none;\n",
              "      border-radius: 50%;\n",
              "      cursor: pointer;\n",
              "      display: none;\n",
              "      fill: #1967D2;\n",
              "      height: 32px;\n",
              "      padding: 0 0 0 0;\n",
              "      width: 32px;\n",
              "    }\n",
              "\n",
              "    .colab-df-convert:hover {\n",
              "      background-color: #E2EBFA;\n",
              "      box-shadow: 0px 1px 2px rgba(60, 64, 67, 0.3), 0px 1px 3px 1px rgba(60, 64, 67, 0.15);\n",
              "      fill: #174EA6;\n",
              "    }\n",
              "\n",
              "    [theme=dark] .colab-df-convert {\n",
              "      background-color: #3B4455;\n",
              "      fill: #D2E3FC;\n",
              "    }\n",
              "\n",
              "    [theme=dark] .colab-df-convert:hover {\n",
              "      background-color: #434B5C;\n",
              "      box-shadow: 0px 1px 3px 1px rgba(0, 0, 0, 0.15);\n",
              "      filter: drop-shadow(0px 1px 2px rgba(0, 0, 0, 0.3));\n",
              "      fill: #FFFFFF;\n",
              "    }\n",
              "  </style>\n",
              "\n",
              "      <script>\n",
              "        const buttonEl =\n",
              "          document.querySelector('#df-91e880d6-b0cc-4e47-a9b1-b051802be7ec button.colab-df-convert');\n",
              "        buttonEl.style.display =\n",
              "          google.colab.kernel.accessAllowed ? 'block' : 'none';\n",
              "\n",
              "        async function convertToInteractive(key) {\n",
              "          const element = document.querySelector('#df-91e880d6-b0cc-4e47-a9b1-b051802be7ec');\n",
              "          const dataTable =\n",
              "            await google.colab.kernel.invokeFunction('convertToInteractive',\n",
              "                                                     [key], {});\n",
              "          if (!dataTable) return;\n",
              "\n",
              "          const docLinkHtml = 'Like what you see? Visit the ' +\n",
              "            '<a target=\"_blank\" href=https://colab.research.google.com/notebooks/data_table.ipynb>data table notebook</a>'\n",
              "            + ' to learn more about interactive tables.';\n",
              "          element.innerHTML = '';\n",
              "          dataTable['output_type'] = 'display_data';\n",
              "          await google.colab.output.renderOutput(dataTable, element);\n",
              "          const docLink = document.createElement('div');\n",
              "          docLink.innerHTML = docLinkHtml;\n",
              "          element.appendChild(docLink);\n",
              "        }\n",
              "      </script>\n",
              "    </div>\n",
              "  </div>\n",
              "  "
            ]
          },
          "metadata": {},
          "execution_count": 58
        }
      ],
      "source": [
        "data['Target'] = gazp_hist['Close'].rolling(2).apply(lambda x: x.iloc[1]>x.iloc[0])\n",
        "data.head()"
      ],
      "id": "ODgnVd9eMRnK"
    },
    {
      "cell_type": "code",
      "execution_count": 59,
      "metadata": {
        "id": "vgGFnPKdMRnK",
        "colab": {
          "base_uri": "https://localhost:8080/",
          "height": 238
        },
        "outputId": "a07b1a9e-29fb-4e65-948a-62fa1f7fdcf4"
      },
      "outputs": [
        {
          "output_type": "execute_result",
          "data": {
            "text/plain": [
              "                               Open      High       Low     Close  \\\n",
              "Date                                                                \n",
              "1986-03-13 00:00:00-05:00       NaN       NaN       NaN       NaN   \n",
              "1986-03-14 00:00:00-05:00  0.055380  0.063524  0.055380  0.060809   \n",
              "1986-03-17 00:00:00-05:00  0.060809  0.064067  0.060809  0.062980   \n",
              "1986-03-18 00:00:00-05:00  0.062980  0.064609  0.062980  0.064067   \n",
              "1986-03-19 00:00:00-05:00  0.064067  0.064609  0.061894  0.062437   \n",
              "\n",
              "                                 Volume  Dividends  Stock Splits  \n",
              "Date                                                              \n",
              "1986-03-13 00:00:00-05:00           NaN        NaN           NaN  \n",
              "1986-03-14 00:00:00-05:00  1.031789e+09        0.0           0.0  \n",
              "1986-03-17 00:00:00-05:00  3.081600e+08        0.0           0.0  \n",
              "1986-03-18 00:00:00-05:00  1.331712e+08        0.0           0.0  \n",
              "1986-03-19 00:00:00-05:00  6.776640e+07        0.0           0.0  "
            ],
            "text/html": [
              "\n",
              "  <div id=\"df-67c77029-c30e-4952-8ef4-91c159589acd\">\n",
              "    <div class=\"colab-df-container\">\n",
              "      <div>\n",
              "<style scoped>\n",
              "    .dataframe tbody tr th:only-of-type {\n",
              "        vertical-align: middle;\n",
              "    }\n",
              "\n",
              "    .dataframe tbody tr th {\n",
              "        vertical-align: top;\n",
              "    }\n",
              "\n",
              "    .dataframe thead th {\n",
              "        text-align: right;\n",
              "    }\n",
              "</style>\n",
              "<table border=\"1\" class=\"dataframe\">\n",
              "  <thead>\n",
              "    <tr style=\"text-align: right;\">\n",
              "      <th></th>\n",
              "      <th>Open</th>\n",
              "      <th>High</th>\n",
              "      <th>Low</th>\n",
              "      <th>Close</th>\n",
              "      <th>Volume</th>\n",
              "      <th>Dividends</th>\n",
              "      <th>Stock Splits</th>\n",
              "    </tr>\n",
              "    <tr>\n",
              "      <th>Date</th>\n",
              "      <th></th>\n",
              "      <th></th>\n",
              "      <th></th>\n",
              "      <th></th>\n",
              "      <th></th>\n",
              "      <th></th>\n",
              "      <th></th>\n",
              "    </tr>\n",
              "  </thead>\n",
              "  <tbody>\n",
              "    <tr>\n",
              "      <th>1986-03-13 00:00:00-05:00</th>\n",
              "      <td>NaN</td>\n",
              "      <td>NaN</td>\n",
              "      <td>NaN</td>\n",
              "      <td>NaN</td>\n",
              "      <td>NaN</td>\n",
              "      <td>NaN</td>\n",
              "      <td>NaN</td>\n",
              "    </tr>\n",
              "    <tr>\n",
              "      <th>1986-03-14 00:00:00-05:00</th>\n",
              "      <td>0.055380</td>\n",
              "      <td>0.063524</td>\n",
              "      <td>0.055380</td>\n",
              "      <td>0.060809</td>\n",
              "      <td>1.031789e+09</td>\n",
              "      <td>0.0</td>\n",
              "      <td>0.0</td>\n",
              "    </tr>\n",
              "    <tr>\n",
              "      <th>1986-03-17 00:00:00-05:00</th>\n",
              "      <td>0.060809</td>\n",
              "      <td>0.064067</td>\n",
              "      <td>0.060809</td>\n",
              "      <td>0.062980</td>\n",
              "      <td>3.081600e+08</td>\n",
              "      <td>0.0</td>\n",
              "      <td>0.0</td>\n",
              "    </tr>\n",
              "    <tr>\n",
              "      <th>1986-03-18 00:00:00-05:00</th>\n",
              "      <td>0.062980</td>\n",
              "      <td>0.064609</td>\n",
              "      <td>0.062980</td>\n",
              "      <td>0.064067</td>\n",
              "      <td>1.331712e+08</td>\n",
              "      <td>0.0</td>\n",
              "      <td>0.0</td>\n",
              "    </tr>\n",
              "    <tr>\n",
              "      <th>1986-03-19 00:00:00-05:00</th>\n",
              "      <td>0.064067</td>\n",
              "      <td>0.064609</td>\n",
              "      <td>0.061894</td>\n",
              "      <td>0.062437</td>\n",
              "      <td>6.776640e+07</td>\n",
              "      <td>0.0</td>\n",
              "      <td>0.0</td>\n",
              "    </tr>\n",
              "  </tbody>\n",
              "</table>\n",
              "</div>\n",
              "      <button class=\"colab-df-convert\" onclick=\"convertToInteractive('df-67c77029-c30e-4952-8ef4-91c159589acd')\"\n",
              "              title=\"Convert this dataframe to an interactive table.\"\n",
              "              style=\"display:none;\">\n",
              "        \n",
              "  <svg xmlns=\"http://www.w3.org/2000/svg\" height=\"24px\"viewBox=\"0 0 24 24\"\n",
              "       width=\"24px\">\n",
              "    <path d=\"M0 0h24v24H0V0z\" fill=\"none\"/>\n",
              "    <path d=\"M18.56 5.44l.94 2.06.94-2.06 2.06-.94-2.06-.94-.94-2.06-.94 2.06-2.06.94zm-11 1L8.5 8.5l.94-2.06 2.06-.94-2.06-.94L8.5 2.5l-.94 2.06-2.06.94zm10 10l.94 2.06.94-2.06 2.06-.94-2.06-.94-.94-2.06-.94 2.06-2.06.94z\"/><path d=\"M17.41 7.96l-1.37-1.37c-.4-.4-.92-.59-1.43-.59-.52 0-1.04.2-1.43.59L10.3 9.45l-7.72 7.72c-.78.78-.78 2.05 0 2.83L4 21.41c.39.39.9.59 1.41.59.51 0 1.02-.2 1.41-.59l7.78-7.78 2.81-2.81c.8-.78.8-2.07 0-2.86zM5.41 20L4 18.59l7.72-7.72 1.47 1.35L5.41 20z\"/>\n",
              "  </svg>\n",
              "      </button>\n",
              "      \n",
              "  <style>\n",
              "    .colab-df-container {\n",
              "      display:flex;\n",
              "      flex-wrap:wrap;\n",
              "      gap: 12px;\n",
              "    }\n",
              "\n",
              "    .colab-df-convert {\n",
              "      background-color: #E8F0FE;\n",
              "      border: none;\n",
              "      border-radius: 50%;\n",
              "      cursor: pointer;\n",
              "      display: none;\n",
              "      fill: #1967D2;\n",
              "      height: 32px;\n",
              "      padding: 0 0 0 0;\n",
              "      width: 32px;\n",
              "    }\n",
              "\n",
              "    .colab-df-convert:hover {\n",
              "      background-color: #E2EBFA;\n",
              "      box-shadow: 0px 1px 2px rgba(60, 64, 67, 0.3), 0px 1px 3px 1px rgba(60, 64, 67, 0.15);\n",
              "      fill: #174EA6;\n",
              "    }\n",
              "\n",
              "    [theme=dark] .colab-df-convert {\n",
              "      background-color: #3B4455;\n",
              "      fill: #D2E3FC;\n",
              "    }\n",
              "\n",
              "    [theme=dark] .colab-df-convert:hover {\n",
              "      background-color: #434B5C;\n",
              "      box-shadow: 0px 1px 3px 1px rgba(0, 0, 0, 0.15);\n",
              "      filter: drop-shadow(0px 1px 2px rgba(0, 0, 0, 0.3));\n",
              "      fill: #FFFFFF;\n",
              "    }\n",
              "  </style>\n",
              "\n",
              "      <script>\n",
              "        const buttonEl =\n",
              "          document.querySelector('#df-67c77029-c30e-4952-8ef4-91c159589acd button.colab-df-convert');\n",
              "        buttonEl.style.display =\n",
              "          google.colab.kernel.accessAllowed ? 'block' : 'none';\n",
              "\n",
              "        async function convertToInteractive(key) {\n",
              "          const element = document.querySelector('#df-67c77029-c30e-4952-8ef4-91c159589acd');\n",
              "          const dataTable =\n",
              "            await google.colab.kernel.invokeFunction('convertToInteractive',\n",
              "                                                     [key], {});\n",
              "          if (!dataTable) return;\n",
              "\n",
              "          const docLinkHtml = 'Like what you see? Visit the ' +\n",
              "            '<a target=\"_blank\" href=https://colab.research.google.com/notebooks/data_table.ipynb>data table notebook</a>'\n",
              "            + ' to learn more about interactive tables.';\n",
              "          element.innerHTML = '';\n",
              "          dataTable['output_type'] = 'display_data';\n",
              "          await google.colab.output.renderOutput(dataTable, element);\n",
              "          const docLink = document.createElement('div');\n",
              "          docLink.innerHTML = docLinkHtml;\n",
              "          element.appendChild(docLink);\n",
              "        }\n",
              "      </script>\n",
              "    </div>\n",
              "  </div>\n",
              "  "
            ]
          },
          "metadata": {},
          "execution_count": 59
        }
      ],
      "source": [
        "gazp_prev = gazp_hist.copy()\n",
        "gazp_prev = gazp_prev.shift(1)\n",
        "gazp_prev.head()"
      ],
      "id": "vgGFnPKdMRnK"
    },
    {
      "cell_type": "code",
      "execution_count": 60,
      "metadata": {
        "id": "20amXEOcMRnK",
        "colab": {
          "base_uri": "https://localhost:8080/",
          "height": 238
        },
        "outputId": "abbd50a5-d643-4252-ad54-e4555da49e04"
      },
      "outputs": [
        {
          "output_type": "execute_result",
          "data": {
            "text/plain": [
              "                           Actual_Close  Target     Close        Volume  \\\n",
              "Date                                                                      \n",
              "1986-03-14 00:00:00-05:00      0.062980     1.0  0.060809  1.031789e+09   \n",
              "1986-03-17 00:00:00-05:00      0.064067     1.0  0.062980  3.081600e+08   \n",
              "1986-03-18 00:00:00-05:00      0.062437     0.0  0.064067  1.331712e+08   \n",
              "1986-03-19 00:00:00-05:00      0.061351     0.0  0.062437  6.776640e+07   \n",
              "1986-03-20 00:00:00-05:00      0.059723     0.0  0.061351  4.789440e+07   \n",
              "\n",
              "                               Open      High       Low  \n",
              "Date                                                     \n",
              "1986-03-14 00:00:00-05:00  0.055380  0.063524  0.055380  \n",
              "1986-03-17 00:00:00-05:00  0.060809  0.064067  0.060809  \n",
              "1986-03-18 00:00:00-05:00  0.062980  0.064609  0.062980  \n",
              "1986-03-19 00:00:00-05:00  0.064067  0.064609  0.061894  \n",
              "1986-03-20 00:00:00-05:00  0.062437  0.062980  0.060809  "
            ],
            "text/html": [
              "\n",
              "  <div id=\"df-fd42d2dc-31ee-436d-9814-871d5948a364\">\n",
              "    <div class=\"colab-df-container\">\n",
              "      <div>\n",
              "<style scoped>\n",
              "    .dataframe tbody tr th:only-of-type {\n",
              "        vertical-align: middle;\n",
              "    }\n",
              "\n",
              "    .dataframe tbody tr th {\n",
              "        vertical-align: top;\n",
              "    }\n",
              "\n",
              "    .dataframe thead th {\n",
              "        text-align: right;\n",
              "    }\n",
              "</style>\n",
              "<table border=\"1\" class=\"dataframe\">\n",
              "  <thead>\n",
              "    <tr style=\"text-align: right;\">\n",
              "      <th></th>\n",
              "      <th>Actual_Close</th>\n",
              "      <th>Target</th>\n",
              "      <th>Close</th>\n",
              "      <th>Volume</th>\n",
              "      <th>Open</th>\n",
              "      <th>High</th>\n",
              "      <th>Low</th>\n",
              "    </tr>\n",
              "    <tr>\n",
              "      <th>Date</th>\n",
              "      <th></th>\n",
              "      <th></th>\n",
              "      <th></th>\n",
              "      <th></th>\n",
              "      <th></th>\n",
              "      <th></th>\n",
              "      <th></th>\n",
              "    </tr>\n",
              "  </thead>\n",
              "  <tbody>\n",
              "    <tr>\n",
              "      <th>1986-03-14 00:00:00-05:00</th>\n",
              "      <td>0.062980</td>\n",
              "      <td>1.0</td>\n",
              "      <td>0.060809</td>\n",
              "      <td>1.031789e+09</td>\n",
              "      <td>0.055380</td>\n",
              "      <td>0.063524</td>\n",
              "      <td>0.055380</td>\n",
              "    </tr>\n",
              "    <tr>\n",
              "      <th>1986-03-17 00:00:00-05:00</th>\n",
              "      <td>0.064067</td>\n",
              "      <td>1.0</td>\n",
              "      <td>0.062980</td>\n",
              "      <td>3.081600e+08</td>\n",
              "      <td>0.060809</td>\n",
              "      <td>0.064067</td>\n",
              "      <td>0.060809</td>\n",
              "    </tr>\n",
              "    <tr>\n",
              "      <th>1986-03-18 00:00:00-05:00</th>\n",
              "      <td>0.062437</td>\n",
              "      <td>0.0</td>\n",
              "      <td>0.064067</td>\n",
              "      <td>1.331712e+08</td>\n",
              "      <td>0.062980</td>\n",
              "      <td>0.064609</td>\n",
              "      <td>0.062980</td>\n",
              "    </tr>\n",
              "    <tr>\n",
              "      <th>1986-03-19 00:00:00-05:00</th>\n",
              "      <td>0.061351</td>\n",
              "      <td>0.0</td>\n",
              "      <td>0.062437</td>\n",
              "      <td>6.776640e+07</td>\n",
              "      <td>0.064067</td>\n",
              "      <td>0.064609</td>\n",
              "      <td>0.061894</td>\n",
              "    </tr>\n",
              "    <tr>\n",
              "      <th>1986-03-20 00:00:00-05:00</th>\n",
              "      <td>0.059723</td>\n",
              "      <td>0.0</td>\n",
              "      <td>0.061351</td>\n",
              "      <td>4.789440e+07</td>\n",
              "      <td>0.062437</td>\n",
              "      <td>0.062980</td>\n",
              "      <td>0.060809</td>\n",
              "    </tr>\n",
              "  </tbody>\n",
              "</table>\n",
              "</div>\n",
              "      <button class=\"colab-df-convert\" onclick=\"convertToInteractive('df-fd42d2dc-31ee-436d-9814-871d5948a364')\"\n",
              "              title=\"Convert this dataframe to an interactive table.\"\n",
              "              style=\"display:none;\">\n",
              "        \n",
              "  <svg xmlns=\"http://www.w3.org/2000/svg\" height=\"24px\"viewBox=\"0 0 24 24\"\n",
              "       width=\"24px\">\n",
              "    <path d=\"M0 0h24v24H0V0z\" fill=\"none\"/>\n",
              "    <path d=\"M18.56 5.44l.94 2.06.94-2.06 2.06-.94-2.06-.94-.94-2.06-.94 2.06-2.06.94zm-11 1L8.5 8.5l.94-2.06 2.06-.94-2.06-.94L8.5 2.5l-.94 2.06-2.06.94zm10 10l.94 2.06.94-2.06 2.06-.94-2.06-.94-.94-2.06-.94 2.06-2.06.94z\"/><path d=\"M17.41 7.96l-1.37-1.37c-.4-.4-.92-.59-1.43-.59-.52 0-1.04.2-1.43.59L10.3 9.45l-7.72 7.72c-.78.78-.78 2.05 0 2.83L4 21.41c.39.39.9.59 1.41.59.51 0 1.02-.2 1.41-.59l7.78-7.78 2.81-2.81c.8-.78.8-2.07 0-2.86zM5.41 20L4 18.59l7.72-7.72 1.47 1.35L5.41 20z\"/>\n",
              "  </svg>\n",
              "      </button>\n",
              "      \n",
              "  <style>\n",
              "    .colab-df-container {\n",
              "      display:flex;\n",
              "      flex-wrap:wrap;\n",
              "      gap: 12px;\n",
              "    }\n",
              "\n",
              "    .colab-df-convert {\n",
              "      background-color: #E8F0FE;\n",
              "      border: none;\n",
              "      border-radius: 50%;\n",
              "      cursor: pointer;\n",
              "      display: none;\n",
              "      fill: #1967D2;\n",
              "      height: 32px;\n",
              "      padding: 0 0 0 0;\n",
              "      width: 32px;\n",
              "    }\n",
              "\n",
              "    .colab-df-convert:hover {\n",
              "      background-color: #E2EBFA;\n",
              "      box-shadow: 0px 1px 2px rgba(60, 64, 67, 0.3), 0px 1px 3px 1px rgba(60, 64, 67, 0.15);\n",
              "      fill: #174EA6;\n",
              "    }\n",
              "\n",
              "    [theme=dark] .colab-df-convert {\n",
              "      background-color: #3B4455;\n",
              "      fill: #D2E3FC;\n",
              "    }\n",
              "\n",
              "    [theme=dark] .colab-df-convert:hover {\n",
              "      background-color: #434B5C;\n",
              "      box-shadow: 0px 1px 3px 1px rgba(0, 0, 0, 0.15);\n",
              "      filter: drop-shadow(0px 1px 2px rgba(0, 0, 0, 0.3));\n",
              "      fill: #FFFFFF;\n",
              "    }\n",
              "  </style>\n",
              "\n",
              "      <script>\n",
              "        const buttonEl =\n",
              "          document.querySelector('#df-fd42d2dc-31ee-436d-9814-871d5948a364 button.colab-df-convert');\n",
              "        buttonEl.style.display =\n",
              "          google.colab.kernel.accessAllowed ? 'block' : 'none';\n",
              "\n",
              "        async function convertToInteractive(key) {\n",
              "          const element = document.querySelector('#df-fd42d2dc-31ee-436d-9814-871d5948a364');\n",
              "          const dataTable =\n",
              "            await google.colab.kernel.invokeFunction('convertToInteractive',\n",
              "                                                     [key], {});\n",
              "          if (!dataTable) return;\n",
              "\n",
              "          const docLinkHtml = 'Like what you see? Visit the ' +\n",
              "            '<a target=\"_blank\" href=https://colab.research.google.com/notebooks/data_table.ipynb>data table notebook</a>'\n",
              "            + ' to learn more about interactive tables.';\n",
              "          element.innerHTML = '';\n",
              "          dataTable['output_type'] = 'display_data';\n",
              "          await google.colab.output.renderOutput(dataTable, element);\n",
              "          const docLink = document.createElement('div');\n",
              "          docLink.innerHTML = docLinkHtml;\n",
              "          element.appendChild(docLink);\n",
              "        }\n",
              "      </script>\n",
              "    </div>\n",
              "  </div>\n",
              "  "
            ]
          },
          "metadata": {},
          "execution_count": 60
        }
      ],
      "source": [
        "predictors = [\"Close\", \"Volume\", \"Open\", \"High\", \"Low\"]\n",
        "\n",
        "data = data.join(gazp_prev[predictors]).iloc[1:]\n",
        "data.head()"
      ],
      "id": "20amXEOcMRnK"
    },
    {
      "cell_type": "code",
      "execution_count": 61,
      "metadata": {
        "id": "KDl3_Ks_MRnK"
      },
      "outputs": [],
      "source": [
        "model = RandomForestClassifier(n_estimators=100, \n",
        "                               min_samples_split=200, \n",
        "                               max_depth=5, \n",
        "                               max_features='auto',\n",
        "                               min_samples_leaf=4,\n",
        "                               criterion ='gini',\n",
        "                               random_state=1)"
      ],
      "id": "KDl3_Ks_MRnK"
    },
    {
      "cell_type": "code",
      "execution_count": 62,
      "metadata": {
        "id": "QJkaKjtTMRnK"
      },
      "outputs": [],
      "source": [
        "predictors = [\"Close\", \"Volume\", \"Open\", \"High\", \"Low\"]\n"
      ],
      "id": "QJkaKjtTMRnK"
    },
    {
      "cell_type": "code",
      "execution_count": 63,
      "metadata": {
        "id": "y-bbDVAQMRnK"
      },
      "outputs": [],
      "source": [
        "train = data.iloc[:-100]\n",
        "test = data.iloc[-100:]"
      ],
      "id": "y-bbDVAQMRnK"
    },
    {
      "cell_type": "code",
      "execution_count": 64,
      "metadata": {
        "id": "NXZ47ADoMRnK",
        "colab": {
          "base_uri": "https://localhost:8080/"
        },
        "outputId": "f7ff07dd-867e-4a80-8c4e-067f4406e033"
      },
      "outputs": [
        {
          "output_type": "execute_result",
          "data": {
            "text/plain": [
              "RandomForestClassifier(max_depth=5, min_samples_leaf=4, min_samples_split=200,\n",
              "                       random_state=1)"
            ]
          },
          "metadata": {},
          "execution_count": 64
        }
      ],
      "source": [
        "model.fit(train[predictors], train[\"Target\"])"
      ],
      "id": "NXZ47ADoMRnK"
    },
    {
      "cell_type": "code",
      "execution_count": 65,
      "metadata": {
        "id": "uZ-wLz80MRnL"
      },
      "outputs": [],
      "source": [
        "predictors_before = [\"Close\", \"Volume\", \"Open\", \"High\", \"Low\"]"
      ],
      "id": "uZ-wLz80MRnL"
    },
    {
      "cell_type": "code",
      "execution_count": 66,
      "metadata": {
        "id": "SJUpUbolMRnL"
      },
      "outputs": [],
      "source": [
        "def preproc_data(msft_hist):\n",
        "    data = msft_hist[['Close']]\n",
        "    data = data.rename(columns={'Close': 'Actual_Close'})\n",
        "    data['Target'] = msft_hist['Close'].rolling(2).apply(lambda x: x.iloc[1]>x.iloc[0])\n",
        "    msft_prev = msft_hist.copy()\n",
        "    msft_prev = msft_prev.shift(1)\n",
        "    data = data.join(msft_prev[predictors_before]).iloc[1:]\n",
        "    return data"
      ],
      "id": "SJUpUbolMRnL"
    },
    {
      "cell_type": "code",
      "execution_count": 67,
      "metadata": {
        "id": "XzOr0SvMMRnL"
      },
      "outputs": [],
      "source": [
        "def normalize_data(data, predictors):\n",
        "    for el in predictors:\n",
        "        mins = data[el].min()\n",
        "        maxs = data[el].max()\n",
        "        zn = maxs-mins\n",
        "        data[el] = (data[el]-mins)/zn\n",
        "    return data"
      ],
      "id": "XzOr0SvMMRnL"
    },
    {
      "cell_type": "code",
      "execution_count": 68,
      "metadata": {
        "id": "l9zioEfBMRnL"
      },
      "outputs": [],
      "source": [
        "def rolling_means(data):\n",
        "    weekly_mean = data.rolling(7).mean()['Close']\n",
        "    monthly_mean = data.rolling(30).mean()['Close']\n",
        "    quarterly_mean = data.rolling(90).mean()['Close']\n",
        "    year_mean = data.rolling(365).mean()['Close']\n",
        "    \n",
        "    weekly_trend = data.shift(1).rolling(7).sum()[\"Target\"]\n",
        "    monthly_trend = data.shift(1).rolling(30).sum()[\"Target\"]\n",
        "    \n",
        "    # means\n",
        "    data['weekly_mean'] = weekly_mean\n",
        "    data['monthly_mean'] = monthly_mean\n",
        "    data['quarterly_mean'] = quarterly_mean\n",
        "    data['year_mean'] = year_mean\n",
        "    \n",
        "    #trend\n",
        "    data['weekly_trend'] = weekly_trend/7\n",
        "    data['monthly_trend'] = monthly_trend/31\n",
        "    \n",
        "     # open high low ratio\n",
        "    data['open_close_ratio'] = data['Open'] / 100*data['Close']\n",
        "    data['high_close_ratio'] = data['High'] /100* data['Close']\n",
        "    data['low_close_ratio'] = data['Low'] / 100*data['Close']\n",
        "\n",
        "    \n",
        "    return data"
      ],
      "id": "l9zioEfBMRnL"
    },
    {
      "cell_type": "code",
      "execution_count": 69,
      "metadata": {
        "id": "UcmiBLf2MRnL"
      },
      "outputs": [],
      "source": [
        "def final_data(msft_hist):    \n",
        "    data = preproc_data(msft_hist)\n",
        "    data = normalize_data(data, predictors_before)\n",
        "    data = rolling_means(data)\n",
        "    data = data.dropna(axis=0)\n",
        "\n",
        "    return data "
      ],
      "id": "UcmiBLf2MRnL"
    },
    {
      "cell_type": "code",
      "execution_count": 70,
      "metadata": {
        "id": "WA8Z_MnlMRnL"
      },
      "outputs": [],
      "source": [
        "def backtest(data, model, predictors, start = 700, step = 350, use_predict_proba=True):\n",
        "    predictions = []\n",
        "    \n",
        "    for i in range(start, data.shape[0], step):\n",
        "        # Split into test and train\n",
        "        train = data.iloc[0:i].copy()\n",
        "        test = data.iloc[i:(i+step)].copy()\n",
        "\n",
        "        # Fit model\n",
        "        model.fit(train[predictors], train['Target'])\n",
        "\n",
        "        # Make predictors\n",
        "        if use_predict_proba:\n",
        "            preds = model.predict_proba(test[predictors])[:, 1]\n",
        "            preds = pd.Series(preds, index = test.index)\n",
        "            preds[preds>0.63] = 1\n",
        "            preds[preds<=0.63] = 0\n",
        "        else:\n",
        "            preds = model.predict(test[predictors])\n",
        "            preds = pd.Series(preds, index = test.index)\n",
        "\n",
        "        # Combine predictions and test value\n",
        "        combined = pd.DataFrame({'Target' :test[\"Target\"], 'Predictions': preds})\n",
        "        \n",
        "        predictions.append(combined)\n",
        "        \n",
        "    return pd.concat(predictions)"
      ],
      "id": "WA8Z_MnlMRnL"
    },
    {
      "cell_type": "code",
      "execution_count": 71,
      "metadata": {
        "id": "5KwPAVKbMRnL"
      },
      "outputs": [],
      "source": [
        "def metricks(predictions):\n",
        "    print(f\"precision_score: {round(precision_score(predictions['Target'], predictions['Predictions']),3)}\")"
      ],
      "id": "5KwPAVKbMRnL"
    },
    {
      "cell_type": "code",
      "execution_count": 72,
      "metadata": {
        "id": "ZbsyYABrMRnM"
      },
      "outputs": [],
      "source": [
        "model_lr = LogisticRegression(max_iter=2000, \n",
        "                              random_state=0, \n",
        "                              penalty='l2')"
      ],
      "id": "ZbsyYABrMRnM"
    },
    {
      "cell_type": "code",
      "execution_count": 73,
      "metadata": {
        "id": "xCcG2qOyMRnM"
      },
      "outputs": [],
      "source": [
        "model_knc = KNeighborsClassifier(n_neighbors=3)"
      ],
      "id": "xCcG2qOyMRnM"
    },
    {
      "cell_type": "code",
      "execution_count": 74,
      "metadata": {
        "id": "3VUxza1zMRnM"
      },
      "outputs": [],
      "source": [
        "model_rf = RandomForestClassifier(n_estimators=100, \n",
        "                                  min_samples_split=200, \n",
        "                                  max_depth=5, \n",
        "                                  max_features='auto',\n",
        "                                  min_samples_leaf=4,\n",
        "                                  criterion ='gini',\n",
        "                                  random_state=1)"
      ],
      "id": "3VUxza1zMRnM"
    },
    {
      "cell_type": "code",
      "execution_count": 75,
      "metadata": {
        "id": "R7g0utKMMRnM"
      },
      "outputs": [],
      "source": [
        "model_drt = DecisionTreeClassifier(random_state=42,\n",
        "                                   criterion ='gini',\n",
        "                                   max_depth=5,\n",
        "                                   min_samples_split=5,\n",
        "                                   min_samples_leaf=5,\n",
        "                                   class_weight=None,)"
      ],
      "id": "R7g0utKMMRnM"
    },
    {
      "cell_type": "code",
      "execution_count": 76,
      "metadata": {
        "id": "fPtB_01XMRnM"
      },
      "outputs": [],
      "source": [
        "model_mlp = MLPClassifier(random_state=1, max_iter=2000)"
      ],
      "id": "fPtB_01XMRnM"
    },
    {
      "cell_type": "code",
      "execution_count": 77,
      "metadata": {
        "id": "D-RMx9X8MRnM"
      },
      "outputs": [],
      "source": [
        "model_mnb = MultinomialNB()"
      ],
      "id": "D-RMx9X8MRnM"
    },
    {
      "cell_type": "code",
      "execution_count": 78,
      "metadata": {
        "id": "G8zHu8ezMRnM"
      },
      "outputs": [],
      "source": [
        "model_svc_l = SVC(kernel='linear')"
      ],
      "id": "G8zHu8ezMRnM"
    },
    {
      "cell_type": "code",
      "execution_count": 79,
      "metadata": {
        "id": "s2N0TFQ3MRnM"
      },
      "outputs": [],
      "source": [
        "model_svc_r = SVC(kernel='rbf')"
      ],
      "id": "s2N0TFQ3MRnM"
    },
    {
      "cell_type": "code",
      "execution_count": 80,
      "metadata": {
        "id": "tBN-2MQPMRnM"
      },
      "outputs": [],
      "source": [
        "predictors = ['Close', 'Volume', 'Open', 'High', 'Low', \n",
        "              'weekly_mean', 'monthly_mean', 'quarterly_mean', 'year_mean', 'weekly_trend', 'monthly_trend', \n",
        "              'open_close_ratio', 'high_close_ratio', 'low_close_ratio'\n",
        "             ]\n",
        "              "
      ],
      "id": "tBN-2MQPMRnM"
    },
    {
      "cell_type": "code",
      "execution_count": 81,
      "metadata": {
        "id": "Y4hXriHMMRnM",
        "colab": {
          "base_uri": "https://localhost:8080/"
        },
        "outputId": "f1960637-630a-4b08-e4e9-fd8d20a5928a"
      },
      "outputs": [
        {
          "output_type": "stream",
          "name": "stdout",
          "text": [
            "precision_score: 0.518\n",
            "CPU times: user 2.06 s, sys: 917 ms, total: 2.98 s\n",
            "Wall time: 2.01 s\n"
          ]
        }
      ],
      "source": [
        "%%time\n",
        "# model_lr\n",
        "data = final_data(msft_hist)\n",
        "predictions = backtest(data, model_lr, predictors, use_predict_proba=True)\n",
        "metricks(predictions)"
      ],
      "id": "Y4hXriHMMRnM"
    },
    {
      "cell_type": "code",
      "execution_count": 82,
      "metadata": {
        "id": "gx2_RvHoMRnM",
        "colab": {
          "base_uri": "https://localhost:8080/"
        },
        "outputId": "753ba475-c7f1-4fa7-ec6e-6c5239a9a707"
      },
      "outputs": [
        {
          "output_type": "stream",
          "name": "stdout",
          "text": [
            "precision_score: 0.509\n",
            "CPU times: user 1.49 s, sys: 80.3 ms, total: 1.57 s\n",
            "Wall time: 1.51 s\n"
          ]
        }
      ],
      "source": [
        "%%time\n",
        "# model_knc\n",
        "data = final_data(msft_hist)\n",
        "predictions = backtest(data, model_knc, predictors, use_predict_proba=True)\n",
        "metricks(predictions)"
      ],
      "id": "gx2_RvHoMRnM"
    },
    {
      "cell_type": "code",
      "execution_count": 83,
      "metadata": {
        "id": "kOymQ_1BMRnN",
        "colab": {
          "base_uri": "https://localhost:8080/"
        },
        "outputId": "5b1bbf7b-b521-4f1a-c8bc-d1eb94ea6d38"
      },
      "outputs": [
        {
          "output_type": "stream",
          "name": "stdout",
          "text": [
            "precision_score: 0.51\n",
            "CPU times: user 17.1 s, sys: 52.8 ms, total: 17.2 s\n",
            "Wall time: 17.2 s\n"
          ]
        }
      ],
      "source": [
        "%%time\n",
        "# model_rf\n",
        "data = final_data(msft_hist)\n",
        "predictions = backtest(data, model_rf, predictors, use_predict_proba=False)\n",
        "metricks(predictions)"
      ],
      "id": "kOymQ_1BMRnN"
    },
    {
      "cell_type": "code",
      "execution_count": 84,
      "metadata": {
        "id": "wpB3lebDMRnN",
        "colab": {
          "base_uri": "https://localhost:8080/"
        },
        "outputId": "189c9f0f-e8a0-4c0f-c6f6-07725f87270e"
      },
      "outputs": [
        {
          "output_type": "stream",
          "name": "stdout",
          "text": [
            "precision_score: 0.589\n",
            "CPU times: user 17 s, sys: 49 ms, total: 17.1 s\n",
            "Wall time: 17.1 s\n"
          ]
        }
      ],
      "source": [
        "%%time\n",
        "data = final_data(msft_hist)\n",
        "predictions = backtest(data, model_rf, predictors, use_predict_proba=True)\n",
        "metricks(predictions)"
      ],
      "id": "wpB3lebDMRnN"
    },
    {
      "cell_type": "code",
      "execution_count": 85,
      "metadata": {
        "id": "fNmB7yObMRnN",
        "colab": {
          "base_uri": "https://localhost:8080/"
        },
        "outputId": "65a417a1-9b21-487e-9bd3-3819581b6840"
      },
      "outputs": [
        {
          "output_type": "execute_result",
          "data": {
            "text/plain": [
              "0.0    8064\n",
              "1.0     141\n",
              "Name: Predictions, dtype: int64"
            ]
          },
          "metadata": {},
          "execution_count": 85
        }
      ],
      "source": [
        "predictions['Predictions'].value_counts()"
      ],
      "id": "fNmB7yObMRnN"
    },
    {
      "cell_type": "code",
      "execution_count": 86,
      "metadata": {
        "id": "EDBRMJcOMRnN",
        "colab": {
          "base_uri": "https://localhost:8080/"
        },
        "outputId": "2f8e62f0-9574-4986-ceed-3f6f9750a821"
      },
      "outputs": [
        {
          "output_type": "stream",
          "name": "stdout",
          "text": [
            "precision_score: 0.521\n",
            "CPU times: user 2 s, sys: 6.76 ms, total: 2.01 s\n",
            "Wall time: 2.01 s\n"
          ]
        }
      ],
      "source": [
        "%%time\n",
        "# model_drt\n",
        "data = final_data(msft_hist)\n",
        "predictions = backtest(data, model_drt, predictors, use_predict_proba=True)\n",
        "metricks(predictions)"
      ],
      "id": "EDBRMJcOMRnN"
    },
    {
      "cell_type": "code",
      "execution_count": 87,
      "metadata": {
        "id": "qGDeoowiMRnN",
        "colab": {
          "base_uri": "https://localhost:8080/"
        },
        "outputId": "290a27cb-4dab-4939-fdf6-23dec6ac3b14"
      },
      "outputs": [
        {
          "output_type": "stream",
          "name": "stdout",
          "text": [
            "precision_score: 0.552\n",
            "CPU times: user 15.6 s, sys: 11.9 s, total: 27.5 s\n",
            "Wall time: 16.2 s\n"
          ]
        }
      ],
      "source": [
        "%%time\n",
        "# model_mlp\n",
        "data = final_data(msft_hist)\n",
        "predictions = backtest(data, model_mlp, predictors, use_predict_proba=True)\n",
        "metricks(predictions)"
      ],
      "id": "qGDeoowiMRnN"
    },
    {
      "cell_type": "code",
      "execution_count": 88,
      "metadata": {
        "id": "LJiVTIrrMRnN"
      },
      "outputs": [],
      "source": [
        "import time"
      ],
      "id": "LJiVTIrrMRnN"
    },
    {
      "cell_type": "code",
      "execution_count": 89,
      "metadata": {
        "id": "zV_qvIxEMRnN",
        "colab": {
          "base_uri": "https://localhost:8080/"
        },
        "outputId": "46e31a36-cafc-4750-f898-4362da077160"
      },
      "outputs": [
        {
          "output_type": "stream",
          "name": "stdout",
          "text": [
            "precision_score: 0.508\n",
            "CPU times: user 1.03 s, sys: 69.8 ms, total: 1.1 s\n",
            "Wall time: 1.03 s\n"
          ]
        }
      ],
      "source": [
        "%%time\n",
        "# model_mnb\n",
        "data = final_data(msft_hist)\n",
        "predictions = backtest(data, model_mnb, predictors, use_predict_proba=False)\n",
        "metricks(predictions)"
      ],
      "id": "zV_qvIxEMRnN"
    },
    {
      "cell_type": "code",
      "execution_count": 90,
      "metadata": {
        "id": "5S4P1Lm9MRnN",
        "colab": {
          "base_uri": "https://localhost:8080/"
        },
        "outputId": "6797f609-bad0-44d1-c73e-b64959a01fe6"
      },
      "outputs": [
        {
          "output_type": "stream",
          "name": "stdout",
          "text": [
            "precision_score: 0.51\n",
            "CPU times: user 27.2 s, sys: 292 ms, total: 27.5 s\n",
            "Wall time: 27.4 s\n"
          ]
        }
      ],
      "source": [
        "%%time\n",
        "# model_svc_l\n",
        "data = final_data(msft_hist)\n",
        "predictions = backtest(data, model_svc_l, predictors, use_predict_proba=False)\n",
        "metricks(predictions)"
      ],
      "id": "5S4P1Lm9MRnN"
    },
    {
      "cell_type": "code",
      "execution_count": 91,
      "metadata": {
        "id": "UFFaZAUEMRnN",
        "colab": {
          "base_uri": "https://localhost:8080/"
        },
        "outputId": "78bda2d8-d3b8-4434-b707-da04a97aa090"
      },
      "outputs": [
        {
          "output_type": "stream",
          "name": "stdout",
          "text": [
            "precision_score: 0.516\n",
            "CPU times: user 45.7 s, sys: 345 ms, total: 46.1 s\n",
            "Wall time: 46 s\n"
          ]
        }
      ],
      "source": [
        "%%time\n",
        "# model_svc_r\n",
        "data = final_data(msft_hist)\n",
        "predictions = backtest(data, model_svc_r, predictors, use_predict_proba=False)\n",
        "metricks(predictions)"
      ],
      "id": "UFFaZAUEMRnN"
    },
    {
      "cell_type": "code",
      "source": [
        "def model_learning(gazp_hist, model_type, predictors, use_predict_proba=False):\n",
        "    \n",
        "    data = final_data(gazp_hist)\n",
        "    predictions = backtest(data, model_type, predictors, use_predict_proba=False)\n",
        "    return {\n",
        "        'model': model_type, \n",
        "        'score': round(precision_score(predictions['Target'], predictions['Predictions']), 3)\n",
        "    }\n",
        "\n",
        "model_types = {\n",
        "    'model_lr': model_lr, 'model_knc': model_knc, 'model_rf': model_rf,\n",
        "    'model_drt': model_drt, 'model_mlp': model_mlp, 'model_mnb': model_mnb,\n",
        "    'model_svc_l': model_svc_l, 'model_svc_r': model_svc_r\n",
        "}\n",
        "model_results = {}\n",
        "gazp_hist = gazp.history(period=\"max\")\n",
        "\n",
        "for model_name, model_type in model_types.items():\n",
        "    data = final_data(gazp_hist.copy())\n",
        "    model_results[model_name] = model_learning(gazp_hist, model_type, predictors)\n",
        "\n",
        "model_results"
      ],
      "metadata": {
        "colab": {
          "base_uri": "https://localhost:8080/"
        },
        "id": "PpTB4sc0_cTq",
        "outputId": "133af9a8-4337-4638-b9a1-99b919dab01f"
      },
      "execution_count": 92,
      "outputs": [
        {
          "output_type": "execute_result",
          "data": {
            "text/plain": [
              "{'model_lr': {'model': LogisticRegression(max_iter=2000, random_state=0),\n",
              "  'score': 0.545},\n",
              " 'model_knc': {'model': KNeighborsClassifier(n_neighbors=3), 'score': 0.543},\n",
              " 'model_rf': {'model': RandomForestClassifier(max_depth=5, min_samples_leaf=4, min_samples_split=200,\n",
              "                         random_state=1), 'score': 0.524},\n",
              " 'model_drt': {'model': DecisionTreeClassifier(max_depth=5, min_samples_leaf=5, min_samples_split=5,\n",
              "                         random_state=42), 'score': 0.527},\n",
              " 'model_mlp': {'model': MLPClassifier(max_iter=2000, random_state=1),\n",
              "  'score': 0.537},\n",
              " 'model_mnb': {'model': MultinomialNB(), 'score': 0.535},\n",
              " 'model_svc_l': {'model': SVC(kernel='linear'), 'score': 0.535},\n",
              " 'model_svc_r': {'model': SVC(), 'score': 0.517}}"
            ]
          },
          "metadata": {},
          "execution_count": 92
        }
      ],
      "id": "PpTB4sc0_cTq"
    },
    {
      "cell_type": "code",
      "source": [
        "import seaborn as sns\n",
        "X_model, Y_model = [], []\n",
        "for row in sorted([(k, v.get('score')) for k, v in model_results.items()], key=lambda x: x[1]):\n",
        "    x, y = row\n",
        "    X_model.append(x), Y_model.append(y)\n",
        "raw_data = {'X_model': X_model, 'Y_model': Y_model}\n",
        "plt.ylim(0.48, 0.555)\n",
        "sns.barplot(x='X_model', y='Y_model', data=raw_data)"
      ],
      "metadata": {
        "colab": {
          "base_uri": "https://localhost:8080/",
          "height": 364
        },
        "id": "MjzuIv3-_cTq",
        "outputId": "75766ddc-03de-4e94-d33a-774c0b740b14"
      },
      "execution_count": 93,
      "outputs": [
        {
          "output_type": "execute_result",
          "data": {
            "text/plain": [
              "<matplotlib.axes._subplots.AxesSubplot at 0x7fc6c8aa5670>"
            ]
          },
          "metadata": {},
          "execution_count": 93
        },
        {
          "output_type": "display_data",
          "data": {
            "text/plain": [
              "<Figure size 576x396 with 1 Axes>"
            ],
            "image/png": "[encoded data removed]"
          },
          "metadata": {}
        }
      ],
      "id": "MjzuIv3-_cTq"
    },
    {
      "cell_type": "markdown",
      "source": [
        "Повторили весь алгоритм для акции российского фондового рынка"
      ],
      "metadata": {
        "id": "6g4d4wdp_QOb"
      },
      "id": "6g4d4wdp_QOb"
    },
    {
      "cell_type": "markdown",
      "source": [
        "### Заключение"
      ],
      "metadata": {
        "id": "7yjc5P5_cMxy"
      },
      "id": "7yjc5P5_cMxy"
    },
    {
      "cell_type": "code",
      "execution_count": null,
      "metadata": {
        "colab": {
          "base_uri": "https://localhost:8080/",
          "height": 238
        },
        "outputId": "b4a15f9c-f21a-4ca6-9ad5-e9f74604226a",
        "id": "wbnjvzW98qHo"
      },
      "outputs": [
        {
          "output_type": "execute_result",
          "data": {
            "text/plain": [
              "                           Actual_Close  Target     Close        Volume  \\\n",
              "Date                                                                      \n",
              "1986-03-14 00:00:00-05:00      0.062980     1.0  0.060809  1.031789e+09   \n",
              "1986-03-17 00:00:00-05:00      0.064067     1.0  0.062980  3.081600e+08   \n",
              "1986-03-18 00:00:00-05:00      0.062437     0.0  0.064067  1.331712e+08   \n",
              "1986-03-19 00:00:00-05:00      0.061351     0.0  0.062437  6.776640e+07   \n",
              "1986-03-20 00:00:00-05:00      0.059723     0.0  0.061351  4.789440e+07   \n",
              "\n",
              "                               Open      High       Low  \n",
              "Date                                                     \n",
              "1986-03-14 00:00:00-05:00  0.055380  0.063524  0.055380  \n",
              "1986-03-17 00:00:00-05:00  0.060809  0.064067  0.060809  \n",
              "1986-03-18 00:00:00-05:00  0.062980  0.064609  0.062980  \n",
              "1986-03-19 00:00:00-05:00  0.064067  0.064609  0.061894  \n",
              "1986-03-20 00:00:00-05:00  0.062437  0.062980  0.060809  "
            ],
            "text/html": [
              "\n",
              "  <div id=\"df-63662945-e2b8-4e36-a278-2e8ee30346f4\">\n",
              "    <div class=\"colab-df-container\">\n",
              "      <div>\n",
              "<style scoped>\n",
              "    .dataframe tbody tr th:only-of-type {\n",
              "        vertical-align: middle;\n",
              "    }\n",
              "\n",
              "    .dataframe tbody tr th {\n",
              "        vertical-align: top;\n",
              "    }\n",
              "\n",
              "    .dataframe thead th {\n",
              "        text-align: right;\n",
              "    }\n",
              "</style>\n",
              "<table border=\"1\" class=\"dataframe\">\n",
              "  <thead>\n",
              "    <tr style=\"text-align: right;\">\n",
              "      <th></th>\n",
              "      <th>Actual_Close</th>\n",
              "      <th>Target</th>\n",
              "      <th>Close</th>\n",
              "      <th>Volume</th>\n",
              "      <th>Open</th>\n",
              "      <th>High</th>\n",
              "      <th>Low</th>\n",
              "    </tr>\n",
              "    <tr>\n",
              "      <th>Date</th>\n",
              "      <th></th>\n",
              "      <th></th>\n",
              "      <th></th>\n",
              "      <th></th>\n",
              "      <th></th>\n",
              "      <th></th>\n",
              "      <th></th>\n",
              "    </tr>\n",
              "  </thead>\n",
              "  <tbody>\n",
              "    <tr>\n",
              "      <th>1986-03-14 00:00:00-05:00</th>\n",
              "      <td>0.062980</td>\n",
              "      <td>1.0</td>\n",
              "      <td>0.060809</td>\n",
              "      <td>1.031789e+09</td>\n",
              "      <td>0.055380</td>\n",
              "      <td>0.063524</td>\n",
              "      <td>0.055380</td>\n",
              "    </tr>\n",
              "    <tr>\n",
              "      <th>1986-03-17 00:00:00-05:00</th>\n",
              "      <td>0.064067</td>\n",
              "      <td>1.0</td>\n",
              "      <td>0.062980</td>\n",
              "      <td>3.081600e+08</td>\n",
              "      <td>0.060809</td>\n",
              "      <td>0.064067</td>\n",
              "      <td>0.060809</td>\n",
              "    </tr>\n",
              "    <tr>\n",
              "      <th>1986-03-18 00:00:00-05:00</th>\n",
              "      <td>0.062437</td>\n",
              "      <td>0.0</td>\n",
              "      <td>0.064067</td>\n",
              "      <td>1.331712e+08</td>\n",
              "      <td>0.062980</td>\n",
              "      <td>0.064609</td>\n",
              "      <td>0.062980</td>\n",
              "    </tr>\n",
              "    <tr>\n",
              "      <th>1986-03-19 00:00:00-05:00</th>\n",
              "      <td>0.061351</td>\n",
              "      <td>0.0</td>\n",
              "      <td>0.062437</td>\n",
              "      <td>6.776640e+07</td>\n",
              "      <td>0.064067</td>\n",
              "      <td>0.064609</td>\n",
              "      <td>0.061894</td>\n",
              "    </tr>\n",
              "    <tr>\n",
              "      <th>1986-03-20 00:00:00-05:00</th>\n",
              "      <td>0.059723</td>\n",
              "      <td>0.0</td>\n",
              "      <td>0.061351</td>\n",
              "      <td>4.789440e+07</td>\n",
              "      <td>0.062437</td>\n",
              "      <td>0.062980</td>\n",
              "      <td>0.060809</td>\n",
              "    </tr>\n",
              "  </tbody>\n",
              "</table>\n",
              "</div>\n",
              "      <button class=\"colab-df-convert\" onclick=\"convertToInteractive('df-63662945-e2b8-4e36-a278-2e8ee30346f4')\"\n",
              "              title=\"Convert this dataframe to an interactive table.\"\n",
              "              style=\"display:none;\">\n",
              "        \n",
              "  <svg xmlns=\"http://www.w3.org/2000/svg\" height=\"24px\"viewBox=\"0 0 24 24\"\n",
              "       width=\"24px\">\n",
              "    <path d=\"M0 0h24v24H0V0z\" fill=\"none\"/>\n",
              "    <path d=\"M18.56 5.44l.94 2.06.94-2.06 2.06-.94-2.06-.94-.94-2.06-.94 2.06-2.06.94zm-11 1L8.5 8.5l.94-2.06 2.06-.94-2.06-.94L8.5 2.5l-.94 2.06-2.06.94zm10 10l.94 2.06.94-2.06 2.06-.94-2.06-.94-.94-2.06-.94 2.06-2.06.94z\"/><path d=\"M17.41 7.96l-1.37-1.37c-.4-.4-.92-.59-1.43-.59-.52 0-1.04.2-1.43.59L10.3 9.45l-7.72 7.72c-.78.78-.78 2.05 0 2.83L4 21.41c.39.39.9.59 1.41.59.51 0 1.02-.2 1.41-.59l7.78-7.78 2.81-2.81c.8-.78.8-2.07 0-2.86zM5.41 20L4 18.59l7.72-7.72 1.47 1.35L5.41 20z\"/>\n",
              "  </svg>\n",
              "      </button>\n",
              "      \n",
              "  <style>\n",
              "    .colab-df-container {\n",
              "      display:flex;\n",
              "      flex-wrap:wrap;\n",
              "      gap: 12px;\n",
              "    }\n",
              "\n",
              "    .colab-df-convert {\n",
              "      background-color: #E8F0FE;\n",
              "      border: none;\n",
              "      border-radius: 50%;\n",
              "      cursor: pointer;\n",
              "      display: none;\n",
              "      fill: #1967D2;\n",
              "      height: 32px;\n",
              "      padding: 0 0 0 0;\n",
              "      width: 32px;\n",
              "    }\n",
              "\n",
              "    .colab-df-convert:hover {\n",
              "      background-color: #E2EBFA;\n",
              "      box-shadow: 0px 1px 2px rgba(60, 64, 67, 0.3), 0px 1px 3px 1px rgba(60, 64, 67, 0.15);\n",
              "      fill: #174EA6;\n",
              "    }\n",
              "\n",
              "    [theme=dark] .colab-df-convert {\n",
              "      background-color: #3B4455;\n",
              "      fill: #D2E3FC;\n",
              "    }\n",
              "\n",
              "    [theme=dark] .colab-df-convert:hover {\n",
              "      background-color: #434B5C;\n",
              "      box-shadow: 0px 1px 3px 1px rgba(0, 0, 0, 0.15);\n",
              "      filter: drop-shadow(0px 1px 2px rgba(0, 0, 0, 0.3));\n",
              "      fill: #FFFFFF;\n",
              "    }\n",
              "  </style>\n",
              "\n",
              "      <script>\n",
              "        const buttonEl =\n",
              "          document.querySelector('#df-63662945-e2b8-4e36-a278-2e8ee30346f4 button.colab-df-convert');\n",
              "        buttonEl.style.display =\n",
              "          google.colab.kernel.accessAllowed ? 'block' : 'none';\n",
              "\n",
              "        async function convertToInteractive(key) {\n",
              "          const element = document.querySelector('#df-63662945-e2b8-4e36-a278-2e8ee30346f4');\n",
              "          const dataTable =\n",
              "            await google.colab.kernel.invokeFunction('convertToInteractive',\n",
              "                                                     [key], {});\n",
              "          if (!dataTable) return;\n",
              "\n",
              "          const docLinkHtml = 'Like what you see? Visit the ' +\n",
              "            '<a target=\"_blank\" href=https://colab.research.google.com/notebooks/data_table.ipynb>data table notebook</a>'\n",
              "            + ' to learn more about interactive tables.';\n",
              "          element.innerHTML = '';\n",
              "          dataTable['output_type'] = 'display_data';\n",
              "          await google.colab.output.renderOutput(dataTable, element);\n",
              "          const docLink = document.createElement('div');\n",
              "          docLink.innerHTML = docLinkHtml;\n",
              "          element.appendChild(docLink);\n",
              "        }\n",
              "      </script>\n",
              "    </div>\n",
              "  </div>\n",
              "  "
            ]
          },
          "metadata": {},
          "execution_count": 12
        }
      ],
      "source": [
        "predictors = [\"Close\", \"Volume\", \"Open\", \"High\", \"Low\"]\n",
        "\n",
        "data = data.join(msft_prev[predictors]).iloc[1:]\n",
        "data.head()"
      ],
      "id": "wbnjvzW98qHo"
    },
    {
      "cell_type": "code",
      "source": [
        "sum(data['Target']==1)/len(data['Target'])"
      ],
      "metadata": {
        "colab": {
          "base_uri": "https://localhost:8080/"
        },
        "outputId": "5fc3d148-9312-4c15-b888-44b05dbbc508",
        "id": "Ogq7i1i88qHo"
      },
      "execution_count": null,
      "outputs": [
        {
          "output_type": "execute_result",
          "data": {
            "text/plain": [
              "0.4943988050784167"
            ]
          },
          "metadata": {},
          "execution_count": 99
        }
      ],
      "id": "Ogq7i1i88qHo"
    },
    {
      "cell_type": "markdown",
      "source": [
        "В ходе выполнения данной курсовой работы был создан инструмент по предсказанию роста цены акции, основанный на методах машинного обучения с учителем, а также на методах и приемах подготовительного и описательного анализа данных. Инструмент не идеален, и открыт к дальнейшим усовершенствованиям. Также стоит упоминуть о балансе класснов, для этого обратимся к когду выше, как мы видим соотношение 1 и 0 в Target приблизительно 50/50. Более того данный инструмент дает небольшое конкурентное преимущество на фондовом рынке, однако необходимо отметить, что хоть данный интсрумент показывает эффективность выше, чем при покупке наугад. Ведь покупая наугад мы фактически играем в 'Орел или Решка', но тем не менее машинное обучение не так хорошо работает для предсказания цены акции, ведь если бы оно могло угадывать рост или падение акции с высокой вероятностью, то проигравших на фондовом рынке не было бы, именно поэтому данный инструмент открыт для дальнейшего усовершенствования. "
      ],
      "metadata": {
        "id": "MxAlia8kcQhI"
      },
      "id": "MxAlia8kcQhI"
    }
  ],
  "metadata": {
    "kernelspec": {
      "display_name": "Python 3 (ipykernel)",
      "language": "python",
      "name": "python3"
    },
    "language_info": {
      "codemirror_mode": {
        "name": "ipython",
        "version": 3
      },
      "file_extension": ".py",
      "mimetype": "text/x-python",
      "name": "python",
      "nbconvert_exporter": "python",
      "pygments_lexer": "ipython3",
      "version": "3.9.7"
    },
    "colab": {
      "provenance": [],
      "collapsed_sections": [
        "4950a9d2",
        "e9331ec3",
        "KT9HCK2URi92",
        "7yjc5P5_cMxy"
      ]
    }
  },
  "nbformat": 4,
  "nbformat_minor": 5
}